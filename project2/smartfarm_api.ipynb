{
 "cells": [
  {
   "cell_type": "code",
   "execution_count": 1,
   "id": "1ccebd6c",
   "metadata": {},
   "outputs": [],
   "source": [
    "import requests, json, urllib\n",
    "from urllib import request"
   ]
  },
  {
   "cell_type": "code",
   "execution_count": 2,
   "id": "33c73af5",
   "metadata": {},
   "outputs": [],
   "source": [
    "straw_codes = [81, 9, 21, 25, 27, 28, 29, 31, 32, 39, 42, 44, \n",
    "              45, 48, 50, 51, 53, 54, 56, 57, 59, 201, 202,\n",
    "              204, 205, 206, 207, 209, 210, 315, 316, 318, 319, \n",
    "              320, 324, 325, 326, 327, 332, 339, 344, 345, 349]\n"
   ]
  },
  {
   "cell_type": "code",
   "execution_count": 3,
   "id": "32a5ef76",
   "metadata": {},
   "outputs": [
    {
     "data": {
      "text/plain": [
       "43"
      ]
     },
     "execution_count": 3,
     "metadata": {},
     "output_type": "execute_result"
    }
   ],
   "source": [
    "len(straw_codes)"
   ]
  },
  {
   "cell_type": "code",
   "execution_count": 4,
   "id": "4335055c",
   "metadata": {},
   "outputs": [],
   "source": [
    "key = \"k843MsctCfKXzXdaTNgsDy1E3P0FjqIAIbLJsl2%2FPztjbvYnvD8epkOT2KnJ6uBwpOvpHUNqILkPpMh910yeKA%3D%3D\"\n",
    "\n",
    "outputs = []\n",
    "\n",
    "for code in straw_codes:\n",
    "    url = f\"http://apis.data.go.kr/1390000/SmartFarmdata/grwdatarqst?serviceKey={key}&pageSize=50&pageNo=1&searchFrmhsCode={code}&returnType=json\"\n",
    "    \n",
    "    data = request.urlopen(url).read()\n",
    "    output = json.loads(data)\n",
    "    \n",
    "    outputs.append(output['response']['body']['items']['item'])\n",
    "    "
   ]
  },
  {
   "cell_type": "code",
   "execution_count": 5,
   "id": "4244248e",
   "metadata": {},
   "outputs": [
    {
     "data": {
      "text/plain": [
       "43"
      ]
     },
     "execution_count": 5,
     "metadata": {},
     "output_type": "execute_result"
    }
   ],
   "source": [
    "len(outputs)"
   ]
  },
  {
   "cell_type": "code",
   "execution_count": 6,
   "id": "1ebe8413",
   "metadata": {},
   "outputs": [],
   "source": [
    "outputs_flat = sum(outputs, [])"
   ]
  },
  {
   "cell_type": "code",
   "execution_count": 7,
   "id": "f0f1dbeb",
   "metadata": {},
   "outputs": [
    {
     "data": {
      "text/plain": [
       "{'frtstGrupp': 0.0,\n",
       " 'lefstalklt': 0.0,\n",
       " 'frtstSetCo': 0.0,\n",
       " 'pllnLt': 0.0,\n",
       " 'flanGrupp': 0.0,\n",
       " 'frtstCo': 0.0,\n",
       " 'flanJnt': 0.0,\n",
       " 'tcdmt': 0.0,\n",
       " 'frmhsFclu': 0.0,\n",
       " 'hvstGrupp': 0.0,\n",
       " 'hvstJnt': 0.0,\n",
       " 'frmYear': '2017',\n",
       " 'frmMonth': '8',\n",
       " 'grwtLt': 0.0,\n",
       " 'fcluHg': 0.0,\n",
       " 'frmhsId': '81',\n",
       " 'lefLt': 0.0,\n",
       " 'flwrCo': 0.0,\n",
       " 'hvstCo': 0.0,\n",
       " 'frmWeek': '31',\n",
       " 'lefCunt': 0.0,\n",
       " 'frtstJnt': 0.0,\n",
       " 'lefBt': 0.0,\n",
       " 'stemThck': 0.0}"
      ]
     },
     "execution_count": 7,
     "metadata": {},
     "output_type": "execute_result"
    }
   ],
   "source": [
    "outputs_flat[0]"
   ]
  },
  {
   "cell_type": "code",
   "execution_count": 12,
   "id": "38360c18",
   "metadata": {},
   "outputs": [],
   "source": [
    "import pandas as pd\n",
    "from pandas.io.json import json_normalize\n",
    "\n",
    "# 모든 컬럼이 표시되도록 max_columns 의 수를 지정합니다.\n",
    "pd.options.display.max_columns = 94"
   ]
  },
  {
   "cell_type": "code",
   "execution_count": 13,
   "id": "f131c51d",
   "metadata": {},
   "outputs": [
    {
     "name": "stderr",
     "output_type": "stream",
     "text": [
      "C:\\Users\\Jung\\AppData\\Local\\Temp/ipykernel_9188/841168078.py:1: FutureWarning: pandas.io.json.json_normalize is deprecated, use pandas.json_normalize instead\n",
      "  df = json_normalize(outputs_flat)\n"
     ]
    }
   ],
   "source": [
    "df = json_normalize(outputs_flat)"
   ]
  },
  {
   "cell_type": "code",
   "execution_count": 14,
   "id": "103c637e",
   "metadata": {},
   "outputs": [
    {
     "data": {
      "text/html": [
       "<div>\n",
       "<style scoped>\n",
       "    .dataframe tbody tr th:only-of-type {\n",
       "        vertical-align: middle;\n",
       "    }\n",
       "\n",
       "    .dataframe tbody tr th {\n",
       "        vertical-align: top;\n",
       "    }\n",
       "\n",
       "    .dataframe thead th {\n",
       "        text-align: right;\n",
       "    }\n",
       "</style>\n",
       "<table border=\"1\" class=\"dataframe\">\n",
       "  <thead>\n",
       "    <tr style=\"text-align: right;\">\n",
       "      <th></th>\n",
       "      <th>frtstGrupp</th>\n",
       "      <th>lefstalklt</th>\n",
       "      <th>frtstSetCo</th>\n",
       "      <th>pllnLt</th>\n",
       "      <th>flanGrupp</th>\n",
       "      <th>frtstCo</th>\n",
       "      <th>flanJnt</th>\n",
       "      <th>tcdmt</th>\n",
       "      <th>frmhsFclu</th>\n",
       "      <th>hvstGrupp</th>\n",
       "      <th>hvstJnt</th>\n",
       "      <th>frmYear</th>\n",
       "      <th>frmMonth</th>\n",
       "      <th>grwtLt</th>\n",
       "      <th>fcluHg</th>\n",
       "      <th>frmhsId</th>\n",
       "      <th>lefLt</th>\n",
       "      <th>flwrCo</th>\n",
       "      <th>hvstCo</th>\n",
       "      <th>frmWeek</th>\n",
       "      <th>lefCunt</th>\n",
       "      <th>frtstJnt</th>\n",
       "      <th>lefBt</th>\n",
       "      <th>stemThck</th>\n",
       "    </tr>\n",
       "  </thead>\n",
       "  <tbody>\n",
       "    <tr>\n",
       "      <th>0</th>\n",
       "      <td>0.0</td>\n",
       "      <td>0.0</td>\n",
       "      <td>0.0</td>\n",
       "      <td>0.0</td>\n",
       "      <td>0.0</td>\n",
       "      <td>0.0</td>\n",
       "      <td>0.0</td>\n",
       "      <td>0.0</td>\n",
       "      <td>0.0</td>\n",
       "      <td>0.0</td>\n",
       "      <td>0.0</td>\n",
       "      <td>2017</td>\n",
       "      <td>8</td>\n",
       "      <td>0.0</td>\n",
       "      <td>0.0</td>\n",
       "      <td>81</td>\n",
       "      <td>0.0</td>\n",
       "      <td>0.0</td>\n",
       "      <td>0.0</td>\n",
       "      <td>31</td>\n",
       "      <td>0.0</td>\n",
       "      <td>0.0</td>\n",
       "      <td>0.0</td>\n",
       "      <td>0.0</td>\n",
       "    </tr>\n",
       "    <tr>\n",
       "      <th>1</th>\n",
       "      <td>0.0</td>\n",
       "      <td>0.0</td>\n",
       "      <td>0.0</td>\n",
       "      <td>0.0</td>\n",
       "      <td>0.0</td>\n",
       "      <td>0.0</td>\n",
       "      <td>0.0</td>\n",
       "      <td>0.0</td>\n",
       "      <td>0.0</td>\n",
       "      <td>0.0</td>\n",
       "      <td>0.0</td>\n",
       "      <td>2017</td>\n",
       "      <td>8</td>\n",
       "      <td>0.0</td>\n",
       "      <td>0.0</td>\n",
       "      <td>81</td>\n",
       "      <td>0.0</td>\n",
       "      <td>0.0</td>\n",
       "      <td>0.0</td>\n",
       "      <td>32</td>\n",
       "      <td>0.0</td>\n",
       "      <td>0.0</td>\n",
       "      <td>0.0</td>\n",
       "      <td>0.0</td>\n",
       "    </tr>\n",
       "    <tr>\n",
       "      <th>2</th>\n",
       "      <td>0.0</td>\n",
       "      <td>0.0</td>\n",
       "      <td>0.0</td>\n",
       "      <td>0.0</td>\n",
       "      <td>0.0</td>\n",
       "      <td>0.0</td>\n",
       "      <td>0.0</td>\n",
       "      <td>0.0</td>\n",
       "      <td>0.0</td>\n",
       "      <td>0.0</td>\n",
       "      <td>0.0</td>\n",
       "      <td>2017</td>\n",
       "      <td>8</td>\n",
       "      <td>0.0</td>\n",
       "      <td>0.0</td>\n",
       "      <td>81</td>\n",
       "      <td>0.0</td>\n",
       "      <td>0.0</td>\n",
       "      <td>0.0</td>\n",
       "      <td>33</td>\n",
       "      <td>0.0</td>\n",
       "      <td>0.0</td>\n",
       "      <td>0.0</td>\n",
       "      <td>0.0</td>\n",
       "    </tr>\n",
       "    <tr>\n",
       "      <th>3</th>\n",
       "      <td>0.0</td>\n",
       "      <td>0.0</td>\n",
       "      <td>0.0</td>\n",
       "      <td>0.0</td>\n",
       "      <td>0.0</td>\n",
       "      <td>0.0</td>\n",
       "      <td>0.0</td>\n",
       "      <td>0.0</td>\n",
       "      <td>0.0</td>\n",
       "      <td>0.0</td>\n",
       "      <td>0.0</td>\n",
       "      <td>2017</td>\n",
       "      <td>8</td>\n",
       "      <td>0.0</td>\n",
       "      <td>0.0</td>\n",
       "      <td>81</td>\n",
       "      <td>0.0</td>\n",
       "      <td>0.0</td>\n",
       "      <td>0.0</td>\n",
       "      <td>34</td>\n",
       "      <td>0.0</td>\n",
       "      <td>0.0</td>\n",
       "      <td>0.0</td>\n",
       "      <td>0.0</td>\n",
       "    </tr>\n",
       "    <tr>\n",
       "      <th>4</th>\n",
       "      <td>0.0</td>\n",
       "      <td>0.0</td>\n",
       "      <td>0.0</td>\n",
       "      <td>0.0</td>\n",
       "      <td>0.0</td>\n",
       "      <td>0.0</td>\n",
       "      <td>0.0</td>\n",
       "      <td>0.0</td>\n",
       "      <td>0.0</td>\n",
       "      <td>0.0</td>\n",
       "      <td>0.0</td>\n",
       "      <td>2017</td>\n",
       "      <td>8</td>\n",
       "      <td>0.0</td>\n",
       "      <td>0.0</td>\n",
       "      <td>81</td>\n",
       "      <td>0.0</td>\n",
       "      <td>0.0</td>\n",
       "      <td>0.0</td>\n",
       "      <td>35</td>\n",
       "      <td>0.0</td>\n",
       "      <td>0.0</td>\n",
       "      <td>0.0</td>\n",
       "      <td>0.0</td>\n",
       "    </tr>\n",
       "  </tbody>\n",
       "</table>\n",
       "</div>"
      ],
      "text/plain": [
       "   frtstGrupp  lefstalklt  frtstSetCo  pllnLt  flanGrupp  frtstCo  flanJnt  \\\n",
       "0         0.0         0.0         0.0     0.0        0.0      0.0      0.0   \n",
       "1         0.0         0.0         0.0     0.0        0.0      0.0      0.0   \n",
       "2         0.0         0.0         0.0     0.0        0.0      0.0      0.0   \n",
       "3         0.0         0.0         0.0     0.0        0.0      0.0      0.0   \n",
       "4         0.0         0.0         0.0     0.0        0.0      0.0      0.0   \n",
       "\n",
       "   tcdmt  frmhsFclu  hvstGrupp  hvstJnt frmYear frmMonth  grwtLt  fcluHg  \\\n",
       "0    0.0        0.0        0.0      0.0    2017        8     0.0     0.0   \n",
       "1    0.0        0.0        0.0      0.0    2017        8     0.0     0.0   \n",
       "2    0.0        0.0        0.0      0.0    2017        8     0.0     0.0   \n",
       "3    0.0        0.0        0.0      0.0    2017        8     0.0     0.0   \n",
       "4    0.0        0.0        0.0      0.0    2017        8     0.0     0.0   \n",
       "\n",
       "  frmhsId  lefLt  flwrCo  hvstCo frmWeek  lefCunt  frtstJnt  lefBt  stemThck  \n",
       "0      81    0.0     0.0     0.0      31      0.0       0.0    0.0       0.0  \n",
       "1      81    0.0     0.0     0.0      32      0.0       0.0    0.0       0.0  \n",
       "2      81    0.0     0.0     0.0      33      0.0       0.0    0.0       0.0  \n",
       "3      81    0.0     0.0     0.0      34      0.0       0.0    0.0       0.0  \n",
       "4      81    0.0     0.0     0.0      35      0.0       0.0    0.0       0.0  "
      ]
     },
     "execution_count": 14,
     "metadata": {},
     "output_type": "execute_result"
    }
   ],
   "source": [
    "df.head()"
   ]
  },
  {
   "cell_type": "code",
   "execution_count": null,
   "id": "a86be389",
   "metadata": {},
   "outputs": [],
   "source": [
    "df.rename(columns={})"
   ]
  }
 ],
 "metadata": {
  "kernelspec": {
   "display_name": "project2",
   "language": "python",
   "name": "project2"
  },
  "language_info": {
   "codemirror_mode": {
    "name": "ipython",
    "version": 3
   },
   "file_extension": ".py",
   "mimetype": "text/x-python",
   "name": "python",
   "nbconvert_exporter": "python",
   "pygments_lexer": "ipython3",
   "version": "3.8.9"
  }
 },
 "nbformat": 4,
 "nbformat_minor": 5
}
