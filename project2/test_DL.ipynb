{
 "cells": [
  {
   "cell_type": "code",
   "execution_count": 1,
   "id": "fd17852d",
   "metadata": {},
   "outputs": [
    {
     "name": "stderr",
     "output_type": "stream",
     "text": [
      "C:\\Users\\Jung\\AppData\\Local\\Temp/ipykernel_14384/3409357287.py:8: DeprecationWarning: `set_matplotlib_formats` is deprecated since IPython 7.23, directly use `matplotlib_inline.backend_inline.set_matplotlib_formats()`\n",
      "  set_matplotlib_formats('retina')\n"
     ]
    }
   ],
   "source": [
    "import os\n",
    "import pandas as pd\n",
    "import matplotlib.pyplot as plt\n",
    "import numpy as np\n",
    "import seaborn as sns\n",
    "\n",
    "from IPython.display import set_matplotlib_formats\n",
    "set_matplotlib_formats('retina')\n",
    "plt.rc('font',family='Malgun Gothic')\n",
    "plt.rc('axes',unicode_minus=False)"
   ]
  },
  {
   "cell_type": "code",
   "execution_count": 2,
   "id": "73576f45",
   "metadata": {},
   "outputs": [],
   "source": [
    "encoding_df = pd.read_csv('dataset/test/ml_water_ms.csv', encoding = 'cp949', index_col = 0)"
   ]
  },
  {
   "cell_type": "code",
   "execution_count": 3,
   "id": "9b059f37",
   "metadata": {},
   "outputs": [
    {
     "data": {
      "text/html": [
       "<div>\n",
       "<style scoped>\n",
       "    .dataframe tbody tr th:only-of-type {\n",
       "        vertical-align: middle;\n",
       "    }\n",
       "\n",
       "    .dataframe tbody tr th {\n",
       "        vertical-align: top;\n",
       "    }\n",
       "\n",
       "    .dataframe thead th {\n",
       "        text-align: right;\n",
       "    }\n",
       "</style>\n",
       "<table border=\"1\" class=\"dataframe\">\n",
       "  <thead>\n",
       "    <tr style=\"text-align: right;\">\n",
       "      <th></th>\n",
       "      <th>품목명</th>\n",
       "      <th>시설유형</th>\n",
       "      <th>재배형태</th>\n",
       "      <th>수집일자(월)</th>\n",
       "      <th>수집시간</th>\n",
       "      <th>내부온도</th>\n",
       "      <th>내부습도</th>\n",
       "    </tr>\n",
       "  </thead>\n",
       "  <tbody>\n",
       "    <tr>\n",
       "      <th>0</th>\n",
       "      <td>오이</td>\n",
       "      <td>비닐</td>\n",
       "      <td>수경</td>\n",
       "      <td>2</td>\n",
       "      <td>0</td>\n",
       "      <td>11.85</td>\n",
       "      <td>95.75</td>\n",
       "    </tr>\n",
       "    <tr>\n",
       "      <th>1</th>\n",
       "      <td>오이</td>\n",
       "      <td>비닐</td>\n",
       "      <td>수경</td>\n",
       "      <td>2</td>\n",
       "      <td>0</td>\n",
       "      <td>11.53</td>\n",
       "      <td>95.63</td>\n",
       "    </tr>\n",
       "    <tr>\n",
       "      <th>2</th>\n",
       "      <td>오이</td>\n",
       "      <td>비닐</td>\n",
       "      <td>수경</td>\n",
       "      <td>2</td>\n",
       "      <td>0</td>\n",
       "      <td>11.70</td>\n",
       "      <td>95.35</td>\n",
       "    </tr>\n",
       "    <tr>\n",
       "      <th>3</th>\n",
       "      <td>오이</td>\n",
       "      <td>비닐</td>\n",
       "      <td>수경</td>\n",
       "      <td>2</td>\n",
       "      <td>0</td>\n",
       "      <td>11.60</td>\n",
       "      <td>95.90</td>\n",
       "    </tr>\n",
       "    <tr>\n",
       "      <th>4</th>\n",
       "      <td>오이</td>\n",
       "      <td>비닐</td>\n",
       "      <td>수경</td>\n",
       "      <td>2</td>\n",
       "      <td>0</td>\n",
       "      <td>11.25</td>\n",
       "      <td>94.90</td>\n",
       "    </tr>\n",
       "  </tbody>\n",
       "</table>\n",
       "</div>"
      ],
      "text/plain": [
       "  품목명 시설유형 재배형태  수집일자(월)  수집시간   내부온도   내부습도\n",
       "0  오이   비닐   수경        2     0  11.85  95.75\n",
       "1  오이   비닐   수경        2     0  11.53  95.63\n",
       "2  오이   비닐   수경        2     0  11.70  95.35\n",
       "3  오이   비닐   수경        2     0  11.60  95.90\n",
       "4  오이   비닐   수경        2     0  11.25  94.90"
      ]
     },
     "execution_count": 3,
     "metadata": {},
     "output_type": "execute_result"
    }
   ],
   "source": [
    "encoding_df.head()"
   ]
  },
  {
   "cell_type": "code",
   "execution_count": 4,
   "id": "5f803b65",
   "metadata": {},
   "outputs": [],
   "source": [
    "from sklearn.preprocessing import LabelEncoder\n",
    "\n",
    "def encode_features(dataDF):\n",
    "    features = ['품목명', '시설유형', '재배형태']\n",
    "    for feature in features:\n",
    "        le = LabelEncoder()\n",
    "        le = le.fit(dataDF[feature])\n",
    "        dataDF[feature] = le.transform(dataDF[feature])\n",
    "        \n",
    "    return dataDF\n",
    "\n",
    "def drop_features(df):\n",
    "    df.drop(['시설유형', '재배형태'],axis=1,inplace=True)\n",
    "    return df\n",
    "\n",
    "def change_features(df):\n",
    "    df['내부온도'] = round(df['내부온도'],1)\n",
    "    df['내부습도'] = round(df['내부습도'],1)\n",
    "    return df\n",
    "\n",
    "def transform_features(df):\n",
    "    df = encode_features(df)\n",
    "    df = drop_features(df)\n",
    "    df = change_features(df)\n",
    "    return df"
   ]
  },
  {
   "cell_type": "code",
   "execution_count": 5,
   "id": "8a17b486",
   "metadata": {},
   "outputs": [],
   "source": [
    "encoding_data = encoding_df.copy()"
   ]
  },
  {
   "cell_type": "code",
   "execution_count": 6,
   "id": "68c202a0",
   "metadata": {},
   "outputs": [
    {
     "data": {
      "text/html": [
       "<div>\n",
       "<style scoped>\n",
       "    .dataframe tbody tr th:only-of-type {\n",
       "        vertical-align: middle;\n",
       "    }\n",
       "\n",
       "    .dataframe tbody tr th {\n",
       "        vertical-align: top;\n",
       "    }\n",
       "\n",
       "    .dataframe thead th {\n",
       "        text-align: right;\n",
       "    }\n",
       "</style>\n",
       "<table border=\"1\" class=\"dataframe\">\n",
       "  <thead>\n",
       "    <tr style=\"text-align: right;\">\n",
       "      <th></th>\n",
       "      <th>품목명</th>\n",
       "      <th>수집일자(월)</th>\n",
       "      <th>수집시간</th>\n",
       "      <th>내부온도</th>\n",
       "      <th>내부습도</th>\n",
       "    </tr>\n",
       "  </thead>\n",
       "  <tbody>\n",
       "    <tr>\n",
       "      <th>0</th>\n",
       "      <td>2</td>\n",
       "      <td>2</td>\n",
       "      <td>0</td>\n",
       "      <td>11.8</td>\n",
       "      <td>95.8</td>\n",
       "    </tr>\n",
       "    <tr>\n",
       "      <th>1</th>\n",
       "      <td>2</td>\n",
       "      <td>2</td>\n",
       "      <td>0</td>\n",
       "      <td>11.5</td>\n",
       "      <td>95.6</td>\n",
       "    </tr>\n",
       "    <tr>\n",
       "      <th>2</th>\n",
       "      <td>2</td>\n",
       "      <td>2</td>\n",
       "      <td>0</td>\n",
       "      <td>11.7</td>\n",
       "      <td>95.4</td>\n",
       "    </tr>\n",
       "    <tr>\n",
       "      <th>3</th>\n",
       "      <td>2</td>\n",
       "      <td>2</td>\n",
       "      <td>0</td>\n",
       "      <td>11.6</td>\n",
       "      <td>95.9</td>\n",
       "    </tr>\n",
       "    <tr>\n",
       "      <th>4</th>\n",
       "      <td>2</td>\n",
       "      <td>2</td>\n",
       "      <td>0</td>\n",
       "      <td>11.2</td>\n",
       "      <td>94.9</td>\n",
       "    </tr>\n",
       "  </tbody>\n",
       "</table>\n",
       "</div>"
      ],
      "text/plain": [
       "   품목명  수집일자(월)  수집시간  내부온도  내부습도\n",
       "0    2        2     0  11.8  95.8\n",
       "1    2        2     0  11.5  95.6\n",
       "2    2        2     0  11.7  95.4\n",
       "3    2        2     0  11.6  95.9\n",
       "4    2        2     0  11.2  94.9"
      ]
     },
     "execution_count": 6,
     "metadata": {},
     "output_type": "execute_result"
    }
   ],
   "source": [
    "encoding_data = transform_features(encoding_data)\n",
    "encoding_data.head()"
   ]
  },
  {
   "cell_type": "code",
   "execution_count": 7,
   "id": "be256405",
   "metadata": {},
   "outputs": [],
   "source": [
    "from sklearn.model_selection import train_test_split\n",
    "\n",
    "X = encoding_data.drop('내부온도', axis = 1)\n",
    "Y = encoding_data['내부온도']\n",
    "seed = 11\n",
    "X_train, X_test, y_train, y_test = train_test_split(X, Y, test_size=0.3, random_state = seed)"
   ]
  },
  {
   "cell_type": "code",
   "execution_count": 9,
   "id": "72c1c396",
   "metadata": {},
   "outputs": [
    {
     "data": {
      "text/plain": [
       "(9464, 4)"
      ]
     },
     "execution_count": 9,
     "metadata": {},
     "output_type": "execute_result"
    }
   ],
   "source": [
    "X_train.shape"
   ]
  },
  {
   "cell_type": "code",
   "execution_count": 10,
   "id": "f0ba24dc",
   "metadata": {},
   "outputs": [
    {
     "data": {
      "text/plain": [
       "(4056, 4)"
      ]
     },
     "execution_count": 10,
     "metadata": {},
     "output_type": "execute_result"
    }
   ],
   "source": [
    "X_test.shape"
   ]
  },
  {
   "cell_type": "code",
   "execution_count": null,
   "id": "a8e51058",
   "metadata": {},
   "outputs": [],
   "source": []
  }
 ],
 "metadata": {
  "kernelspec": {
   "display_name": "project2",
   "language": "python",
   "name": "project2"
  },
  "language_info": {
   "codemirror_mode": {
    "name": "ipython",
    "version": 3
   },
   "file_extension": ".py",
   "mimetype": "text/x-python",
   "name": "python",
   "nbconvert_exporter": "python",
   "pygments_lexer": "ipython3",
   "version": "3.8.9"
  }
 },
 "nbformat": 4,
 "nbformat_minor": 5
}
