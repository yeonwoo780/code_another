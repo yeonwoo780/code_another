{
 "cells": [
  {
   "cell_type": "code",
   "execution_count": 1,
   "id": "a64fcb08",
   "metadata": {},
   "outputs": [],
   "source": [
    "import requests, json, urllib\n",
    "from urllib import request\n",
    "import pandas as pd"
   ]
  },
  {
   "cell_type": "code",
   "execution_count": 2,
   "id": "87b42215",
   "metadata": {},
   "outputs": [
    {
     "name": "stdout",
     "output_type": "stream",
     "text": [
      "[{'statusCode': '00', 'statusMessage': 'NORMAL_CODE', 'userId': 'LSDS_001', 'facilityId': 'LSDS_001_01', 'addressName': '경상남도 하동군', 'itemCode': '413000'}, {'statusCode': None, 'statusMessage': None, 'userId': 'LSDS_002', 'facilityId': 'LSDS_002_01', 'addressName': '충청남도 천안시', 'itemCode': '413000'}, {'statusCode': None, 'statusMessage': None, 'userId': 'LSDS_003', 'facilityId': 'LSDS_003_01', 'addressName': '충청남도 천안시', 'itemCode': '413000'}, {'statusCode': None, 'statusMessage': None, 'userId': 'LSDS_005', 'facilityId': 'LSDS_005_01', 'addressName': '경기도 여주군', 'itemCode': '413000'}, {'statusCode': None, 'statusMessage': None, 'userId': 'LSDS_006', 'facilityId': 'LSDS_006_01', 'addressName': '경상북도 포항시', 'itemCode': '413000'}, {'statusCode': None, 'statusMessage': None, 'userId': 'PFS_0000001', 'facilityId': 'PFS_0000001_01', 'addressName': '경상남도 사천시', 'itemCode': '080300'}, {'statusCode': None, 'statusMessage': None, 'userId': 'PFS_0000002', 'facilityId': 'PFS_0000002_01', 'addressName': '전라북도 김제시', 'itemCode': '080300'}, {'statusCode': None, 'statusMessage': None, 'userId': 'PFS_0000003', 'facilityId': 'PFS_0000003_01', 'addressName': '경상남도 함안군', 'itemCode': '080300'}, {'statusCode': None, 'statusMessage': None, 'userId': 'PFS_0000004', 'facilityId': 'PFS_0000004_01', 'addressName': '경상남도 진주시', 'itemCode': '080300'}, {'statusCode': None, 'statusMessage': None, 'userId': 'PFS_0000005', 'facilityId': 'PFS_0000005_01', 'addressName': '경상남도 진주시', 'itemCode': '132600'}, {'statusCode': None, 'statusMessage': None, 'userId': 'PFS_0000006', 'facilityId': 'PFS_0000006_01', 'addressName': '전라북도 순창군', 'itemCode': '080300'}, {'statusCode': None, 'statusMessage': None, 'userId': 'PFS_0000007', 'facilityId': 'PFS_0000007_01', 'addressName': '전라남도 화순군', 'itemCode': '080300'}, {'statusCode': None, 'statusMessage': None, 'userId': 'PFS_0000008', 'facilityId': 'PFS_0000008_01', 'addressName': '전라북도 완주군', 'itemCode': '080300'}, {'statusCode': None, 'statusMessage': None, 'userId': 'PFS_0000009', 'facilityId': 'PFS_0000009_01', 'addressName': '전라북도 김제시', 'itemCode': '080300'}, {'statusCode': None, 'statusMessage': None, 'userId': 'PFS_0000010', 'facilityId': 'PFS_0000010_01', 'addressName': '경상남도 거창군', 'itemCode': '132600'}, {'statusCode': None, 'statusMessage': None, 'userId': 'PF_0000001', 'facilityId': 'PF_0000001_01', 'addressName': '충청남도 부여군', 'itemCode': '080400'}, {'statusCode': None, 'statusMessage': None, 'userId': 'PF_0000002', 'facilityId': 'PF_0000002_01', 'addressName': '충청남도 부여군', 'itemCode': '080300'}, {'statusCode': None, 'statusMessage': None, 'userId': 'PF_0000004', 'facilityId': 'PF_0000004_01', 'addressName': '충청남도 부여군', 'itemCode': '080300'}, {'statusCode': None, 'statusMessage': None, 'userId': 'PF_0000005', 'facilityId': 'PF_0000005_01', 'addressName': '충청남도 부여군', 'itemCode': '080300'}, {'statusCode': None, 'statusMessage': None, 'userId': 'PF_0000006', 'facilityId': 'PF_0000006_01', 'addressName': '충청남도 부여군', 'itemCode': '080300'}, {'statusCode': None, 'statusMessage': None, 'userId': 'PF_0000007', 'facilityId': 'PF_0000007_01', 'addressName': '충청남도 부여군', 'itemCode': '080300'}, {'statusCode': None, 'statusMessage': None, 'userId': 'PF_0000008', 'facilityId': 'PF_0000008_01', 'addressName': '충청남도 부여군', 'itemCode': '080300'}, {'statusCode': None, 'statusMessage': None, 'userId': 'PF_0000009', 'facilityId': 'PF_0000009_01', 'addressName': '충청남도 부여군', 'itemCode': '080300'}, {'statusCode': None, 'statusMessage': None, 'userId': 'PF_0000010', 'facilityId': 'PF_0000010_01', 'addressName': '충청남도 부여군', 'itemCode': '080300'}, {'statusCode': None, 'statusMessage': None, 'userId': 'PF_0000011', 'facilityId': 'PF_0000011_01', 'addressName': '충청남도 논산시', 'itemCode': '080300'}, {'statusCode': None, 'statusMessage': None, 'userId': 'PF_0000012', 'facilityId': 'PF_0000012_01', 'addressName': '충청남도 논산시', 'itemCode': '080300'}, {'statusCode': None, 'statusMessage': None, 'userId': 'PF_0000013', 'facilityId': 'PF_0000013_01', 'addressName': '충청남도 논산시', 'itemCode': '080300'}, {'statusCode': None, 'statusMessage': None, 'userId': 'PF_0000014', 'facilityId': 'PF_0000014_01', 'addressName': '충청남도 논산시', 'itemCode': '080300'}, {'statusCode': None, 'statusMessage': None, 'userId': 'PF_0000015', 'facilityId': 'PF_0000015_01', 'addressName': '충청남도 논산시', 'itemCode': '080300'}, {'statusCode': None, 'statusMessage': None, 'userId': 'PF_0000016', 'facilityId': 'PF_0000016_01', 'addressName': '충청남도 논산시', 'itemCode': '080300'}, {'statusCode': None, 'statusMessage': None, 'userId': 'PF_0000017', 'facilityId': 'PF_0000017_01', 'addressName': '충청남도 논산시', 'itemCode': '080300'}, {'statusCode': None, 'statusMessage': None, 'userId': 'PF_0000018', 'facilityId': 'PF_0000018_01', 'addressName': '충청남도 논산시', 'itemCode': '080300'}, {'statusCode': None, 'statusMessage': None, 'userId': 'PF_0000019', 'facilityId': 'PF_0000019_01', 'addressName': '충청남도 부여군', 'itemCode': '080300'}, {'statusCode': None, 'statusMessage': None, 'userId': 'PF_0000020', 'facilityId': 'PF_0000020_01', 'addressName': '충청남도 부여군', 'itemCode': '080300'}, {'statusCode': None, 'statusMessage': None, 'userId': 'PF_0000021', 'facilityId': 'PF_0000021_01', 'addressName': '경상남도 진주시', 'itemCode': '132600'}, {'statusCode': None, 'statusMessage': None, 'userId': 'PF_0000022', 'facilityId': 'PF_0000022_01', 'addressName': '경상남도 진주시', 'itemCode': '132600'}, {'statusCode': None, 'statusMessage': None, 'userId': 'PF_0000027', 'facilityId': 'PF_0000027_01', 'addressName': '경상남도 함안군', 'itemCode': '132600'}, {'statusCode': None, 'statusMessage': None, 'userId': 'PF_0000029', 'facilityId': 'PF_0000029_01', 'addressName': '전라남도 화순군', 'itemCode': '080400'}, {'statusCode': None, 'statusMessage': None, 'userId': 'PF_0000030', 'facilityId': 'PF_0000030_01', 'addressName': '전라남도 장성군', 'itemCode': '080400'}, {'statusCode': None, 'statusMessage': None, 'userId': 'PF_0000031', 'facilityId': 'PF_0000031_01', 'addressName': '전라남도 강진군', 'itemCode': '080400'}, {'statusCode': None, 'statusMessage': None, 'userId': 'PF_0000032', 'facilityId': 'PF_0000032_01', 'addressName': '전라남도 담양군', 'itemCode': '080400'}, {'statusCode': None, 'statusMessage': None, 'userId': 'PF_0000034', 'facilityId': 'PF_0000034_01', 'addressName': '충청남도 부여군', 'itemCode': '080300'}, {'statusCode': None, 'statusMessage': None, 'userId': 'PF_0000039', 'facilityId': 'PF_0000039_01', 'addressName': '경상남도 창녕군', 'itemCode': '080300'}, {'statusCode': None, 'statusMessage': None, 'userId': 'PF_0000040', 'facilityId': 'PF_0000040_01', 'addressName': '경상남도 창녕군', 'itemCode': '080300'}, {'statusCode': None, 'statusMessage': None, 'userId': 'PF_0000042', 'facilityId': 'PF_0000042_01', 'addressName': '경상남도 창녕군', 'itemCode': '080300'}, {'statusCode': None, 'statusMessage': None, 'userId': 'PF_0000043', 'facilityId': 'PF_0000043_01', 'addressName': '경상남도 창녕군', 'itemCode': '080300'}, {'statusCode': None, 'statusMessage': None, 'userId': 'PF_0000047', 'facilityId': 'PF_0000047_01', 'addressName': '경상남도 창녕군', 'itemCode': '080300'}, {'statusCode': None, 'statusMessage': None, 'userId': 'PF_0000048', 'facilityId': 'PF_0000048_01', 'addressName': '경상남도 창녕군', 'itemCode': '132600'}, {'statusCode': None, 'statusMessage': None, 'userId': 'PF_0000098', 'facilityId': 'PF_0000098_01', 'addressName': '전라북도 남원시', 'itemCode': '080400'}, {'statusCode': None, 'statusMessage': None, 'userId': 'PF_0000099', 'facilityId': 'PF_0000099_01', 'addressName': '경기도 평택시', 'itemCode': '080300'}, {'statusCode': None, 'statusMessage': None, 'userId': 'PF_0000111', 'facilityId': 'PF_0000111_01', 'addressName': '경상북도 상주시', 'itemCode': '080400'}, {'statusCode': None, 'statusMessage': None, 'userId': 'PF_0000116', 'facilityId': 'PF_0000116_01', 'addressName': '경상남도 창녕군', 'itemCode': '080300'}, {'statusCode': None, 'statusMessage': None, 'userId': 'PF_0000121', 'facilityId': 'PF_0000121_01', 'addressName': '경기도 이천시', 'itemCode': '26E800'}, {'statusCode': None, 'statusMessage': None, 'userId': 'PF_0000122', 'facilityId': 'PF_0000122_01', 'addressName': '경기도 이천시', 'itemCode': '26E800'}, {'statusCode': None, 'statusMessage': None, 'userId': 'PF_0000125', 'facilityId': 'PF_0000125_01', 'addressName': '전라북도 정읍시', 'itemCode': '080300'}, {'statusCode': None, 'statusMessage': None, 'userId': 'PF_0000129', 'facilityId': 'PF_0000129_01', 'addressName': '강원도 철원군', 'itemCode': '132600'}, {'statusCode': None, 'statusMessage': None, 'userId': 'PF_0000131', 'facilityId': 'PF_0000131_01', 'addressName': '강원도 철원군', 'itemCode': '132600'}, {'statusCode': None, 'statusMessage': None, 'userId': 'PF_0000139', 'facilityId': 'PF_0000139_01', 'addressName': '경기도 이천시', 'itemCode': '26E800'}, {'statusCode': None, 'statusMessage': None, 'userId': 'PF_0000145', 'facilityId': 'PF_0000145_01', 'addressName': '경상남도 밀양시', 'itemCode': '132600'}, {'statusCode': None, 'statusMessage': None, 'userId': 'PF_0000168', 'facilityId': 'PF_0000168_01', 'addressName': '강원도 평창군', 'itemCode': '132600'}, {'statusCode': None, 'statusMessage': None, 'userId': 'PF_0000184', 'facilityId': 'PF_0000184_01', 'addressName': '경상남도 김해시', 'itemCode': '132600'}, {'statusCode': None, 'statusMessage': None, 'userId': 'PF_0000185', 'facilityId': 'PF_0000185_01', 'addressName': '경상남도 김해시', 'itemCode': '080300'}, {'statusCode': None, 'statusMessage': None, 'userId': 'PF_0000190', 'facilityId': 'PF_0000190_01', 'addressName': '경상북도 성주군', 'itemCode': '080200'}, {'statusCode': None, 'statusMessage': None, 'userId': 'PF_0000203', 'facilityId': 'PF_0000203_01', 'addressName': '전라남도 화순군', 'itemCode': '080400'}, {'statusCode': None, 'statusMessage': None, 'userId': 'PF_0000227', 'facilityId': 'PF_0000227_01', 'addressName': '전라남도 화순군', 'itemCode': '080300'}, {'statusCode': None, 'statusMessage': None, 'userId': 'PF_0000234', 'facilityId': 'PF_0000234_01', 'addressName': '경상북도 상주시', 'itemCode': '060300'}, {'statusCode': None, 'statusMessage': None, 'userId': 'PF_0000265', 'facilityId': 'PF_0000265_01', 'addressName': '전라남도 보성군', 'itemCode': '080300'}, {'statusCode': None, 'statusMessage': None, 'userId': 'PF_0000284', 'facilityId': 'PF_0000284_01', 'addressName': '충청남도 당진시', 'itemCode': '080400'}, {'statusCode': None, 'statusMessage': None, 'userId': 'PF_0000304', 'facilityId': 'PF_0000304_01', 'addressName': '경상남도 사천시', 'itemCode': '080300'}, {'statusCode': None, 'statusMessage': None, 'userId': 'PF_0000321', 'facilityId': 'PF_0000321_01', 'addressName': '경상남도 김해시', 'itemCode': '132600'}, {'statusCode': None, 'statusMessage': None, 'userId': 'PF_0000335', 'facilityId': 'PF_0000335_01', 'addressName': '강원도 평창군', 'itemCode': '132600'}, {'statusCode': None, 'statusMessage': None, 'userId': 'PF_0000336', 'facilityId': 'PF_0000336_01', 'addressName': '강원도 평창군', 'itemCode': '132600'}, {'statusCode': None, 'statusMessage': None, 'userId': 'PF_0000348', 'facilityId': 'PF_0000348_01', 'addressName': '경상남도 김해시', 'itemCode': '132600'}, {'statusCode': None, 'statusMessage': None, 'userId': 'PF_0000365', 'facilityId': 'PF_0000365_01', 'addressName': '전라북도 장수군', 'itemCode': '080300'}, {'statusCode': None, 'statusMessage': None, 'userId': 'PF_0000374', 'facilityId': 'PF_0000374_01', 'addressName': '전라북도 김제시', 'itemCode': '080400'}, {'statusCode': None, 'statusMessage': None, 'userId': 'PF_0000445', 'facilityId': 'PF_0000445_01', 'addressName': '전라북도 장수군', 'itemCode': '413000'}, {'statusCode': None, 'statusMessage': None, 'userId': 'PF_0000468', 'facilityId': 'PF_0000468_01', 'addressName': '경상북도 성주군', 'itemCode': '080200'}, {'statusCode': None, 'statusMessage': None, 'userId': 'PF_0000476', 'facilityId': 'PF_0000476_01', 'addressName': '경상북도 성주군', 'itemCode': '080200'}, {'statusCode': None, 'statusMessage': None, 'userId': 'PF_0000481', 'facilityId': 'PF_0000481_01', 'addressName': '경상북도 성주군', 'itemCode': '080200'}, {'statusCode': None, 'statusMessage': None, 'userId': 'PF_0000528', 'facilityId': 'PF_0000528_01', 'addressName': '경상북도 성주군', 'itemCode': '080200'}, {'statusCode': None, 'statusMessage': None, 'userId': 'PF_0000533', 'facilityId': 'PF_0000533_01', 'addressName': '경상북도 성주군', 'itemCode': '080200'}, {'statusCode': None, 'statusMessage': None, 'userId': 'PF_0000574', 'facilityId': 'PF_0000574_01', 'addressName': '전라북도 김제시', 'itemCode': '080400'}, {'statusCode': None, 'statusMessage': None, 'userId': 'PF_0000576', 'facilityId': 'PF_0000576_01', 'addressName': '전라북도 부안군', 'itemCode': '080400'}, {'statusCode': None, 'statusMessage': None, 'userId': 'PF_0000577', 'facilityId': 'PF_0000577_01', 'addressName': '경상북도 성주군', 'itemCode': '080200'}, {'statusCode': None, 'statusMessage': None, 'userId': 'PF_0000587', 'facilityId': 'PF_0000587_01', 'addressName': '전라북도 고창군', 'itemCode': '132600'}, {'statusCode': None, 'statusMessage': None, 'userId': 'PF_0000595', 'facilityId': 'PF_0000595_01', 'addressName': '전라북도 고창군', 'itemCode': '132600'}, {'statusCode': None, 'statusMessage': None, 'userId': 'PF_0000597', 'facilityId': 'PF_0000597_01', 'addressName': '전라북도 남원시', 'itemCode': '132600'}, {'statusCode': None, 'statusMessage': None, 'userId': 'PF_0000630', 'facilityId': 'PF_0000630_01', 'addressName': '전라북도 고창군', 'itemCode': '132600'}, {'statusCode': None, 'statusMessage': None, 'userId': 'PF_0000777', 'facilityId': 'PF_0000777_01', 'addressName': '전라북도 김제시', 'itemCode': '080400'}, {'statusCode': None, 'statusMessage': None, 'userId': 'PF_0000778', 'facilityId': 'PF_0000778_01', 'addressName': '전라북도 김제시', 'itemCode': '080400'}, {'statusCode': None, 'statusMessage': None, 'userId': 'PF_0000780', 'facilityId': 'PF_0000780_01', 'addressName': '전라북도 김제시', 'itemCode': '080400'}, {'statusCode': None, 'statusMessage': None, 'userId': 'PF_0000806', 'facilityId': 'PF_0000806_01', 'addressName': '경상북도 경주시', 'itemCode': '080300'}, {'statusCode': None, 'statusMessage': None, 'userId': 'PF_0000824', 'facilityId': 'PF_0000824_01', 'addressName': '경상남도 산청군', 'itemCode': '080400'}, {'statusCode': None, 'statusMessage': None, 'userId': 'PF_0000854', 'facilityId': 'PF_0000854_01', 'addressName': '전라북도 남원시', 'itemCode': '132600'}, {'statusCode': None, 'statusMessage': None, 'userId': 'PF_0000872', 'facilityId': 'PF_0000872_01', 'addressName': '경상남도 합천군', 'itemCode': '132600'}, {'statusCode': None, 'statusMessage': None, 'userId': 'PF_0001001', 'facilityId': 'PF_0001001_01', 'addressName': '전라북도 장수군', 'itemCode': '080300'}, {'statusCode': None, 'statusMessage': None, 'userId': 'PF_0001002', 'facilityId': 'PF_0001002_01', 'addressName': '전라북도 김제시', 'itemCode': '080300'}, {'statusCode': None, 'statusMessage': None, 'userId': 'PF_0001003', 'facilityId': 'PF_0001003_01', 'addressName': '전라북도 김제시', 'itemCode': '080400'}, {'statusCode': None, 'statusMessage': None, 'userId': 'PF_0001004', 'facilityId': 'PF_0001004_01', 'addressName': '전라남도 화순군', 'itemCode': '080400'}, {'statusCode': None, 'statusMessage': None, 'userId': 'PF_0001005', 'facilityId': 'PF_0001005_01', 'addressName': '전라남도 화순군', 'itemCode': '080400'}, {'statusCode': None, 'statusMessage': None, 'userId': 'PF_0001006', 'facilityId': 'PF_0001006_01', 'addressName': '경상남도 함안군', 'itemCode': '132600'}, {'statusCode': None, 'statusMessage': None, 'userId': 'PF_0001008', 'facilityId': 'PF_0001008_01', 'addressName': '전라남도 장성군', 'itemCode': '080400'}, {'statusCode': None, 'statusMessage': None, 'userId': 'PF_0001009', 'facilityId': 'PF_0001009_01', 'addressName': '충청남도 부여군', 'itemCode': '080300'}, {'statusCode': None, 'statusMessage': None, 'userId': 'PF_0001044', 'facilityId': 'PF_0001044_01', 'addressName': '전라남도 곡성군', 'itemCode': '080400'}, {'statusCode': None, 'statusMessage': None, 'userId': 'PF_0001055', 'facilityId': 'PF_0001055_01', 'addressName': '경기도 용인시 처인구', 'itemCode': '230000'}, {'statusCode': None, 'statusMessage': None, 'userId': 'PF_0001065', 'facilityId': 'PF_0001065_01', 'addressName': '전라남도 화순군', 'itemCode': '080400'}, {'statusCode': None, 'statusMessage': None, 'userId': 'PF_0001066', 'facilityId': 'PF_0001066_01', 'addressName': '전라남도 장성군', 'itemCode': '132600'}, {'statusCode': None, 'statusMessage': None, 'userId': 'PF_0001122', 'facilityId': 'PF_0001122_01', 'addressName': '경상남도 김해시', 'itemCode': '132600'}, {'statusCode': None, 'statusMessage': None, 'userId': 'PF_0001188', 'facilityId': 'PF_0001188_01', 'addressName': '경상북도 상주시', 'itemCode': '090100'}, {'statusCode': None, 'statusMessage': None, 'userId': 'PF_0001201', 'facilityId': 'PF_0001201_01', 'addressName': '충청북도 증평군', 'itemCode': '413000'}, {'statusCode': None, 'statusMessage': None, 'userId': 'PF_0001277', 'facilityId': 'PF_0001277_01', 'addressName': '경기도 화성시', 'itemCode': '132600'}, {'statusCode': None, 'statusMessage': None, 'userId': 'PF_0001278', 'facilityId': 'PF_0001278_01', 'addressName': '강원도 인제군', 'itemCode': '132600'}, {'statusCode': None, 'statusMessage': None, 'userId': 'PF_0001279', 'facilityId': 'PF_0001279_01', 'addressName': '강원도 인제군', 'itemCode': '132600'}, {'statusCode': None, 'statusMessage': None, 'userId': 'PF_0001280', 'facilityId': 'PF_0001280_01', 'addressName': '강원도 인제군', 'itemCode': '132600'}, {'statusCode': None, 'statusMessage': None, 'userId': 'PF_0001281', 'facilityId': 'PF_0001281_01', 'addressName': '강원도 인제군', 'itemCode': '132600'}, {'statusCode': None, 'statusMessage': None, 'userId': 'PF_0001282', 'facilityId': 'PF_0001282_01', 'addressName': '강원도 평창군', 'itemCode': '080400'}, {'statusCode': None, 'statusMessage': None, 'userId': 'PF_0001283', 'facilityId': 'PF_0001283_01', 'addressName': '강원도 평창군', 'itemCode': '080400'}, {'statusCode': None, 'statusMessage': None, 'userId': 'PF_0001284', 'facilityId': 'PF_0001284_01', 'addressName': '강원도 평창군', 'itemCode': '132600'}, {'statusCode': None, 'statusMessage': None, 'userId': 'PF_0001285', 'facilityId': 'PF_0001285_01', 'addressName': '경상남도 창원시 마산합포구', 'itemCode': '132600'}, {'statusCode': None, 'statusMessage': None, 'userId': 'PF_0001286', 'facilityId': 'PF_0001286_01', 'addressName': '경상남도 밀양시', 'itemCode': '132600'}, {'statusCode': None, 'statusMessage': None, 'userId': 'PF_0001287', 'facilityId': 'PF_0001287_01', 'addressName': '경상남도 합천군', 'itemCode': '132600'}, {'statusCode': None, 'statusMessage': None, 'userId': 'PF_0001288', 'facilityId': 'PF_0001288_01', 'addressName': '경상남도 진주시', 'itemCode': '132600'}, {'statusCode': None, 'statusMessage': None, 'userId': 'PF_0001289', 'facilityId': 'PF_0001289_01', 'addressName': '경상남도 거창군', 'itemCode': '080400'}, {'statusCode': None, 'statusMessage': None, 'userId': 'PF_0001291', 'facilityId': 'PF_0001291_01', 'addressName': '경상남도 산청군', 'itemCode': '080400'}, {'statusCode': None, 'statusMessage': None, 'userId': 'PF_0001295', 'facilityId': 'PF_0001295_01', 'addressName': '경상북도 성주군', 'itemCode': '080200'}, {'statusCode': None, 'statusMessage': None, 'userId': 'PF_0001296', 'facilityId': 'PF_0001296_01', 'addressName': '전라남도 무안군', 'itemCode': '26E800'}, {'statusCode': None, 'statusMessage': None, 'userId': 'PF_0001297', 'facilityId': 'PF_0001297_01', 'addressName': '전라남도 무안군', 'itemCode': '26E800'}, {'statusCode': None, 'statusMessage': None, 'userId': 'PF_0001298', 'facilityId': 'PF_0001298_01', 'addressName': '전라북도 김제시', 'itemCode': '132600'}, {'statusCode': None, 'statusMessage': None, 'userId': 'PF_0001299', 'facilityId': 'PF_0001299_01', 'addressName': '전라남도 화순군', 'itemCode': '132600'}, {'statusCode': None, 'statusMessage': None, 'userId': 'PF_0001300', 'facilityId': 'PF_0001300_01', 'addressName': '전라남도 담양군', 'itemCode': '080400'}, {'statusCode': None, 'statusMessage': None, 'userId': 'PF_0001301', 'facilityId': 'PF_0001301_01', 'addressName': '전라남도 강진군', 'itemCode': '080400'}, {'statusCode': None, 'statusMessage': None, 'userId': 'PF_0001302', 'facilityId': 'PF_0001302_01', 'addressName': '전라남도 화순군', 'itemCode': '080400'}, {'statusCode': None, 'statusMessage': None, 'userId': 'PF_0001303', 'facilityId': 'PF_0001303_01', 'addressName': '전라남도 화순군', 'itemCode': '080400'}, {'statusCode': None, 'statusMessage': None, 'userId': 'PF_0001306', 'facilityId': 'PF_0001306_01', 'addressName': '전라남도 장성군', 'itemCode': '080400'}, {'statusCode': None, 'statusMessage': None, 'userId': 'PF_0001307', 'facilityId': 'PF_0001307_01', 'addressName': '충청남도 예산군', 'itemCode': '080400'}, {'statusCode': None, 'statusMessage': None, 'userId': 'PF_0001310', 'facilityId': 'PF_0001310_01', 'addressName': '경상남도 의령군', 'itemCode': '413000'}, {'statusCode': None, 'statusMessage': None, 'userId': 'PF_0001314', 'facilityId': 'PF_0001314_01', 'addressName': '충청남도 당진시', 'itemCode': '413000'}, {'statusCode': None, 'statusMessage': None, 'userId': 'PF_0001336', 'facilityId': 'PF_0001336_01', 'addressName': '전라남도 화순군', 'itemCode': '132600'}, {'statusCode': None, 'statusMessage': None, 'userId': 'PF_0001342', 'facilityId': 'PF_0001342_01', 'addressName': '경기도 용인시 처인구', 'itemCode': '230000'}, {'statusCode': None, 'statusMessage': None, 'userId': 'PF_0001377', 'facilityId': 'PF_0001377_01', 'addressName': '경상남도 의령군', 'itemCode': '413000'}, {'statusCode': None, 'statusMessage': None, 'userId': 'PF_0001378', 'facilityId': 'PF_0001378_01', 'addressName': '전라북도 군산시', 'itemCode': '413000'}, {'statusCode': None, 'statusMessage': None, 'userId': 'PF_0001382', 'facilityId': 'PF_0001382_01', 'addressName': '전라남도 화순군', 'itemCode': '080400'}, {'statusCode': None, 'statusMessage': None, 'userId': 'PF_0001393', 'facilityId': 'PF_0001393_01', 'addressName': '경상남도 진주시', 'itemCode': '132600'}, {'statusCode': None, 'statusMessage': None, 'userId': 'PF_0001394', 'facilityId': 'PF_0001394_01', 'addressName': '경상남도 진주시', 'itemCode': '132600'}, {'statusCode': None, 'statusMessage': None, 'userId': 'PF_0001395', 'facilityId': 'PF_0001395_01', 'addressName': '경상남도 진주시', 'itemCode': '132600'}, {'statusCode': None, 'statusMessage': None, 'userId': 'PF_0001396', 'facilityId': 'PF_0001396_01', 'addressName': '전라남도 강진군', 'itemCode': '080300'}, {'statusCode': None, 'statusMessage': None, 'userId': 'PF_0001399', 'facilityId': 'PF_0001399_01', 'addressName': '전라남도 영광군', 'itemCode': '132600'}, {'statusCode': None, 'statusMessage': None, 'userId': 'PF_0001400', 'facilityId': 'PF_0001400_01', 'addressName': '전라남도 영광군', 'itemCode': '132600'}, {'statusCode': None, 'statusMessage': None, 'userId': 'PF_0001401', 'facilityId': 'PF_0001401_01', 'addressName': '전라남도 영광군', 'itemCode': '132600'}, {'statusCode': None, 'statusMessage': None, 'userId': 'PF_0001402', 'facilityId': 'PF_0001402_01', 'addressName': '전라남도 화순군', 'itemCode': '080300'}, {'statusCode': None, 'statusMessage': None, 'userId': 'PF_0001403', 'facilityId': 'PF_0001403_01', 'addressName': '전라북도 남원시', 'itemCode': '132600'}, {'statusCode': None, 'statusMessage': None, 'userId': 'PF_0001404', 'facilityId': 'PF_0001404_01', 'addressName': '전라북도 남원시', 'itemCode': '132600'}, {'statusCode': None, 'statusMessage': None, 'userId': 'PF_0001405', 'facilityId': 'PF_0001405_01', 'addressName': '경상남도 사천시', 'itemCode': '080300'}, {'statusCode': None, 'statusMessage': None, 'userId': 'PF_0001406', 'facilityId': 'PF_0001406_01', 'addressName': '전라북도 장수군', 'itemCode': '080300'}, {'statusCode': None, 'statusMessage': None, 'userId': 'PF_0001407', 'facilityId': 'PF_0001407_01', 'addressName': '전라남도 화순군', 'itemCode': '080400'}, {'statusCode': None, 'statusMessage': None, 'userId': 'PF_0001408', 'facilityId': 'PF_0001408_01', 'addressName': '강원도 철원군', 'itemCode': '132600'}, {'statusCode': None, 'statusMessage': None, 'userId': 'PF_0001409', 'facilityId': 'PF_0001409_01', 'addressName': '경상남도 진주시', 'itemCode': '132600'}, {'statusCode': None, 'statusMessage': None, 'userId': 'PF_0001410', 'facilityId': 'PF_0001410_01', 'addressName': '경상남도 진주시', 'itemCode': '132600'}, {'statusCode': None, 'statusMessage': None, 'userId': 'PF_0001411', 'facilityId': 'PF_0001411_01', 'addressName': '전라북도 남원시', 'itemCode': '132600'}, {'statusCode': None, 'statusMessage': None, 'userId': 'PF_0001412', 'facilityId': 'PF_0001412_01', 'addressName': '전라남도 화순군', 'itemCode': '080300'}, {'statusCode': None, 'statusMessage': None, 'userId': 'PF_0001537', 'facilityId': 'PF_0001537_01', 'addressName': '제주특별자치도 제주시', 'itemCode': '413000'}, {'statusCode': None, 'statusMessage': None, 'userId': 'PF_0001542', 'facilityId': 'PF_0001542_01', 'addressName': '경기도 오산시', 'itemCode': '090100'}, {'statusCode': None, 'statusMessage': None, 'userId': 'PF_0001576', 'facilityId': 'PF_0001576_01', 'addressName': '충청북도 증평군', 'itemCode': '415000'}, {'statusCode': None, 'statusMessage': None, 'userId': 'PF_0001600', 'facilityId': 'PF_0001600_01', 'addressName': '경기도 용인시 처인구', 'itemCode': '230000'}, {'statusCode': None, 'statusMessage': None, 'userId': 'PF_0001637', 'facilityId': 'PF_0001637_01', 'addressName': '경상북도 상주시', 'itemCode': '090100'}, {'statusCode': None, 'statusMessage': None, 'userId': 'PF_0001644', 'facilityId': 'PF_0001644_01', 'addressName': '경상북도 상주시', 'itemCode': '090100'}, {'statusCode': None, 'statusMessage': None, 'userId': 'PF_0001665', 'facilityId': 'PF_0001665_01', 'addressName': '경상북도 상주시', 'itemCode': '090100'}, {'statusCode': None, 'statusMessage': None, 'userId': 'PF_0001719', 'facilityId': 'PF_0001719_01', 'addressName': '제주특별자치도 제주시', 'itemCode': '413000'}, {'statusCode': None, 'statusMessage': None, 'userId': 'PF_0001726', 'facilityId': 'PF_0001726_01', 'addressName': '충청남도 천안시 동남구', 'itemCode': '413000'}, {'statusCode': None, 'statusMessage': None, 'userId': 'PF_0001750', 'facilityId': 'PF_0001750_01', 'addressName': '충청북도 청주시 상당구', 'itemCode': '412200'}, {'statusCode': None, 'statusMessage': None, 'userId': 'PF_0001790', 'facilityId': 'PF_0001790_01', 'addressName': '경상북도 성주군', 'itemCode': '080200'}, {'statusCode': None, 'statusMessage': None, 'userId': 'PF_0002139', 'facilityId': 'PF_0002139_01', 'addressName': '충청남도 홍성군', 'itemCode': '080400'}, {'statusCode': None, 'statusMessage': None, 'userId': 'PF_0002154', 'facilityId': 'PF_0002154_01', 'addressName': '경기도 평택시', 'itemCode': '412200'}, {'statusCode': None, 'statusMessage': None, 'userId': 'PF_0002157', 'facilityId': 'PF_0002157_01', 'addressName': '충청남도 천안시', 'itemCode': '412200'}, {'statusCode': None, 'statusMessage': None, 'userId': 'PF_0002183', 'facilityId': 'PF_0002183_01', 'addressName': '제주특별자치도 제주시', 'itemCode': '413000'}, {'statusCode': None, 'statusMessage': None, 'userId': 'PF_0002284', 'facilityId': 'PF_0002284_01', 'addressName': '경상남도 사천시', 'itemCode': '080400'}, {'statusCode': None, 'statusMessage': None, 'userId': 'PF_0002285', 'facilityId': 'PF_0002285_01', 'addressName': '경상남도 산청군', 'itemCode': '080400'}, {'statusCode': None, 'statusMessage': None, 'userId': 'PF_0002286', 'facilityId': 'PF_0002286_01', 'addressName': '경상남도 산청군', 'itemCode': '080400'}, {'statusCode': None, 'statusMessage': None, 'userId': 'PF_0002287', 'facilityId': 'PF_0002287_01', 'addressName': '경상남도 산청군', 'itemCode': '080400'}, {'statusCode': None, 'statusMessage': None, 'userId': 'PF_0002288', 'facilityId': 'PF_0002288_01', 'addressName': '전라남도 보성군', 'itemCode': '080400'}, {'statusCode': None, 'statusMessage': None, 'userId': 'PF_0002289', 'facilityId': 'PF_0002289_01', 'addressName': '전라북도 김제시', 'itemCode': '080400'}, {'statusCode': None, 'statusMessage': None, 'userId': 'PF_0002290', 'facilityId': 'PF_0002290_01', 'addressName': '전라남도 보성군', 'itemCode': '080400'}, {'statusCode': None, 'statusMessage': None, 'userId': 'PF_0002291', 'facilityId': 'PF_0002291_01', 'addressName': '전라남도 보성군', 'itemCode': '080400'}, {'statusCode': None, 'statusMessage': None, 'userId': 'PF_0002292', 'facilityId': 'PF_0002292_01', 'addressName': '전라남도 보성군', 'itemCode': '080400'}, {'statusCode': None, 'statusMessage': None, 'userId': 'PF_0002293', 'facilityId': 'PF_0002293_01', 'addressName': '전라남도 보성군', 'itemCode': '080400'}, {'statusCode': None, 'statusMessage': None, 'userId': 'PF_0002294', 'facilityId': 'PF_0002294_01', 'addressName': '경상북도 성주군', 'itemCode': '080200'}, {'statusCode': None, 'statusMessage': None, 'userId': 'PF_0002295', 'facilityId': 'PF_0002295_01', 'addressName': '경상남도 창녕군', 'itemCode': '132600'}, {'statusCode': None, 'statusMessage': None, 'userId': 'PF_0002296', 'facilityId': 'PF_0002296_01', 'addressName': '전라북도 남원시', 'itemCode': '132600'}, {'statusCode': None, 'statusMessage': None, 'userId': 'PF_0002297', 'facilityId': 'PF_0002297_01', 'addressName': '전라남도 장성군', 'itemCode': '080400'}, {'statusCode': None, 'statusMessage': None, 'userId': 'PF_0002298', 'facilityId': 'PF_0002298_01', 'addressName': '경상남도 고성군', 'itemCode': '132600'}, {'statusCode': None, 'statusMessage': None, 'userId': 'PF_0002299', 'facilityId': 'PF_0002299_01', 'addressName': '경상남도 고성군', 'itemCode': '132600'}, {'statusCode': None, 'statusMessage': None, 'userId': 'PF_0002300', 'facilityId': 'PF_0002300_01', 'addressName': '경기도 용인시 처인구', 'itemCode': '230000'}, {'statusCode': None, 'statusMessage': None, 'userId': 'PF_0002301', 'facilityId': 'PF_0002301_01', 'addressName': '경기도 용인시 처인구', 'itemCode': '230000'}, {'statusCode': None, 'statusMessage': None, 'userId': 'PF_0002303', 'facilityId': 'PF_0002303_01', 'addressName': '전라남도 화순군', 'itemCode': '080400'}, {'statusCode': None, 'statusMessage': None, 'userId': 'PF_0002304', 'facilityId': 'PF_0002304_01', 'addressName': '전라남도 고흥군', 'itemCode': '080400'}, {'statusCode': None, 'statusMessage': None, 'userId': 'PF_0002305', 'facilityId': 'PF_0002305_01', 'addressName': '전라남도 화순군', 'itemCode': '080400'}, {'statusCode': None, 'statusMessage': None, 'userId': 'PF_0002321', 'facilityId': 'PF_0002321_01', 'addressName': '경기도 안성시', 'itemCode': '412200'}, {'statusCode': None, 'statusMessage': None, 'userId': 'PF_0002322', 'facilityId': 'PF_0002322_01', 'addressName': '전라북도 완주군', 'itemCode': '132600'}, {'statusCode': None, 'statusMessage': None, 'userId': 'PF_0002323', 'facilityId': 'PF_0002323_01', 'addressName': '경기도 안성시', 'itemCode': '412200'}, {'statusCode': None, 'statusMessage': None, 'userId': 'PF_0002381', 'facilityId': 'PF_0002381_01', 'addressName': '경상남도 밀양시', 'itemCode': '080400'}, {'statusCode': None, 'statusMessage': None, 'userId': 'PF_0002519', 'facilityId': 'PF_0002519_01', 'addressName': '전라북도 군산시', 'itemCode': '090300'}, {'statusCode': None, 'statusMessage': None, 'userId': 'PF_0002521', 'facilityId': 'PF_0002521_01', 'addressName': '전라북도 군산시', 'itemCode': '090300'}, {'statusCode': None, 'statusMessage': None, 'userId': 'PF_0002522', 'facilityId': 'PF_0002522_01', 'addressName': '전라북도 김제시', 'itemCode': '080400'}, {'statusCode': None, 'statusMessage': None, 'userId': 'PF_0002523', 'facilityId': 'PF_0002523_01', 'addressName': '전라북도 부안군', 'itemCode': '080400'}, {'statusCode': None, 'statusMessage': None, 'userId': 'PF_0002524', 'facilityId': 'PF_0002524_01', 'addressName': '전라북도 부안군', 'itemCode': '080400'}, {'statusCode': None, 'statusMessage': None, 'userId': 'PF_0002525', 'facilityId': 'PF_0002525_01', 'addressName': '전라북도 군산시', 'itemCode': '080300'}, {'statusCode': None, 'statusMessage': None, 'userId': 'PF_0002526', 'facilityId': 'PF_0002526_01', 'addressName': '전라남도 담양군', 'itemCode': '080300'}, {'statusCode': None, 'statusMessage': None, 'userId': 'PF_0002527', 'facilityId': 'PF_0002527_01', 'addressName': '전라북도 김제시', 'itemCode': '080300'}, {'statusCode': None, 'statusMessage': None, 'userId': 'PF_0002528', 'facilityId': 'PF_0002528_01', 'addressName': '전라남도 영암군', 'itemCode': '080300'}, {'statusCode': None, 'statusMessage': None, 'userId': 'PF_0002529', 'facilityId': 'PF_0002529_01', 'addressName': '전라남도 강진군', 'itemCode': '080300'}, {'statusCode': None, 'statusMessage': None, 'userId': 'PF_0002530', 'facilityId': 'PF_0002530_01', 'addressName': '전라북도 완주군', 'itemCode': '080400'}, {'statusCode': None, 'statusMessage': None, 'userId': 'PF_0002531', 'facilityId': 'PF_0002531_01', 'addressName': '전라남도 화순군', 'itemCode': '080300'}, {'statusCode': None, 'statusMessage': None, 'userId': 'PF_0002532', 'facilityId': 'PF_0002532_01', 'addressName': '전라북도 완주군', 'itemCode': '080300'}, {'statusCode': None, 'statusMessage': None, 'userId': 'PF_0002533', 'facilityId': 'PF_0002533_01', 'addressName': '전라남도 화순군', 'itemCode': '080300'}, {'statusCode': None, 'statusMessage': None, 'userId': 'PF_0002534', 'facilityId': 'PF_0002534_01', 'addressName': '전라남도 장성군', 'itemCode': '080400'}, {'statusCode': None, 'statusMessage': None, 'userId': 'PF_0002535', 'facilityId': 'PF_0002535_01', 'addressName': '경상남도 함안군', 'itemCode': '132600'}, {'statusCode': None, 'statusMessage': None, 'userId': 'PF_0002536', 'facilityId': 'PF_0002536_01', 'addressName': '경상남도 함안군', 'itemCode': '132600'}, {'statusCode': None, 'statusMessage': None, 'userId': 'PF_0002537', 'facilityId': 'PF_0002537_01', 'addressName': '경상남도 함안군', 'itemCode': '132600'}, {'statusCode': None, 'statusMessage': None, 'userId': 'PF_0002538', 'facilityId': 'PF_0002538_01', 'addressName': '경상남도 함안군', 'itemCode': '132600'}, {'statusCode': None, 'statusMessage': None, 'userId': 'PF_0002539', 'facilityId': 'PF_0002539_01', 'addressName': '경상남도 의령군', 'itemCode': '132600'}, {'statusCode': None, 'statusMessage': None, 'userId': 'PF_0002540', 'facilityId': 'PF_0002540_01', 'addressName': '경상남도 의령군', 'itemCode': '132600'}, {'statusCode': None, 'statusMessage': None, 'userId': 'PF_0002541', 'facilityId': 'PF_0002541_01', 'addressName': '경상남도 의령군', 'itemCode': '132600'}, {'statusCode': None, 'statusMessage': None, 'userId': 'PF_0002542', 'facilityId': 'PF_0002542_01', 'addressName': '경상북도 상주시', 'itemCode': '060300'}, {'statusCode': None, 'statusMessage': None, 'userId': 'PF_0002543', 'facilityId': 'PF_0002543_01', 'addressName': '경상북도 상주시', 'itemCode': '060300'}, {'statusCode': None, 'statusMessage': None, 'userId': 'PF_0002544', 'facilityId': 'PF_0002544_01', 'addressName': '경상북도 상주시', 'itemCode': '090100'}, {'statusCode': None, 'statusMessage': None, 'userId': 'PF_0002545', 'facilityId': 'PF_0002545_01', 'addressName': '경상북도 상주시', 'itemCode': '090100'}, {'statusCode': None, 'statusMessage': None, 'userId': 'PF_0002546', 'facilityId': 'PF_0002546_01', 'addressName': '경상북도 상주시', 'itemCode': '090100'}, {'statusCode': None, 'statusMessage': None, 'userId': 'PF_0002547', 'facilityId': 'PF_0002547_01', 'addressName': '전라북도 남원시', 'itemCode': '080300'}, {'statusCode': None, 'statusMessage': None, 'userId': 'PF_0002549', 'facilityId': 'PF_0002549_01', 'addressName': '전라남도 장성군', 'itemCode': '080400'}, {'statusCode': None, 'statusMessage': None, 'userId': 'PF_0002550', 'facilityId': 'PF_0002550_01', 'addressName': '경상북도 성주군', 'itemCode': '080200'}, {'statusCode': None, 'statusMessage': None, 'userId': 'PF_0002551', 'facilityId': 'PF_0002551_01', 'addressName': '경상남도 창원시', 'itemCode': '080300'}, {'statusCode': None, 'statusMessage': None, 'userId': 'PF_0002552', 'facilityId': 'PF_0002552_01', 'addressName': '충청남도 논산시', 'itemCode': '080400'}, {'statusCode': None, 'statusMessage': None, 'userId': 'PF_0002633', 'facilityId': 'PF_0002633_01', 'addressName': '전라남도 화순군', 'itemCode': '132600'}, {'statusCode': None, 'statusMessage': None, 'userId': 'PF_0002739', 'facilityId': 'PF_0002739_01', 'addressName': '강원도 태백시', 'itemCode': '100100'}, {'statusCode': None, 'statusMessage': None, 'userId': 'PF_0002740', 'facilityId': 'PF_0002740_01', 'addressName': '강원도 태백시', 'itemCode': '100100'}, {'statusCode': None, 'statusMessage': None, 'userId': 'PF_0002741', 'facilityId': 'PF_0002741_01', 'addressName': '강원도 태백시', 'itemCode': '100100'}, {'statusCode': None, 'statusMessage': None, 'userId': 'PF_0002742', 'facilityId': 'PF_0002742_01', 'addressName': '강원도 태백시', 'itemCode': '100100'}, {'statusCode': None, 'statusMessage': None, 'userId': 'PF_0002743', 'facilityId': 'PF_0002743_01', 'addressName': '강원도 태백시', 'itemCode': '100100'}, {'statusCode': None, 'statusMessage': None, 'userId': 'PF_0002744', 'facilityId': 'PF_0002744_01', 'addressName': '강원도 태백시', 'itemCode': '100100'}, {'statusCode': None, 'statusMessage': None, 'userId': 'PF_0002745', 'facilityId': 'PF_0002745_01', 'addressName': '전라남도 무안군', 'itemCode': '120100'}, {'statusCode': None, 'statusMessage': None, 'userId': 'PF_0002746', 'facilityId': 'PF_0002746_01', 'addressName': '강원도 태백시', 'itemCode': '100100'}, {'statusCode': None, 'statusMessage': None, 'userId': 'PF_0002747', 'facilityId': 'PF_0002747_01', 'addressName': '전라남도 무안군', 'itemCode': '120100'}, {'statusCode': None, 'statusMessage': None, 'userId': 'PF_0002748', 'facilityId': 'PF_0002748_01', 'addressName': '강원도 태백시', 'itemCode': '100100'}, {'statusCode': None, 'statusMessage': None, 'userId': 'PF_0002749', 'facilityId': 'PF_0002749_01', 'addressName': '전라남도 해남군', 'itemCode': '100100'}, {'statusCode': None, 'statusMessage': None, 'userId': 'PF_0002750', 'facilityId': 'PF_0002750_01', 'addressName': '강원도 태백시', 'itemCode': '100100'}, {'statusCode': None, 'statusMessage': None, 'userId': 'PF_0002751', 'facilityId': 'PF_0002751_01', 'addressName': '경상북도 안동시', 'itemCode': '120600'}, {'statusCode': None, 'statusMessage': None, 'userId': 'PF_0002752', 'facilityId': 'PF_0002752_01', 'addressName': '강원도 태백시', 'itemCode': '100100'}, {'statusCode': None, 'statusMessage': None, 'userId': 'PF_0002753', 'facilityId': 'PF_0002753_01', 'addressName': '전라남도 해남군', 'itemCode': '100100'}, {'statusCode': None, 'statusMessage': None, 'userId': 'PF_0002754', 'facilityId': 'PF_0002754_01', 'addressName': '경상북도 안동시', 'itemCode': '120600'}, {'statusCode': None, 'statusMessage': None, 'userId': 'PF_0002755', 'facilityId': 'PF_0002755_01', 'addressName': '경상북도 안동시', 'itemCode': '120600'}, {'statusCode': None, 'statusMessage': None, 'userId': 'PF_0002756', 'facilityId': 'PF_0002756_01', 'addressName': '전라남도 해남군', 'itemCode': '100100'}, {'statusCode': None, 'statusMessage': None, 'userId': 'PF_0002757', 'facilityId': 'PF_0002757_01', 'addressName': '전라남도 해남군', 'itemCode': '100100'}, {'statusCode': None, 'statusMessage': None, 'userId': 'PF_0002758', 'facilityId': 'PF_0002758_01', 'addressName': '전라남도 해남군', 'itemCode': '100100'}, {'statusCode': None, 'statusMessage': None, 'userId': 'PF_0002759', 'facilityId': 'PF_0002759_01', 'addressName': '경상북도 안동시', 'itemCode': '120600'}, {'statusCode': None, 'statusMessage': None, 'userId': 'PF_0002760', 'facilityId': 'PF_0002760_01', 'addressName': '전라남도 해남군', 'itemCode': '100100'}, {'statusCode': None, 'statusMessage': None, 'userId': 'PF_0002761', 'facilityId': 'PF_0002761_01', 'addressName': '경상북도 안동시', 'itemCode': '120600'}, {'statusCode': None, 'statusMessage': None, 'userId': 'PF_0002762', 'facilityId': 'PF_0002762_01', 'addressName': '전라남도 해남군', 'itemCode': '100100'}, {'statusCode': None, 'statusMessage': None, 'userId': 'PF_0002763', 'facilityId': 'PF_0002763_01', 'addressName': '전라북도 고창군', 'itemCode': '110100'}, {'statusCode': None, 'statusMessage': None, 'userId': 'PF_0002764', 'facilityId': 'PF_0002764_01', 'addressName': '전라남도 해남군', 'itemCode': '100100'}, {'statusCode': None, 'statusMessage': None, 'userId': 'PF_0002765', 'facilityId': 'PF_0002765_01', 'addressName': '경상북도 안동시', 'itemCode': '120600'}, {'statusCode': None, 'statusMessage': None, 'userId': 'PF_0002766', 'facilityId': 'PF_0002766_01', 'addressName': '전라남도 해남군', 'itemCode': '100100'}, {'statusCode': None, 'statusMessage': None, 'userId': 'PF_0002767', 'facilityId': 'PF_0002767_01', 'addressName': '경상북도 안동시', 'itemCode': '120600'}, {'statusCode': None, 'statusMessage': None, 'userId': 'PF_0002768', 'facilityId': 'PF_0002768_01', 'addressName': '전라북도 고창군', 'itemCode': '110100'}, {'statusCode': None, 'statusMessage': None, 'userId': 'PF_0002769', 'facilityId': 'PF_0002769_01', 'addressName': '전라남도 해남군', 'itemCode': '100100'}, {'statusCode': None, 'statusMessage': None, 'userId': 'PF_0002770', 'facilityId': 'PF_0002770_01', 'addressName': '전라남도 무안군', 'itemCode': '120100'}, {'statusCode': None, 'statusMessage': None, 'userId': 'PF_0002771', 'facilityId': 'PF_0002771_01', 'addressName': '전라남도 해남군', 'itemCode': '100100'}, {'statusCode': None, 'statusMessage': None, 'userId': 'PF_0002772', 'facilityId': 'PF_0002772_01', 'addressName': '전라북도 고창군', 'itemCode': '110100'}, {'statusCode': None, 'statusMessage': None, 'userId': 'PF_0002773', 'facilityId': 'PF_0002773_01', 'addressName': '전라남도 해남군', 'itemCode': '100100'}, {'statusCode': None, 'statusMessage': None, 'userId': 'PF_0002774', 'facilityId': 'PF_0002774_01', 'addressName': '전라남도 해남군', 'itemCode': '100100'}, {'statusCode': None, 'statusMessage': None, 'userId': 'PF_0002775', 'facilityId': 'PF_0002775_01', 'addressName': '전라북도 고창군', 'itemCode': '110100'}, {'statusCode': None, 'statusMessage': None, 'userId': 'PF_0002776', 'facilityId': 'PF_0002776_01', 'addressName': '전라남도 무안군', 'itemCode': '120100'}, {'statusCode': None, 'statusMessage': None, 'userId': 'PF_0002777', 'facilityId': 'PF_0002777_01', 'addressName': '전라북도 고창군', 'itemCode': '110100'}, {'statusCode': None, 'statusMessage': None, 'userId': 'PF_0002778', 'facilityId': 'PF_0002778_01', 'addressName': '전라남도 무안군', 'itemCode': '120100'}, {'statusCode': None, 'statusMessage': None, 'userId': 'PF_0002779', 'facilityId': 'PF_0002779_01', 'addressName': '전라북도 고창군', 'itemCode': '110100'}, {'statusCode': None, 'statusMessage': None, 'userId': 'PF_0002780', 'facilityId': 'PF_0002780_01', 'addressName': '전라남도 무안군', 'itemCode': '120100'}, {'statusCode': None, 'statusMessage': None, 'userId': 'PF_0002781', 'facilityId': 'PF_0002781_01', 'addressName': '전라북도 고창군', 'itemCode': '110100'}, {'statusCode': None, 'statusMessage': None, 'userId': 'PF_0002783', 'facilityId': 'PF_0002783_01', 'addressName': '전라북도 고창군', 'itemCode': '110100'}, {'statusCode': None, 'statusMessage': None, 'userId': 'PF_0002784', 'facilityId': 'PF_0002784_01', 'addressName': '전라남도 무안군', 'itemCode': '120100'}, {'statusCode': None, 'statusMessage': None, 'userId': 'PF_0002785', 'facilityId': 'PF_0002785_01', 'addressName': '전라남도 무안군', 'itemCode': '120100'}, {'statusCode': None, 'statusMessage': None, 'userId': 'PF_0002786', 'facilityId': 'PF_0002786_01', 'addressName': '전라북도 고창군', 'itemCode': '110100'}, {'statusCode': None, 'statusMessage': None, 'userId': 'PF_0002788', 'facilityId': 'PF_0002788_01', 'addressName': '전라북도 고창군', 'itemCode': '110100'}, {'statusCode': None, 'statusMessage': None, 'userId': 'PF_0002789', 'facilityId': 'PF_0002789_01', 'addressName': '전라남도 무안군', 'itemCode': '120100'}, {'statusCode': None, 'statusMessage': None, 'userId': 'PF_0002790', 'facilityId': 'PF_0002790_01', 'addressName': '전라남도 해남군', 'itemCode': '100100'}, {'statusCode': None, 'statusMessage': None, 'userId': 'PF_0002791', 'facilityId': 'PF_0002791_01', 'addressName': '전라남도 해남군', 'itemCode': '100100'}, {'statusCode': None, 'statusMessage': None, 'userId': 'PF_0002792', 'facilityId': 'PF_0002792_01', 'addressName': '전라남도 해남군', 'itemCode': '100100'}, {'statusCode': None, 'statusMessage': None, 'userId': 'PF_0002793', 'facilityId': 'PF_0002793_01', 'addressName': '전라남도 해남군', 'itemCode': '100100'}, {'statusCode': None, 'statusMessage': None, 'userId': 'PF_0002794', 'facilityId': 'PF_0002794_01', 'addressName': '전라남도 해남군', 'itemCode': '100100'}, {'statusCode': None, 'statusMessage': None, 'userId': 'PF_0002795', 'facilityId': 'PF_0002795_01', 'addressName': '경상북도 안동시', 'itemCode': '120600'}, {'statusCode': None, 'statusMessage': None, 'userId': 'PF_0002796', 'facilityId': 'PF_0002796_01', 'addressName': '경상북도 안동시', 'itemCode': '120600'}, {'statusCode': None, 'statusMessage': None, 'userId': 'PF_0002797', 'facilityId': 'PF_0002797_01', 'addressName': '경상북도 안동시', 'itemCode': '120600'}, {'statusCode': None, 'statusMessage': None, 'userId': 'PF_0002798', 'facilityId': 'PF_0002798_01', 'addressName': '경상북도 안동시', 'itemCode': '120600'}, {'statusCode': None, 'statusMessage': None, 'userId': 'PF_0002884', 'facilityId': 'PF_0002884_01', 'addressName': '광주광역시 광산구', 'itemCode': '080400'}, {'statusCode': None, 'statusMessage': None, 'userId': 'PF_0006001', 'facilityId': 'PF_0006001_01', 'addressName': '전라남도 무안군', 'itemCode': '065900'}, {'statusCode': None, 'statusMessage': None, 'userId': 'PF_0006003', 'facilityId': 'PF_0006003_01', 'addressName': '전라남도 무안군', 'itemCode': '065900'}, {'statusCode': None, 'statusMessage': None, 'userId': 'PF_0006004', 'facilityId': 'PF_0006004_01', 'addressName': '전라남도 순천시', 'itemCode': '090100'}, {'statusCode': None, 'statusMessage': None, 'userId': 'PF_0006005', 'facilityId': 'PF_0006005_01', 'addressName': '전라남도 보성군', 'itemCode': '080400'}, {'statusCode': None, 'statusMessage': None, 'userId': 'PF_0006006', 'facilityId': 'PF_0006006_01', 'addressName': '전라남도 보성군', 'itemCode': '080400'}, {'statusCode': None, 'statusMessage': None, 'userId': 'PF_0006007', 'facilityId': 'PF_0006007_01', 'addressName': '전라남도 순천시', 'itemCode': '090100'}, {'statusCode': None, 'statusMessage': None, 'userId': 'PF_0006008', 'facilityId': 'PF_0006008_01', 'addressName': '전라남도 보성군', 'itemCode': '080400'}, {'statusCode': None, 'statusMessage': None, 'userId': 'PF_0006009', 'facilityId': 'PF_0006009_01', 'addressName': '전라남도 보성군', 'itemCode': '080400'}, {'statusCode': None, 'statusMessage': None, 'userId': 'PF_0006010', 'facilityId': 'PF_0006010_01', 'addressName': '전라남도 보성군', 'itemCode': '080400'}, {'statusCode': None, 'statusMessage': None, 'userId': 'PF_0006011', 'facilityId': 'PF_0006011_01', 'addressName': '전라남도 보성군', 'itemCode': '080400'}, {'statusCode': None, 'statusMessage': None, 'userId': 'PF_0006012', 'facilityId': 'PF_0006012_01', 'addressName': '경기도 여주군', 'itemCode': '080400'}, {'statusCode': None, 'statusMessage': None, 'userId': 'PF_0006013', 'facilityId': 'PF_0006013_01', 'addressName': '경기도 여주군', 'itemCode': '090300'}, {'statusCode': None, 'statusMessage': None, 'userId': 'PF_0006014', 'facilityId': 'PF_0006014_01', 'addressName': '경기도 여주군', 'itemCode': '090200'}, {'statusCode': None, 'statusMessage': None, 'userId': 'PF_0006015', 'facilityId': 'PF_0006015_01', 'addressName': '경기도 여주군', 'itemCode': '090200'}, {'statusCode': None, 'statusMessage': None, 'userId': 'PF_0006017', 'facilityId': 'PF_0006017_01', 'addressName': '경상남도 밀양시', 'itemCode': '120500'}, {'statusCode': None, 'statusMessage': None, 'userId': 'PF_0006018', 'facilityId': 'PF_0006018_01', 'addressName': '경상남도 양산시', 'itemCode': '080400'}, {'statusCode': None, 'statusMessage': None, 'userId': 'PF_0006019', 'facilityId': 'PF_0006019_01', 'addressName': '충청북도 진천군', 'itemCode': '080400'}, {'statusCode': None, 'statusMessage': None, 'userId': 'PF_0006020', 'facilityId': 'PF_0006020_01', 'addressName': '충청북도 청주시', 'itemCode': '080400'}, {'statusCode': None, 'statusMessage': None, 'userId': 'PF_0006021', 'facilityId': 'PF_0006021_01', 'addressName': '충청북도 옥천군', 'itemCode': '080400'}, {'statusCode': None, 'statusMessage': None, 'userId': 'PF_0006022', 'facilityId': 'PF_0006022_01', 'addressName': '충청북도 옥천군', 'itemCode': '080400'}, {'statusCode': None, 'statusMessage': None, 'userId': 'PF_0006023', 'facilityId': 'PF_0006023_01', 'addressName': '충청남도 예산군', 'itemCode': '080300'}, {'statusCode': None, 'statusMessage': None, 'userId': 'PF_0006024', 'facilityId': 'PF_0006024_01', 'addressName': '충청남도 예산군', 'itemCode': '080300'}, {'statusCode': None, 'statusMessage': None, 'userId': 'PF_0006025', 'facilityId': 'PF_0006025_01', 'addressName': '충청남도 예산군', 'itemCode': '080300'}, {'statusCode': None, 'statusMessage': None, 'userId': 'PF_0006026', 'facilityId': 'PF_0006026_01', 'addressName': '경상북도 상주시', 'itemCode': '060300'}, {'statusCode': None, 'statusMessage': None, 'userId': 'PF_0006027', 'facilityId': 'PF_0006027_01', 'addressName': '경상북도 상주시', 'itemCode': '060300'}, {'statusCode': None, 'statusMessage': None, 'userId': 'PF_0006028', 'facilityId': 'PF_0006028_01', 'addressName': '경상북도 김천시', 'itemCode': '090100'}, {'statusCode': None, 'statusMessage': None, 'userId': 'PF_0006029', 'facilityId': 'PF_0006029_01', 'addressName': '경상북도 상주시', 'itemCode': '090100'}, {'statusCode': None, 'statusMessage': None, 'userId': 'PF_0006030', 'facilityId': 'PF_0006030_01', 'addressName': '경상북도 상주시', 'itemCode': '090100'}, {'statusCode': None, 'statusMessage': None, 'userId': 'PF_0006031', 'facilityId': 'PF_0006031_01', 'addressName': '경상북도 상주시', 'itemCode': '090100'}, {'statusCode': None, 'statusMessage': None, 'userId': 'PF_0006032', 'facilityId': 'PF_0006032_01', 'addressName': '경상북도 상주시', 'itemCode': '080400'}, {'statusCode': None, 'statusMessage': None, 'userId': 'PF_0006033', 'facilityId': 'PF_0006033_01', 'addressName': '경상북도 상주시', 'itemCode': '080400'}, {'statusCode': None, 'statusMessage': None, 'userId': 'PF_0006034', 'facilityId': 'PF_0006034_01', 'addressName': '경상북도 상주시', 'itemCode': '090100'}, {'statusCode': None, 'statusMessage': None, 'userId': 'PF_0006036', 'facilityId': 'PF_0006036_01', 'addressName': '경상북도 상주시', 'itemCode': '060300'}, {'statusCode': None, 'statusMessage': None, 'userId': 'PF_0006037', 'facilityId': 'PF_0006037_01', 'addressName': '경상북도 상주시', 'itemCode': '060300'}, {'statusCode': None, 'statusMessage': None, 'userId': 'PF_0006038', 'facilityId': 'PF_0006038_01', 'addressName': '경상북도 김천시', 'itemCode': '080400'}, {'statusCode': None, 'statusMessage': None, 'userId': 'PF_0006039', 'facilityId': 'PF_0006039_01', 'addressName': '경상북도 김천시', 'itemCode': '080400'}, {'statusCode': None, 'statusMessage': None, 'userId': 'PF_0006040', 'facilityId': 'PF_0006040_01', 'addressName': '충청남도 아산시', 'itemCode': '080400'}, {'statusCode': None, 'statusMessage': None, 'userId': 'PF_0006041', 'facilityId': 'PF_0006041_01', 'addressName': '경상남도 밀양시', 'itemCode': '120500'}, {'statusCode': None, 'statusMessage': None, 'userId': 'PF_0006042', 'facilityId': 'PF_0006042_01', 'addressName': '부산광역시 강서구', 'itemCode': '080300'}, {'statusCode': None, 'statusMessage': None, 'userId': 'PF_0006043', 'facilityId': 'PF_0006043_01', 'addressName': '부산광역시 강서구', 'itemCode': '080300'}, {'statusCode': None, 'statusMessage': None, 'userId': 'PF_0006044', 'facilityId': 'PF_0006044_01', 'addressName': '경상남도 고성군', 'itemCode': '080300'}, {'statusCode': None, 'statusMessage': None, 'userId': 'PF_0006045', 'facilityId': 'PF_0006045_01', 'addressName': '부산광역시 강서구', 'itemCode': '080300'}, {'statusCode': None, 'statusMessage': None, 'userId': 'PF_0006046', 'facilityId': 'PF_0006046_01', 'addressName': '전라북도 정읍시', 'itemCode': '080300'}, {'statusCode': None, 'statusMessage': None, 'userId': 'PF_0006047', 'facilityId': 'PF_0006047_01', 'addressName': '전라북도 정읍시', 'itemCode': '080300'}, {'statusCode': None, 'statusMessage': None, 'userId': 'PF_0006305', 'facilityId': 'PF_0006305_01', 'addressName': '경상북도 청도군', 'itemCode': '080400'}, {'statusCode': None, 'statusMessage': None, 'userId': 'PF_0006306', 'facilityId': 'PF_0006306_01', 'addressName': '경상북도 고령군', 'itemCode': '080400'}, {'statusCode': None, 'statusMessage': None, 'userId': 'PF_0006307', 'facilityId': 'PF_0006307_01', 'addressName': '경상북도 고령군', 'itemCode': '080400'}, {'statusCode': None, 'statusMessage': None, 'userId': 'PF_0006308', 'facilityId': 'PF_0006308_01', 'addressName': '경상북도 고령군', 'itemCode': '080400'}, {'statusCode': None, 'statusMessage': None, 'userId': 'PF_0006309', 'facilityId': 'PF_0006309_01', 'addressName': '경상북도 고령군', 'itemCode': '080400'}, {'statusCode': None, 'statusMessage': None, 'userId': 'PF_0006310', 'facilityId': 'PF_0006310_01', 'addressName': '경상북도 고령군', 'itemCode': '080400'}, {'statusCode': None, 'statusMessage': None, 'userId': 'PF_0006311', 'facilityId': 'PF_0006311_01', 'addressName': '경상북도 고령군', 'itemCode': '080400'}, {'statusCode': None, 'statusMessage': None, 'userId': 'PF_0006312', 'facilityId': 'PF_0006312_01', 'addressName': '경상북도 고령군', 'itemCode': '080400'}, {'statusCode': None, 'statusMessage': None, 'userId': 'PF_0006313', 'facilityId': 'PF_0006313_01', 'addressName': '경상북도 고령군', 'itemCode': '080400'}, {'statusCode': None, 'statusMessage': None, 'userId': 'PF_0006314', 'facilityId': 'PF_0006314_01', 'addressName': '경상북도 고령군', 'itemCode': '080400'}, {'statusCode': None, 'statusMessage': None, 'userId': 'PF_0006315', 'facilityId': 'PF_0006315_01', 'addressName': '경상북도 고령군', 'itemCode': '080400'}, {'statusCode': None, 'statusMessage': None, 'userId': 'PF_0006317', 'facilityId': 'PF_0006317_01', 'addressName': '경상북도 고령군', 'itemCode': '080400'}, {'statusCode': None, 'statusMessage': None, 'userId': 'PF_0006318', 'facilityId': 'PF_0006318_01', 'addressName': '경상북도 고령군', 'itemCode': '080400'}, {'statusCode': None, 'statusMessage': None, 'userId': 'PF_0006319', 'facilityId': 'PF_0006319_01', 'addressName': '경상북도 고령군', 'itemCode': '080400'}, {'statusCode': None, 'statusMessage': None, 'userId': 'PF_0006320', 'facilityId': 'PF_0006320_01', 'addressName': '경상북도 고령군', 'itemCode': '080400'}, {'statusCode': None, 'statusMessage': None, 'userId': 'PF_0006321', 'facilityId': 'PF_0006321_01', 'addressName': '경상북도 고령군', 'itemCode': '080400'}, {'statusCode': None, 'statusMessage': None, 'userId': 'PF_0006322', 'facilityId': 'PF_0006322_01', 'addressName': '경상북도 고령군', 'itemCode': '080400'}, {'statusCode': None, 'statusMessage': None, 'userId': 'PF_0006323', 'facilityId': 'PF_0006323_01', 'addressName': '경상북도 구미시', 'itemCode': '080400'}, {'statusCode': None, 'statusMessage': None, 'userId': 'PF_0006324', 'facilityId': 'PF_0006324_01', 'addressName': '경상북도 김천시', 'itemCode': '080400'}, {'statusCode': None, 'statusMessage': None, 'userId': 'PF_0006325', 'facilityId': 'PF_0006325_01', 'addressName': '경상북도 김천시', 'itemCode': '080400'}, {'statusCode': None, 'statusMessage': None, 'userId': 'PF_0006326', 'facilityId': 'PF_0006326_01', 'addressName': '경상북도 김천시', 'itemCode': '080400'}, {'statusCode': None, 'statusMessage': None, 'userId': 'PF_0006327', 'facilityId': 'PF_0006327_01', 'addressName': '경상북도 안동시', 'itemCode': '080400'}, {'statusCode': None, 'statusMessage': None, 'userId': 'PF_0006328', 'facilityId': 'PF_0006328_01', 'addressName': '경상북도 청도군', 'itemCode': '080400'}, {'statusCode': None, 'statusMessage': None, 'userId': 'PF_0006329', 'facilityId': 'PF_0006329_01', 'addressName': '경상북도 경주시', 'itemCode': '080400'}, {'statusCode': None, 'statusMessage': None, 'userId': 'PF_0006331', 'facilityId': 'PF_0006331_01', 'addressName': '충청남도 논산시', 'itemCode': '080400'}, {'statusCode': None, 'statusMessage': None, 'userId': 'PF_0006332', 'facilityId': 'PF_0006332_01', 'addressName': '충청남도 공주시', 'itemCode': '080400'}, {'statusCode': None, 'statusMessage': None, 'userId': 'PF_0006333', 'facilityId': 'PF_0006333_01', 'addressName': '충청남도 금산군', 'itemCode': '080400'}, {'statusCode': None, 'statusMessage': None, 'userId': 'PF_0006334', 'facilityId': 'PF_0006334_01', 'addressName': '충청남도 논산시', 'itemCode': '080400'}, {'statusCode': None, 'statusMessage': None, 'userId': 'PF_0006335', 'facilityId': 'PF_0006335_01', 'addressName': '충청남도 논산시', 'itemCode': '080400'}, {'statusCode': None, 'statusMessage': None, 'userId': 'PF_0006336', 'facilityId': 'PF_0006336_01', 'addressName': '충청남도 논산시', 'itemCode': '080400'}, {'statusCode': None, 'statusMessage': None, 'userId': 'PF_0006337', 'facilityId': 'PF_0006337_01', 'addressName': '충청남도 논산시', 'itemCode': '080400'}, {'statusCode': None, 'statusMessage': None, 'userId': 'PF_0006338', 'facilityId': 'PF_0006338_01', 'addressName': '충청남도 논산시', 'itemCode': '080400'}, {'statusCode': None, 'statusMessage': None, 'userId': 'PF_0006339', 'facilityId': 'PF_0006339_01', 'addressName': '충청남도 논산시', 'itemCode': '080400'}, {'statusCode': None, 'statusMessage': None, 'userId': 'PF_0006340', 'facilityId': 'PF_0006340_01', 'addressName': '전라북도 김제시', 'itemCode': '080400'}, {'statusCode': None, 'statusMessage': None, 'userId': 'PF_0006341', 'facilityId': 'PF_0006341_01', 'addressName': '전라북도 완주군', 'itemCode': '080400'}, {'statusCode': None, 'statusMessage': None, 'userId': 'PF_0006342', 'facilityId': 'PF_0006342_01', 'addressName': '전라북도 완주군', 'itemCode': '080400'}, {'statusCode': None, 'statusMessage': None, 'userId': 'PF_0006343', 'facilityId': 'PF_0006343_01', 'addressName': '전라북도 익산시', 'itemCode': '080400'}, {'statusCode': None, 'statusMessage': None, 'userId': 'PF_0006344', 'facilityId': 'PF_0006344_01', 'addressName': '전라북도 고창군', 'itemCode': '080400'}, {'statusCode': None, 'statusMessage': None, 'userId': 'PF_0006345', 'facilityId': 'PF_0006345_01', 'addressName': '전라북도 고창군', 'itemCode': '080400'}, {'statusCode': None, 'statusMessage': None, 'userId': 'PF_0006346', 'facilityId': 'PF_0006346_01', 'addressName': '전라북도 고창군', 'itemCode': '080400'}, {'statusCode': None, 'statusMessage': None, 'userId': 'PF_0006347', 'facilityId': 'PF_0006347_01', 'addressName': '전라북도 고창군', 'itemCode': '080400'}, {'statusCode': None, 'statusMessage': None, 'userId': 'PF_0006348', 'facilityId': 'PF_0006348_01', 'addressName': '전라남도 강진군', 'itemCode': '080400'}, {'statusCode': None, 'statusMessage': None, 'userId': 'PF_0006349', 'facilityId': 'PF_0006349_01', 'addressName': '전라남도 담양군', 'itemCode': '080400'}, {'statusCode': None, 'statusMessage': None, 'userId': 'PF_0006350', 'facilityId': 'PF_0006350_01', 'addressName': '전라남도 담양군', 'itemCode': '080400'}, {'statusCode': None, 'statusMessage': None, 'userId': 'PF_0006351', 'facilityId': 'PF_0006351_01', 'addressName': '전라남도 담양군', 'itemCode': '080400'}, {'statusCode': None, 'statusMessage': None, 'userId': 'PF_0006352', 'facilityId': 'PF_0006352_01', 'addressName': '전라남도 담양군', 'itemCode': '080400'}, {'statusCode': None, 'statusMessage': None, 'userId': 'PF_0006353', 'facilityId': 'PF_0006353_01', 'addressName': '전라남도 장성군', 'itemCode': '080400'}, {'statusCode': None, 'statusMessage': None, 'userId': 'PF_0006354', 'facilityId': 'PF_0006354_01', 'addressName': '전라남도 장성군', 'itemCode': '080400'}, {'statusCode': None, 'statusMessage': None, 'userId': 'PF_0006355', 'facilityId': 'PF_0006355_01', 'addressName': '전라남도 장성군', 'itemCode': '080400'}, {'statusCode': None, 'statusMessage': None, 'userId': 'PF_0006356', 'facilityId': 'PF_0006356_01', 'addressName': '경상남도 거창군', 'itemCode': '080400'}, {'statusCode': None, 'statusMessage': None, 'userId': 'PF_0006357', 'facilityId': 'PF_0006357_01', 'addressName': '경상남도 사천시', 'itemCode': '080400'}, {'statusCode': None, 'statusMessage': None, 'userId': 'PF_0006358', 'facilityId': 'PF_0006358_01', 'addressName': '경상남도 밀양시', 'itemCode': '080400'}, {'statusCode': None, 'statusMessage': None, 'userId': 'PF_0006359', 'facilityId': 'PF_0006359_01', 'addressName': '경상남도 진주시', 'itemCode': '080400'}, {'statusCode': None, 'statusMessage': None, 'userId': 'PF_0006360', 'facilityId': 'PF_0006360_01', 'addressName': '경상남도 진주시', 'itemCode': '080400'}, {'statusCode': None, 'statusMessage': None, 'userId': 'PF_0006361', 'facilityId': 'PF_0006361_01', 'addressName': '경상남도 하동군', 'itemCode': '080400'}, {'statusCode': None, 'statusMessage': None, 'userId': 'PF_0006362', 'facilityId': 'PF_0006362_01', 'addressName': '경상남도 하동군', 'itemCode': '080400'}, {'statusCode': None, 'statusMessage': None, 'userId': 'PF_0006363', 'facilityId': 'PF_0006363_01', 'addressName': '경상남도 합천군', 'itemCode': '080400'}, {'statusCode': None, 'statusMessage': None, 'userId': 'PF_0006364', 'facilityId': 'PF_0006364_01', 'addressName': '충청남도 논산시', 'itemCode': '080400'}, {'statusCode': None, 'statusMessage': None, 'userId': 'PF_0006365', 'facilityId': 'PF_0006365_01', 'addressName': '충청남도 논산시', 'itemCode': '080400'}, {'statusCode': None, 'statusMessage': None, 'userId': 'PF_0006366', 'facilityId': 'PF_0006366_01', 'addressName': '충청남도 논산시', 'itemCode': '080400'}, {'statusCode': None, 'statusMessage': None, 'userId': 'PF_0006367', 'facilityId': 'PF_0006367_01', 'addressName': '전라남도 곡성군', 'itemCode': '080400'}, {'statusCode': None, 'statusMessage': None, 'userId': 'PF_0006368', 'facilityId': 'PF_0006368_01', 'addressName': '전라남도 곡성군', 'itemCode': '080400'}, {'statusCode': None, 'statusMessage': None, 'userId': 'PF_0006369', 'facilityId': 'PF_0006369_01', 'addressName': '전라남도 곡성군', 'itemCode': '080400'}, {'statusCode': None, 'statusMessage': None, 'userId': 'PF_0006370', 'facilityId': 'PF_0006370_01', 'addressName': '전라북도 정읍시', 'itemCode': '080400'}, {'statusCode': None, 'statusMessage': None, 'userId': 'PF_0006401', 'facilityId': 'PF_0006401_01', 'addressName': '경상북도 고령군', 'itemCode': '080400'}, {'statusCode': None, 'statusMessage': None, 'userId': 'PF_0006402', 'facilityId': 'PF_0006402_01', 'addressName': '경상북도 김천시', 'itemCode': '060300'}, {'statusCode': None, 'statusMessage': None, 'userId': 'PF_0006403', 'facilityId': 'PF_0006403_01', 'addressName': '경상북도 칠곡군', 'itemCode': '080200'}, {'statusCode': None, 'statusMessage': None, 'userId': 'PF_0006404', 'facilityId': 'PF_0006404_01', 'addressName': '경상북도 경산시', 'itemCode': '080300'}, {'statusCode': None, 'statusMessage': None, 'userId': 'PF_0006405', 'facilityId': 'PF_0006405_01', 'addressName': '경상북도 칠곡군', 'itemCode': '080200'}, {'statusCode': None, 'statusMessage': None, 'userId': 'PF_0006406', 'facilityId': 'PF_0006406_01', 'addressName': '경상북도 칠곡군', 'itemCode': '080200'}, {'statusCode': None, 'statusMessage': None, 'userId': 'PF_0006407', 'facilityId': 'PF_0006407_01', 'addressName': '경상북도 칠곡군', 'itemCode': '080200'}, {'statusCode': None, 'statusMessage': None, 'userId': 'PF_0006408', 'facilityId': 'PF_0006408_01', 'addressName': '경상북도 성주군', 'itemCode': '080200'}, {'statusCode': None, 'statusMessage': None, 'userId': 'PF_0006409', 'facilityId': 'PF_0006409_01', 'addressName': '경상북도 성주군', 'itemCode': '080200'}, {'statusCode': None, 'statusMessage': None, 'userId': 'PF_0006410', 'facilityId': 'PF_0006410_01', 'addressName': '경상북도 성주군', 'itemCode': '080200'}, {'statusCode': None, 'statusMessage': None, 'userId': 'PF_0006411', 'facilityId': 'PF_0006411_01', 'addressName': '경상북도 칠곡군', 'itemCode': '060300'}, {'statusCode': None, 'statusMessage': None, 'userId': 'PF_0006412', 'facilityId': 'PF_0006412_01', 'addressName': '경상북도 칠곡군', 'itemCode': '080300'}, {'statusCode': None, 'statusMessage': None, 'userId': 'PF_0006413', 'facilityId': 'PF_0006413_01', 'addressName': '경상북도 고령군', 'itemCode': '080400'}, {'statusCode': None, 'statusMessage': None, 'userId': 'PF_0006414', 'facilityId': 'PF_0006414_01', 'addressName': '경상북도 칠곡군', 'itemCode': '080300'}, {'statusCode': None, 'statusMessage': None, 'userId': 'PF_0006415', 'facilityId': 'PF_0006415_01', 'addressName': '경상북도 칠곡군', 'itemCode': '080300'}, {'statusCode': None, 'statusMessage': None, 'userId': 'PF_0006602', 'facilityId': 'PF_0006602_01', 'addressName': '경기도 화성시', 'itemCode': '060300'}, {'statusCode': None, 'statusMessage': None, 'userId': 'PF_0006603', 'facilityId': 'PF_0006603_01', 'addressName': '경기도 화성시', 'itemCode': '060300'}, {'statusCode': None, 'statusMessage': None, 'userId': 'PF_0006604', 'facilityId': 'PF_0006604_01', 'addressName': '경기도 화성시', 'itemCode': '060300'}, {'statusCode': None, 'statusMessage': None, 'userId': 'PF_0006605', 'facilityId': 'PF_0006605_01', 'addressName': '경기도 화성시', 'itemCode': '060300'}, {'statusCode': None, 'statusMessage': None, 'userId': 'PF_0006606', 'facilityId': 'PF_0006606_01', 'addressName': '경기도 화성시', 'itemCode': '060300'}, {'statusCode': None, 'statusMessage': None, 'userId': 'PF_0006607', 'facilityId': 'PF_0006607_01', 'addressName': '경기도 화성시', 'itemCode': '060300'}, {'statusCode': None, 'statusMessage': None, 'userId': 'PF_0006608', 'facilityId': 'PF_0006608_01', 'addressName': '경기도 화성시', 'itemCode': '060300'}, {'statusCode': None, 'statusMessage': None, 'userId': 'PF_0006609', 'facilityId': 'PF_0006609_01', 'addressName': '경기도 화성시', 'itemCode': '060300'}, {'statusCode': None, 'statusMessage': None, 'userId': 'PF_0006610', 'facilityId': 'PF_0006610_01', 'addressName': '경기도 화성시', 'itemCode': '060300'}, {'statusCode': None, 'statusMessage': None, 'userId': 'PF_0006611', 'facilityId': 'PF_0006611_01', 'addressName': '경기도 화성시', 'itemCode': '060300'}, {'statusCode': None, 'statusMessage': None, 'userId': 'PF_0006612', 'facilityId': 'PF_0006612_01', 'addressName': '경기도 화성시', 'itemCode': '060300'}, {'statusCode': None, 'statusMessage': None, 'userId': 'PF_0006613', 'facilityId': 'PF_0006613_01', 'addressName': '경기도 화성시', 'itemCode': '060300'}, {'statusCode': None, 'statusMessage': None, 'userId': 'PF_0006614', 'facilityId': 'PF_0006614_01', 'addressName': '경기도 화성시', 'itemCode': '060300'}, {'statusCode': None, 'statusMessage': None, 'userId': 'PF_0006615', 'facilityId': 'PF_0006615_01', 'addressName': '경기도 화성시', 'itemCode': '060300'}, {'statusCode': None, 'statusMessage': None, 'userId': 'PF_0006616', 'facilityId': 'PF_0006616_01', 'addressName': '경기도 화성시', 'itemCode': '060300'}, {'statusCode': None, 'statusMessage': None, 'userId': 'PF_0006617', 'facilityId': 'PF_0006617_01', 'addressName': '경기도 화성시', 'itemCode': '060300'}, {'statusCode': None, 'statusMessage': None, 'userId': 'PF_0006618', 'facilityId': 'PF_0006618_01', 'addressName': '경기도 화성시', 'itemCode': '060300'}, {'statusCode': None, 'statusMessage': None, 'userId': 'PF_0006619', 'facilityId': 'PF_0006619_01', 'addressName': '경기도 화성시', 'itemCode': '060300'}, {'statusCode': None, 'statusMessage': None, 'userId': 'PF_0006620', 'facilityId': 'PF_0006620_01', 'addressName': '경기도 화성시', 'itemCode': '060300'}, {'statusCode': None, 'statusMessage': None, 'userId': 'PF_0006621', 'facilityId': 'PF_0006621_01', 'addressName': '경기도 화성시', 'itemCode': '060300'}, {'statusCode': None, 'statusMessage': None, 'userId': 'PF_0006622', 'facilityId': 'PF_0006622_01', 'addressName': '경기도 화성시', 'itemCode': '060300'}, {'statusCode': None, 'statusMessage': None, 'userId': 'PF_0006623', 'facilityId': 'PF_0006623_01', 'addressName': '경기도 화성시', 'itemCode': '060300'}, {'statusCode': None, 'statusMessage': None, 'userId': 'PF_0006624', 'facilityId': 'PF_0006624_01', 'addressName': '경기도 화성시', 'itemCode': '060300'}, {'statusCode': None, 'statusMessage': None, 'userId': 'PF_0006625', 'facilityId': 'PF_0006625_01', 'addressName': '경기도 화성시', 'itemCode': '060300'}, {'statusCode': None, 'statusMessage': None, 'userId': 'PF_0006626', 'facilityId': 'PF_0006626_01', 'addressName': '경기도 화성시', 'itemCode': '060300'}, {'statusCode': None, 'statusMessage': None, 'userId': 'PF_0006627', 'facilityId': 'PF_0006627_01', 'addressName': '경기도 화성시', 'itemCode': '060300'}, {'statusCode': None, 'statusMessage': None, 'userId': 'PF_0006628', 'facilityId': 'PF_0006628_01', 'addressName': '경기도 화성시', 'itemCode': '060300'}, {'statusCode': None, 'statusMessage': None, 'userId': 'PF_0006629', 'facilityId': 'PF_0006629_01', 'addressName': '경기도 화성시', 'itemCode': '060300'}, {'statusCode': None, 'statusMessage': None, 'userId': 'PF_0006630', 'facilityId': 'PF_0006630_01', 'addressName': '경기도 화성시', 'itemCode': '060300'}, {'statusCode': None, 'statusMessage': None, 'userId': 'PF_0006631', 'facilityId': 'PF_0006631_01', 'addressName': '경기도 화성시', 'itemCode': '060300'}, {'statusCode': None, 'statusMessage': None, 'userId': 'PF_0006632', 'facilityId': 'PF_0006632_01', 'addressName': '경기도 화성시', 'itemCode': '060300'}, {'statusCode': None, 'statusMessage': None, 'userId': 'PF_0006633', 'facilityId': 'PF_0006633_01', 'addressName': '경기도 화성시', 'itemCode': '060300'}, {'statusCode': None, 'statusMessage': None, 'userId': 'PF_0006634', 'facilityId': 'PF_0006634_01', 'addressName': '경기도 화성시', 'itemCode': '060300'}, {'statusCode': None, 'statusMessage': None, 'userId': 'PF_0006635', 'facilityId': 'PF_0006635_01', 'addressName': '경기도 화성시', 'itemCode': '060300'}, {'statusCode': None, 'statusMessage': None, 'userId': 'PF_0006636', 'facilityId': 'PF_0006636_01', 'addressName': '경기도 화성시', 'itemCode': '060300'}, {'statusCode': None, 'statusMessage': None, 'userId': 'PF_0006637', 'facilityId': 'PF_0006637_01', 'addressName': '경기도 화성시', 'itemCode': '060300'}, {'statusCode': None, 'statusMessage': None, 'userId': 'PF_0006638', 'facilityId': 'PF_0006638_01', 'addressName': '경기도 화성시', 'itemCode': '060300'}, {'statusCode': None, 'statusMessage': None, 'userId': 'PF_0006639', 'facilityId': 'PF_0006639_01', 'addressName': '경기도 화성시', 'itemCode': '060300'}, {'statusCode': None, 'statusMessage': None, 'userId': 'PF_0006640', 'facilityId': 'PF_0006640_01', 'addressName': '경기도 화성시', 'itemCode': '060300'}, {'statusCode': None, 'statusMessage': None, 'userId': 'PF_0006641', 'facilityId': 'PF_0006641_01', 'addressName': '경기도 화성시', 'itemCode': '060300'}, {'statusCode': None, 'statusMessage': None, 'userId': 'PF_0006642', 'facilityId': 'PF_0006642_01', 'addressName': '경기도 화성시', 'itemCode': '060300'}, {'statusCode': None, 'statusMessage': None, 'userId': 'PF_0006643', 'facilityId': 'PF_0006643_01', 'addressName': '경기도 화성시', 'itemCode': '060300'}, {'statusCode': None, 'statusMessage': None, 'userId': 'PF_0006644', 'facilityId': 'PF_0006644_01', 'addressName': '경기도 화성시', 'itemCode': '060300'}, {'statusCode': None, 'statusMessage': None, 'userId': 'PF_0006645', 'facilityId': 'PF_0006645_01', 'addressName': '경기도 화성시', 'itemCode': '060300'}, {'statusCode': None, 'statusMessage': None, 'userId': 'PF_0006646', 'facilityId': 'PF_0006646_01', 'addressName': '경기도 화성시', 'itemCode': '060300'}, {'statusCode': None, 'statusMessage': None, 'userId': 'PF_0006647', 'facilityId': 'PF_0006647_01', 'addressName': '경기도 안양시 동안구', 'itemCode': '060300'}, {'statusCode': None, 'statusMessage': None, 'userId': 'PF_0010002', 'facilityId': 'PF_0010002_01', 'addressName': '경상남도 창원시', 'itemCode': '132600'}, {'statusCode': None, 'statusMessage': None, 'userId': 'PF_0010003', 'facilityId': 'PF_0010003_01', 'addressName': '경상북도 경주시', 'itemCode': '080400'}, {'statusCode': None, 'statusMessage': None, 'userId': 'PF_0010004', 'facilityId': 'PF_0010004_01', 'addressName': '경상북도 상주시', 'itemCode': '090100'}, {'statusCode': None, 'statusMessage': None, 'userId': 'PF_0010006', 'facilityId': 'PF_0010006_01', 'addressName': '경상북도 성주군', 'itemCode': '080200'}, {'statusCode': None, 'statusMessage': None, 'userId': 'PF_0010008', 'facilityId': 'PF_0010008_01', 'addressName': '경상북도 포항시 북구', 'itemCode': '080400'}, {'statusCode': None, 'statusMessage': None, 'userId': 'PF_0010011', 'facilityId': 'PF_0010011_01', 'addressName': '전라북도 남원시', 'itemCode': '080400'}, {'statusCode': None, 'statusMessage': None, 'userId': 'PF_0010012', 'facilityId': 'PF_0010012_01', 'addressName': '전라북도 남원시', 'itemCode': '132600'}, {'statusCode': None, 'statusMessage': None, 'userId': 'PF_0010014', 'facilityId': 'PF_0010014_01', 'addressName': '전라북도 임실군', 'itemCode': '080300'}, {'statusCode': None, 'statusMessage': None, 'userId': 'PF_0010016', 'facilityId': 'PF_0010016_01', 'addressName': '전라북도 장수군', 'itemCode': '080300'}, {'statusCode': None, 'statusMessage': None, 'userId': 'PF_0010019', 'facilityId': 'PF_0010019_01', 'addressName': '전라북도 정읍시', 'itemCode': '080300'}, {'statusCode': None, 'statusMessage': None, 'userId': 'PF_0010020', 'facilityId': 'PF_0010020_01', 'addressName': '전라북도 정읍시', 'itemCode': '080300'}, {'statusCode': None, 'statusMessage': None, 'userId': 'PF_0010021', 'facilityId': 'PF_0010021_01', 'addressName': '전라북도 정읍시', 'itemCode': '080400'}, {'statusCode': None, 'statusMessage': None, 'userId': 'PF_0010022', 'facilityId': 'PF_0010022_01', 'addressName': '전라북도 정읍시', 'itemCode': '080300'}, {'statusCode': None, 'statusMessage': None, 'userId': 'PF_0010051', 'facilityId': 'PF_0010051_01', 'addressName': '전라남도 광양시', 'itemCode': '132600'}, {'statusCode': None, 'statusMessage': None, 'userId': 'PF_0010052', 'facilityId': 'PF_0010052_01', 'addressName': '전라남도 화순군', 'itemCode': '080400'}, {'statusCode': None, 'statusMessage': None, 'userId': 'PF_0010054', 'facilityId': 'PF_0010054_01', 'addressName': '전라북도 임실군', 'itemCode': '080300'}, {'statusCode': None, 'statusMessage': None, 'userId': 'PF_0010055', 'facilityId': 'PF_0010055_01', 'addressName': '충청남도 부여군', 'itemCode': '080300'}, {'statusCode': None, 'statusMessage': None, 'userId': 'PF_0010056', 'facilityId': 'PF_0010056_01', 'addressName': '충청남도 부여군', 'itemCode': '080300'}, {'statusCode': None, 'statusMessage': None, 'userId': 'PF_0010057', 'facilityId': 'PF_0010057_01', 'addressName': '충청남도 부여군', 'itemCode': '080300'}, {'statusCode': None, 'statusMessage': None, 'userId': 'PF_0010059', 'facilityId': 'PF_0010059_01', 'addressName': '경상남도 사천시', 'itemCode': '080300'}, {'statusCode': None, 'statusMessage': None, 'userId': 'PF_0010060', 'facilityId': 'PF_0010060_01', 'addressName': '경상남도 산청군', 'itemCode': '080400'}, {'statusCode': None, 'statusMessage': None, 'userId': 'PF_0010063', 'facilityId': 'PF_0010063_01', 'addressName': '경상북도 상주시', 'itemCode': '090100'}, {'statusCode': None, 'statusMessage': None, 'userId': 'PF_0010064', 'facilityId': 'PF_0010064_01', 'addressName': '경상북도 상주시', 'itemCode': '060300'}, {'statusCode': None, 'statusMessage': None, 'userId': 'PF_0010065', 'facilityId': 'PF_0010065_01', 'addressName': '전라남도 화순군', 'itemCode': '080400'}, {'statusCode': None, 'statusMessage': None, 'userId': 'PF_0010066', 'facilityId': 'PF_0010066_01', 'addressName': '전라북도 정읍시', 'itemCode': '080300'}, {'statusCode': None, 'statusMessage': None, 'userId': 'PF_0010067', 'facilityId': 'PF_0010067_01', 'addressName': '전라북도 남원시', 'itemCode': '132600'}, {'statusCode': None, 'statusMessage': None, 'userId': 'PF_0010068', 'facilityId': 'PF_0010068_01', 'addressName': '전라북도 진안군', 'itemCode': '080300'}, {'statusCode': None, 'statusMessage': None, 'userId': 'PF_0010069', 'facilityId': 'PF_0010069_01', 'addressName': '전라북도 김제시', 'itemCode': '080400'}, {'statusCode': None, 'statusMessage': None, 'userId': 'PF_0010070', 'facilityId': 'PF_0010070_01', 'addressName': '충청남도 부여군', 'itemCode': '132600'}, {'statusCode': None, 'statusMessage': None, 'userId': 'PF_0010071', 'facilityId': 'PF_0010071_01', 'addressName': '충청남도 부여군', 'itemCode': '080300'}, {'statusCode': None, 'statusMessage': None, 'userId': 'PF_0010072', 'facilityId': 'PF_0010072_01', 'addressName': '충청남도 부여군', 'itemCode': '132600'}, {'statusCode': None, 'statusMessage': None, 'userId': 'PF_0010073', 'facilityId': 'PF_0010073_01', 'addressName': '충청남도 부여군', 'itemCode': '132600'}, {'statusCode': None, 'statusMessage': None, 'userId': 'PF_0010074', 'facilityId': 'PF_0010074_01', 'addressName': '충청남도 부여군', 'itemCode': '132600'}, {'statusCode': None, 'statusMessage': None, 'userId': 'PF_0010075', 'facilityId': 'PF_0010075_01', 'addressName': '전라북도 김제시', 'itemCode': '080300'}, {'statusCode': None, 'statusMessage': None, 'userId': 'PF_0010076', 'facilityId': 'PF_0010076_01', 'addressName': '전라북도 김제시', 'itemCode': '080300'}, {'statusCode': None, 'statusMessage': None, 'userId': 'PF_0010077', 'facilityId': 'PF_0010077_01', 'addressName': '충청남도 부여군', 'itemCode': '080300'}, {'statusCode': None, 'statusMessage': None, 'userId': 'PF_0010078', 'facilityId': 'PF_0010078_01', 'addressName': '전라북도 임실군', 'itemCode': '080600'}, {'statusCode': None, 'statusMessage': None, 'userId': 'PF_0020046', 'facilityId': 'PF_0020046_01', 'addressName': '전라남도 영암군', 'itemCode': '080400'}, {'statusCode': None, 'statusMessage': None, 'userId': 'PF_0020062', 'facilityId': 'PF_0020062_01', 'addressName': '전라남도 담양군', 'itemCode': '080400'}, {'statusCode': None, 'statusMessage': None, 'userId': 'PF_0020074', 'facilityId': 'PF_0020074_01', 'addressName': '충청남도 부여군', 'itemCode': '080300'}, {'statusCode': None, 'statusMessage': None, 'userId': 'PF_0020085', 'facilityId': 'PF_0020085_01', 'addressName': '전라북도 김제시', 'itemCode': '080400'}, {'statusCode': None, 'statusMessage': None, 'userId': 'PF_0020124', 'facilityId': 'PF_0020124_01', 'addressName': '전라북도 부안군', 'itemCode': '080400'}, {'statusCode': None, 'statusMessage': None, 'userId': 'PF_0020353', 'facilityId': 'PF_0020353_01', 'addressName': '충청북도 보은군', 'itemCode': '080300'}, {'statusCode': None, 'statusMessage': None, 'userId': 'PF_0020354', 'facilityId': 'PF_0020354_01', 'addressName': '충청남도 보령시', 'itemCode': '080400'}, {'statusCode': None, 'statusMessage': None, 'userId': 'PF_0020355', 'facilityId': 'PF_0020355_01', 'addressName': '경기도 안성시', 'itemCode': '090300'}, {'statusCode': None, 'statusMessage': None, 'userId': 'PF_0020356', 'facilityId': 'PF_0020356_01', 'addressName': '경상남도 사천시', 'itemCode': '080300'}, {'statusCode': None, 'statusMessage': None, 'userId': 'PF_0020394', 'facilityId': 'PF_0020394_01', 'addressName': '전라남도 보성군', 'itemCode': '080400'}, {'statusCode': None, 'statusMessage': None, 'userId': 'PF_0020466', 'facilityId': 'PF_0020466_01', 'addressName': None, 'itemCode': '080400'}, {'statusCode': None, 'statusMessage': None, 'userId': 'PF_0020467', 'facilityId': 'PF_0020467_01', 'addressName': None, 'itemCode': '080400'}, {'statusCode': None, 'statusMessage': None, 'userId': 'PF_0020468', 'facilityId': 'PF_0020468_01', 'addressName': None, 'itemCode': '080400'}, {'statusCode': None, 'statusMessage': None, 'userId': 'PF_0020469', 'facilityId': 'PF_0020469_01', 'addressName': None, 'itemCode': '080400'}, {'statusCode': None, 'statusMessage': None, 'userId': 'PF_0020470', 'facilityId': 'PF_0020470_01', 'addressName': None, 'itemCode': '080400'}, {'statusCode': None, 'statusMessage': None, 'userId': 'PF_0020471', 'facilityId': 'PF_0020471_01', 'addressName': None, 'itemCode': '080400'}, {'statusCode': None, 'statusMessage': None, 'userId': 'PF_0020472', 'facilityId': 'PF_0020472_01', 'addressName': None, 'itemCode': '080400'}, {'statusCode': None, 'statusMessage': None, 'userId': 'PF_0020473', 'facilityId': 'PF_0020473_01', 'addressName': None, 'itemCode': '080400'}, {'statusCode': None, 'statusMessage': None, 'userId': 'PF_0020474', 'facilityId': 'PF_0020474_01', 'addressName': None, 'itemCode': '080400'}, {'statusCode': None, 'statusMessage': None, 'userId': 'PF_0020475', 'facilityId': 'PF_0020475_01', 'addressName': None, 'itemCode': '080400'}, {'statusCode': None, 'statusMessage': None, 'userId': 'PF_0020476', 'facilityId': 'PF_0020476_01', 'addressName': None, 'itemCode': '080400'}, {'statusCode': None, 'statusMessage': None, 'userId': 'PF_0020477', 'facilityId': 'PF_0020477_01', 'addressName': None, 'itemCode': '080400'}, {'statusCode': None, 'statusMessage': None, 'userId': 'PF_0020478', 'facilityId': 'PF_0020478_01', 'addressName': None, 'itemCode': '080400'}, {'statusCode': None, 'statusMessage': None, 'userId': 'PF_0020479', 'facilityId': 'PF_0020479_01', 'addressName': None, 'itemCode': '080400'}, {'statusCode': None, 'statusMessage': None, 'userId': 'PF_0020480', 'facilityId': 'PF_0020480_01', 'addressName': None, 'itemCode': '080400'}, {'statusCode': None, 'statusMessage': None, 'userId': 'PF_0020481', 'facilityId': 'PF_0020481_01', 'addressName': None, 'itemCode': '080400'}, {'statusCode': None, 'statusMessage': None, 'userId': 'PF_0020482', 'facilityId': 'PF_0020482_01', 'addressName': None, 'itemCode': '080400'}, {'statusCode': None, 'statusMessage': None, 'userId': 'PF_0020483', 'facilityId': 'PF_0020483_01', 'addressName': None, 'itemCode': '080400'}, {'statusCode': None, 'statusMessage': None, 'userId': 'PF_0020484', 'facilityId': 'PF_0020484_01', 'addressName': None, 'itemCode': '080400'}, {'statusCode': None, 'statusMessage': None, 'userId': 'PF_0020485', 'facilityId': 'PF_0020485_01', 'addressName': None, 'itemCode': '080400'}, {'statusCode': None, 'statusMessage': None, 'userId': 'PF_0020486', 'facilityId': 'PF_0020486_01', 'addressName': None, 'itemCode': '080400'}, {'statusCode': None, 'statusMessage': None, 'userId': 'PF_0020487', 'facilityId': 'PF_0020487_01', 'addressName': None, 'itemCode': '080400'}, {'statusCode': None, 'statusMessage': None, 'userId': 'PF_0020488', 'facilityId': 'PF_0020488_01', 'addressName': None, 'itemCode': '080400'}, {'statusCode': None, 'statusMessage': None, 'userId': 'PF_0020489', 'facilityId': 'PF_0020489_01', 'addressName': None, 'itemCode': '080400'}, {'statusCode': None, 'statusMessage': None, 'userId': 'PF_0020490', 'facilityId': 'PF_0020490_01', 'addressName': None, 'itemCode': '080400'}, {'statusCode': None, 'statusMessage': None, 'userId': 'PF_0020491', 'facilityId': 'PF_0020491_01', 'addressName': None, 'itemCode': '080400'}, {'statusCode': None, 'statusMessage': None, 'userId': 'PF_0020492', 'facilityId': 'PF_0020492_01', 'addressName': None, 'itemCode': '080400'}, {'statusCode': None, 'statusMessage': None, 'userId': 'PF_0020493', 'facilityId': 'PF_0020493_01', 'addressName': None, 'itemCode': '080400'}, {'statusCode': None, 'statusMessage': None, 'userId': 'PF_0020494', 'facilityId': 'PF_0020494_01', 'addressName': None, 'itemCode': '080400'}, {'statusCode': None, 'statusMessage': None, 'userId': 'PF_0020495', 'facilityId': 'PF_0020495_01', 'addressName': None, 'itemCode': '080400'}, {'statusCode': None, 'statusMessage': None, 'userId': 'PF_0020496', 'facilityId': 'PF_0020496_01', 'addressName': None, 'itemCode': '080400'}, {'statusCode': None, 'statusMessage': None, 'userId': 'PF_0020497', 'facilityId': 'PF_0020497_01', 'addressName': None, 'itemCode': '080400'}, {'statusCode': None, 'statusMessage': None, 'userId': 'PF_0020498', 'facilityId': 'PF_0020498_01', 'addressName': None, 'itemCode': '080400'}, {'statusCode': None, 'statusMessage': None, 'userId': 'PF_0020499', 'facilityId': 'PF_0020499_01', 'addressName': None, 'itemCode': '080400'}, {'statusCode': None, 'statusMessage': None, 'userId': 'PF_0020500', 'facilityId': 'PF_0020500_01', 'addressName': None, 'itemCode': '080400'}, {'statusCode': None, 'statusMessage': None, 'userId': 'PF_0020501', 'facilityId': 'PF_0020501_01', 'addressName': None, 'itemCode': '080400'}, {'statusCode': None, 'statusMessage': None, 'userId': 'PF_0020502', 'facilityId': 'PF_0020502_01', 'addressName': None, 'itemCode': '080400'}, {'statusCode': None, 'statusMessage': None, 'userId': 'PF_0020503', 'facilityId': 'PF_0020503_01', 'addressName': None, 'itemCode': '080400'}, {'statusCode': None, 'statusMessage': None, 'userId': 'PF_0020504', 'facilityId': 'PF_0020504_01', 'addressName': None, 'itemCode': '080400'}, {'statusCode': None, 'statusMessage': None, 'userId': 'PF_0020505', 'facilityId': 'PF_0020505_01', 'addressName': None, 'itemCode': '080400'}, {'statusCode': None, 'statusMessage': None, 'userId': 'PF_0020506', 'facilityId': 'PF_0020506_01', 'addressName': None, 'itemCode': '080400'}, {'statusCode': None, 'statusMessage': None, 'userId': 'PF_0020507', 'facilityId': 'PF_0020507_01', 'addressName': None, 'itemCode': '080400'}, {'statusCode': None, 'statusMessage': None, 'userId': 'PF_0020508', 'facilityId': 'PF_0020508_01', 'addressName': None, 'itemCode': '080400'}, {'statusCode': None, 'statusMessage': None, 'userId': 'PF_0020509', 'facilityId': 'PF_0020509_01', 'addressName': None, 'itemCode': '080400'}, {'statusCode': None, 'statusMessage': None, 'userId': 'PF_0020510', 'facilityId': 'PF_0020510_01', 'addressName': None, 'itemCode': '080400'}, {'statusCode': None, 'statusMessage': None, 'userId': 'PF_0020511', 'facilityId': 'PF_0020511_01', 'addressName': None, 'itemCode': '080400'}, {'statusCode': None, 'statusMessage': None, 'userId': 'PF_0020512', 'facilityId': 'PF_0020512_01', 'addressName': None, 'itemCode': '080400'}, {'statusCode': None, 'statusMessage': None, 'userId': 'PF_0020513', 'facilityId': 'PF_0020513_01', 'addressName': None, 'itemCode': '080400'}, {'statusCode': None, 'statusMessage': None, 'userId': 'PF_0020514', 'facilityId': 'PF_0020514_01', 'addressName': None, 'itemCode': '080400'}, {'statusCode': None, 'statusMessage': None, 'userId': 'PF_0020515', 'facilityId': 'PF_0020515_01', 'addressName': None, 'itemCode': '080400'}, {'statusCode': None, 'statusMessage': None, 'userId': 'PF_0020516', 'facilityId': 'PF_0020516_01', 'addressName': None, 'itemCode': '080400'}, {'statusCode': None, 'statusMessage': None, 'userId': 'PF_0020517', 'facilityId': 'PF_0020517_01', 'addressName': None, 'itemCode': '080400'}, {'statusCode': None, 'statusMessage': None, 'userId': 'PF_0020518', 'facilityId': 'PF_0020518_01', 'addressName': None, 'itemCode': '080400'}, {'statusCode': None, 'statusMessage': None, 'userId': 'PF_0020519', 'facilityId': 'PF_0020519_01', 'addressName': None, 'itemCode': '080400'}, {'statusCode': None, 'statusMessage': None, 'userId': 'PF_0020520', 'facilityId': 'PF_0020520_01', 'addressName': None, 'itemCode': '080400'}, {'statusCode': None, 'statusMessage': None, 'userId': 'PF_0020521', 'facilityId': 'PF_0020521_01', 'addressName': None, 'itemCode': '080400'}, {'statusCode': None, 'statusMessage': None, 'userId': 'PF_0020522', 'facilityId': 'PF_0020522_01', 'addressName': None, 'itemCode': '080400'}, {'statusCode': None, 'statusMessage': None, 'userId': 'PF_0020523', 'facilityId': 'PF_0020523_01', 'addressName': None, 'itemCode': '080400'}, {'statusCode': None, 'statusMessage': None, 'userId': 'PF_0020524', 'facilityId': 'PF_0020524_01', 'addressName': None, 'itemCode': '080400'}, {'statusCode': None, 'statusMessage': None, 'userId': 'PF_0020525', 'facilityId': 'PF_0020525_01', 'addressName': None, 'itemCode': '080400'}, {'statusCode': None, 'statusMessage': None, 'userId': 'PF_0020526', 'facilityId': 'PF_0020526_01', 'addressName': None, 'itemCode': '080400'}, {'statusCode': None, 'statusMessage': None, 'userId': 'PF_0020527', 'facilityId': 'PF_0020527_01', 'addressName': None, 'itemCode': '080400'}, {'statusCode': None, 'statusMessage': None, 'userId': 'PF_0020528', 'facilityId': 'PF_0020528_01', 'addressName': None, 'itemCode': '080400'}, {'statusCode': None, 'statusMessage': None, 'userId': 'PF_0020529', 'facilityId': 'PF_0020529_01', 'addressName': None, 'itemCode': '080400'}, {'statusCode': None, 'statusMessage': None, 'userId': 'PF_0020530', 'facilityId': 'PF_0020530_01', 'addressName': None, 'itemCode': '080400'}, {'statusCode': None, 'statusMessage': None, 'userId': 'PF_0020531', 'facilityId': 'PF_0020531_01', 'addressName': None, 'itemCode': '080400'}, {'statusCode': None, 'statusMessage': None, 'userId': 'PF_0020532', 'facilityId': 'PF_0020532_01', 'addressName': None, 'itemCode': '080400'}, {'statusCode': None, 'statusMessage': None, 'userId': 'PF_0020533', 'facilityId': 'PF_0020533_01', 'addressName': None, 'itemCode': '080400'}, {'statusCode': None, 'statusMessage': None, 'userId': 'PF_0020534', 'facilityId': 'PF_0020534_01', 'addressName': None, 'itemCode': '080400'}, {'statusCode': None, 'statusMessage': None, 'userId': 'PF_0020535', 'facilityId': 'PF_0020535_01', 'addressName': None, 'itemCode': '080400'}, {'statusCode': None, 'statusMessage': None, 'userId': 'PF_0020536', 'facilityId': 'PF_0020536_01', 'addressName': None, 'itemCode': '080400'}, {'statusCode': None, 'statusMessage': None, 'userId': 'PF_0020537', 'facilityId': 'PF_0020537_01', 'addressName': None, 'itemCode': '080400'}, {'statusCode': None, 'statusMessage': None, 'userId': 'PF_0020538', 'facilityId': 'PF_0020538_01', 'addressName': None, 'itemCode': '080400'}, {'statusCode': None, 'statusMessage': None, 'userId': 'PF_0020539', 'facilityId': 'PF_0020539_01', 'addressName': None, 'itemCode': '080400'}, {'statusCode': None, 'statusMessage': None, 'userId': 'PF_0020540', 'facilityId': 'PF_0020540_01', 'addressName': None, 'itemCode': '080400'}, {'statusCode': None, 'statusMessage': None, 'userId': 'PF_0020541', 'facilityId': 'PF_0020541_01', 'addressName': None, 'itemCode': '080400'}, {'statusCode': None, 'statusMessage': None, 'userId': 'PF_0020542', 'facilityId': 'PF_0020542_01', 'addressName': None, 'itemCode': '080400'}, {'statusCode': None, 'statusMessage': None, 'userId': 'PF_0020543', 'facilityId': 'PF_0020543_01', 'addressName': None, 'itemCode': '080400'}, {'statusCode': None, 'statusMessage': None, 'userId': 'PF_0020544', 'facilityId': 'PF_0020544_01', 'addressName': None, 'itemCode': '080400'}, {'statusCode': None, 'statusMessage': None, 'userId': 'PF_0020545', 'facilityId': 'PF_0020545_01', 'addressName': None, 'itemCode': '080400'}, {'statusCode': None, 'statusMessage': None, 'userId': 'PF_0020546', 'facilityId': 'PF_0020546_01', 'addressName': None, 'itemCode': '080400'}, {'statusCode': None, 'statusMessage': None, 'userId': 'PF_0020547', 'facilityId': 'PF_0020547_01', 'addressName': None, 'itemCode': '080400'}, {'statusCode': None, 'statusMessage': None, 'userId': 'PF_0020548', 'facilityId': 'PF_0020548_01', 'addressName': None, 'itemCode': '080400'}, {'statusCode': None, 'statusMessage': None, 'userId': 'PF_0020549', 'facilityId': 'PF_0020549_01', 'addressName': None, 'itemCode': '080400'}, {'statusCode': None, 'statusMessage': None, 'userId': 'PF_0020550', 'facilityId': 'PF_0020550_01', 'addressName': None, 'itemCode': '080400'}, {'statusCode': None, 'statusMessage': None, 'userId': 'PF_0020551', 'facilityId': 'PF_0020551_01', 'addressName': None, 'itemCode': '080400'}, {'statusCode': None, 'statusMessage': None, 'userId': 'PF_0020656', 'facilityId': 'PF_0020656_01', 'addressName': '충청남도 천안시', 'itemCode': '090100'}, {'statusCode': None, 'statusMessage': None, 'userId': 'PF_0020671', 'facilityId': 'PF_0020671_01', 'addressName': '경기도 안산시', 'itemCode': '080300'}, {'statusCode': None, 'statusMessage': None, 'userId': 'PF_0020672', 'facilityId': 'PF_0020672_01', 'addressName': '전라남도 담양군', 'itemCode': '080400'}, {'statusCode': None, 'statusMessage': None, 'userId': 'PF_0020673', 'facilityId': 'PF_0020673_01', 'addressName': '전라남도 담양군', 'itemCode': '080400'}, {'statusCode': None, 'statusMessage': None, 'userId': 'PF_0020674', 'facilityId': 'PF_0020674_01', 'addressName': '전라남도 담양군', 'itemCode': '080400'}, {'statusCode': None, 'statusMessage': None, 'userId': 'PF_0020675', 'facilityId': 'PF_0020675_01', 'addressName': '경기도 연천군', 'itemCode': '080400'}, {'statusCode': None, 'statusMessage': None, 'userId': 'PF_0020676', 'facilityId': 'PF_0020676_01', 'addressName': '경기도 양주시', 'itemCode': '080400'}, {'statusCode': None, 'statusMessage': None, 'userId': 'PF_0020677', 'facilityId': 'PF_0020677_01', 'addressName': '전라남도 고흥군', 'itemCode': '080400'}, {'statusCode': None, 'statusMessage': None, 'userId': 'PF_0020678', 'facilityId': 'PF_0020678_01', 'addressName': '경기도 화성시', 'itemCode': '080400'}, {'statusCode': None, 'statusMessage': None, 'userId': 'PF_0020679', 'facilityId': 'PF_0020679_01', 'addressName': '전라남도 보성군', 'itemCode': '080400'}, {'statusCode': None, 'statusMessage': None, 'userId': 'PF_0020680', 'facilityId': 'PF_0020680_01', 'addressName': '경기도 화성시', 'itemCode': '080400'}, {'statusCode': None, 'statusMessage': None, 'userId': 'PF_0020681', 'facilityId': 'PF_0020681_01', 'addressName': '전라남도 보성군', 'itemCode': '080400'}, {'statusCode': None, 'statusMessage': None, 'userId': 'PF_0020683', 'facilityId': 'PF_0020683_01', 'addressName': '전라남도 보성군', 'itemCode': '080400'}, {'statusCode': None, 'statusMessage': None, 'userId': 'PF_0020685', 'facilityId': 'PF_0020685_01', 'addressName': '전라남도 강진군', 'itemCode': '080400'}, {'statusCode': None, 'statusMessage': None, 'userId': 'PF_0020686', 'facilityId': 'PF_0020686_01', 'addressName': '경기도 안산시', 'itemCode': '080400'}, {'statusCode': None, 'statusMessage': None, 'userId': 'PF_0020687', 'facilityId': 'PF_0020687_01', 'addressName': '전라남도 영암군', 'itemCode': '080400'}, {'statusCode': None, 'statusMessage': None, 'userId': 'PF_0020688', 'facilityId': 'PF_0020688_01', 'addressName': '경기도 화성시', 'itemCode': '080400'}, {'statusCode': None, 'statusMessage': None, 'userId': 'PF_0020689', 'facilityId': 'PF_0020689_01', 'addressName': '충청남도 홍성군', 'itemCode': '080400'}, {'statusCode': None, 'statusMessage': None, 'userId': 'PF_0020694', 'facilityId': 'PF_0020694_01', 'addressName': '충청남도 아산시', 'itemCode': '080400'}, {'statusCode': None, 'statusMessage': None, 'userId': 'PF_0020696', 'facilityId': 'PF_0020696_01', 'addressName': '경상북도 청도군', 'itemCode': '080400'}, {'statusCode': None, 'statusMessage': None, 'userId': 'PF_0020697', 'facilityId': 'PF_0020697_01', 'addressName': '충청북도 진천군', 'itemCode': '080400'}, {'statusCode': None, 'statusMessage': None, 'userId': 'PF_0020698', 'facilityId': 'PF_0020698_01', 'addressName': '충청북도 진천군', 'itemCode': '080400'}, {'statusCode': None, 'statusMessage': None, 'userId': 'PF_0020699', 'facilityId': 'PF_0020699_01', 'addressName': '대전광역시 유성구', 'itemCode': '080400'}, {'statusCode': None, 'statusMessage': None, 'userId': 'PF_0020701', 'facilityId': 'PF_0020701_01', 'addressName': '전라남도 화순군', 'itemCode': '080300'}, {'statusCode': None, 'statusMessage': None, 'userId': 'PF_0020702', 'facilityId': 'PF_0020702_01', 'addressName': '전라남도 나주시', 'itemCode': '080400'}, {'statusCode': None, 'statusMessage': None, 'userId': 'PF_0020703', 'facilityId': 'PF_0020703_01', 'addressName': '광주광역시 광산구', 'itemCode': '080300'}, {'statusCode': None, 'statusMessage': None, 'userId': 'PF_0020704', 'facilityId': 'PF_0020704_01', 'addressName': '전라남도 장성군', 'itemCode': '080400'}, {'statusCode': None, 'statusMessage': None, 'userId': 'PF_0020705', 'facilityId': 'PF_0020705_01', 'addressName': '충청남도 천안시', 'itemCode': '080400'}, {'statusCode': None, 'statusMessage': None, 'userId': 'PF_0020712', 'facilityId': 'PF_0020712_01', 'addressName': '강원도 철원군', 'itemCode': '132600'}, {'statusCode': None, 'statusMessage': None, 'userId': 'PF_0020713', 'facilityId': 'PF_0020713_01', 'addressName': '강원도 철원군', 'itemCode': '132600'}, {'statusCode': None, 'statusMessage': None, 'userId': 'PF_0020714', 'facilityId': 'PF_0020714_01', 'addressName': '강원도 철원군', 'itemCode': '132600'}, {'statusCode': None, 'statusMessage': None, 'userId': 'PF_0020716', 'facilityId': 'PF_0020716_01', 'addressName': '강원도 철원군', 'itemCode': '132600'}, {'statusCode': None, 'statusMessage': None, 'userId': 'PF_0020717', 'facilityId': 'PF_0020717_01', 'addressName': '경기도 광주시', 'itemCode': '080400'}, {'statusCode': None, 'statusMessage': None, 'userId': 'PF_0020719', 'facilityId': 'PF_0020719_01', 'addressName': '경상남도 진주시', 'itemCode': '080400'}, {'statusCode': None, 'statusMessage': None, 'userId': 'PF_0020720', 'facilityId': 'PF_0020720_01', 'addressName': '경상남도 의령군', 'itemCode': '132600'}, {'statusCode': None, 'statusMessage': None, 'userId': 'PF_0020721', 'facilityId': 'PF_0020721_01', 'addressName': '경상남도 의령군', 'itemCode': '132600'}, {'statusCode': None, 'statusMessage': None, 'userId': 'PF_0020722', 'facilityId': 'PF_0020722_01', 'addressName': '경상남도 의령군', 'itemCode': '132600'}, {'statusCode': None, 'statusMessage': None, 'userId': 'PF_0020724', 'facilityId': 'PF_0020724_01', 'addressName': '경상북도 경주시', 'itemCode': '080300'}, {'statusCode': None, 'statusMessage': None, 'userId': 'PF_0020725', 'facilityId': 'PF_0020725_01', 'addressName': '경상북도 고령군', 'itemCode': '080300'}, {'statusCode': None, 'statusMessage': None, 'userId': 'PF_0020727', 'facilityId': 'PF_0020727_01', 'addressName': '전라남도 영광군', 'itemCode': '080400'}, {'statusCode': None, 'statusMessage': None, 'userId': 'PF_0020728', 'facilityId': 'PF_0020728_01', 'addressName': '전라북도 김제시', 'itemCode': '080400'}, {'statusCode': None, 'statusMessage': None, 'userId': 'PF_0020729', 'facilityId': 'PF_0020729_01', 'addressName': '전라북도 부안군', 'itemCode': '080400'}, {'statusCode': None, 'statusMessage': None, 'userId': 'PF_0020730', 'facilityId': 'PF_0020730_01', 'addressName': '전라북도 부안군', 'itemCode': '080400'}, {'statusCode': None, 'statusMessage': None, 'userId': 'PF_0020731', 'facilityId': 'PF_0020731_01', 'addressName': '전라북도 완주군', 'itemCode': '080400'}, {'statusCode': None, 'statusMessage': None, 'userId': 'PF_0020732', 'facilityId': 'PF_0020732_01', 'addressName': '전라북도 김제시', 'itemCode': '080400'}, {'statusCode': None, 'statusMessage': None, 'userId': 'PF_0020733', 'facilityId': 'PF_0020733_01', 'addressName': '전라북도 김제시', 'itemCode': '080400'}, {'statusCode': None, 'statusMessage': None, 'userId': 'PF_0020734', 'facilityId': 'PF_0020734_01', 'addressName': '충청남도 보령시', 'itemCode': '080400'}, {'statusCode': None, 'statusMessage': None, 'userId': 'PF_0020736', 'facilityId': 'PF_0020736_01', 'addressName': '경기도 평택시', 'itemCode': '090100'}, {'statusCode': None, 'statusMessage': None, 'userId': 'PF_0020738', 'facilityId': 'PF_0020738_01', 'addressName': '경기도 평택시', 'itemCode': '080300'}, {'statusCode': None, 'statusMessage': None, 'userId': 'PF_0020745', 'facilityId': 'PF_0020745_01', 'addressName': '전라북도 김제시', 'itemCode': '080300'}, {'statusCode': None, 'statusMessage': None, 'userId': 'PF_0020747', 'facilityId': 'PF_0020747_01', 'addressName': '전라남도 담양군', 'itemCode': '080400'}, {'statusCode': None, 'statusMessage': None, 'userId': 'PF_0020748', 'facilityId': 'PF_0020748_01', 'addressName': '전라남도 화순군', 'itemCode': '080300'}, {'statusCode': None, 'statusMessage': None, 'userId': 'PF_0020749', 'facilityId': 'PF_0020749_01', 'addressName': '전라남도 나주시', 'itemCode': '080300'}, {'statusCode': None, 'statusMessage': None, 'userId': 'PF_0020756', 'facilityId': 'PF_0020756_01', 'addressName': '전라북도 남원시', 'itemCode': '132600'}, {'statusCode': None, 'statusMessage': None, 'userId': 'PF_0020757', 'facilityId': 'PF_0020757_01', 'addressName': '전라남도 화순군', 'itemCode': '090100'}, {'statusCode': None, 'statusMessage': None, 'userId': 'PF_0020758', 'facilityId': 'PF_0020758_01', 'addressName': '전라남도 영광군', 'itemCode': '080300'}, {'statusCode': None, 'statusMessage': None, 'userId': 'PF_0020760', 'facilityId': 'PF_0020760_01', 'addressName': '전라북도 진안군', 'itemCode': '080300'}, {'statusCode': None, 'statusMessage': None, 'userId': 'PF_0020761', 'facilityId': 'PF_0020761_01', 'addressName': '전라남도 함평군', 'itemCode': '080300'}, {'statusCode': None, 'statusMessage': None, 'userId': 'PF_0020762', 'facilityId': 'PF_0020762_01', 'addressName': '충청남도 부여군', 'itemCode': '090100'}, {'statusCode': None, 'statusMessage': None, 'userId': 'PF_0020763', 'facilityId': 'PF_0020763_01', 'addressName': '충청남도 부여군', 'itemCode': '080300'}, {'statusCode': None, 'statusMessage': None, 'userId': 'PF_0020800', 'facilityId': 'PF_0020800_01', 'addressName': '전라북도 부안군', 'itemCode': '120900'}, {'statusCode': None, 'statusMessage': None, 'userId': 'PF_0020801', 'facilityId': 'PF_0020801_01', 'addressName': '전라북도 부안군', 'itemCode': '120900'}, {'statusCode': None, 'statusMessage': None, 'userId': 'PF_0020802', 'facilityId': 'PF_0020802_01', 'addressName': '전라북도 부안군', 'itemCode': '120900'}, {'statusCode': None, 'statusMessage': None, 'userId': 'PF_0020803', 'facilityId': 'PF_0020803_01', 'addressName': '전라북도 부안군', 'itemCode': '120900'}, {'statusCode': None, 'statusMessage': None, 'userId': 'PF_0020804', 'facilityId': 'PF_0020804_01', 'addressName': '전라북도 부안군', 'itemCode': '120900'}, {'statusCode': None, 'statusMessage': None, 'userId': 'PF_0020805', 'facilityId': 'PF_0020805_01', 'addressName': '전라북도 부안군', 'itemCode': '120900'}, {'statusCode': None, 'statusMessage': None, 'userId': 'PF_0020806', 'facilityId': 'PF_0020806_01', 'addressName': '전라북도 부안군', 'itemCode': '120900'}, {'statusCode': None, 'statusMessage': None, 'userId': 'PF_0020807', 'facilityId': 'PF_0020807_01', 'addressName': '전라북도 부안군', 'itemCode': '120900'}, {'statusCode': None, 'statusMessage': None, 'userId': 'PF_0020808', 'facilityId': 'PF_0020808_01', 'addressName': '전라북도 부안군', 'itemCode': '120900'}, {'statusCode': None, 'statusMessage': None, 'userId': 'PF_0020809', 'facilityId': 'PF_0020809_01', 'addressName': '전라북도 부안군', 'itemCode': '120900'}, {'statusCode': None, 'statusMessage': None, 'userId': 'PF_0020810', 'facilityId': 'PF_0020810_01', 'addressName': '전라북도 부안군', 'itemCode': '120900'}, {'statusCode': None, 'statusMessage': None, 'userId': 'PF_0020811', 'facilityId': 'PF_0020811_01', 'addressName': '전라북도 부안군', 'itemCode': '120900'}, {'statusCode': None, 'statusMessage': None, 'userId': 'PF_0020812', 'facilityId': 'PF_0020812_01', 'addressName': '전라북도 부안군', 'itemCode': '120900'}, {'statusCode': None, 'statusMessage': None, 'userId': 'PF_0020813', 'facilityId': 'PF_0020813_01', 'addressName': '충청북도 제천시', 'itemCode': '060100'}, {'statusCode': None, 'statusMessage': None, 'userId': 'PF_0020814', 'facilityId': 'PF_0020814_01', 'addressName': '충청북도 제천시', 'itemCode': '060100'}, {'statusCode': None, 'statusMessage': None, 'userId': 'PF_0020815', 'facilityId': 'PF_0020815_01', 'addressName': '충청북도 제천시', 'itemCode': '060100'}, {'statusCode': None, 'statusMessage': None, 'userId': 'PF_0020816', 'facilityId': 'PF_0020816_01', 'addressName': '충청북도 제천시', 'itemCode': '060100'}, {'statusCode': None, 'statusMessage': None, 'userId': 'PF_0020817', 'facilityId': 'PF_0020817_01', 'addressName': '충청북도 제천시', 'itemCode': '060100'}, {'statusCode': None, 'statusMessage': None, 'userId': 'PF_0020818', 'facilityId': 'PF_0020818_01', 'addressName': '충청북도 제천시', 'itemCode': '060100'}, {'statusCode': None, 'statusMessage': None, 'userId': 'PF_0020819', 'facilityId': 'PF_0020819_01', 'addressName': '충청북도 제천시', 'itemCode': '060100'}, {'statusCode': None, 'statusMessage': None, 'userId': 'PF_0020820', 'facilityId': 'PF_0020820_01', 'addressName': '충청북도 제천시', 'itemCode': '060100'}, {'statusCode': None, 'statusMessage': None, 'userId': 'PF_0020821', 'facilityId': 'PF_0020821_01', 'addressName': '충청북도 제천시', 'itemCode': '060100'}, {'statusCode': None, 'statusMessage': None, 'userId': 'PF_0020822', 'facilityId': 'PF_0020822_01', 'addressName': '충청북도 제천시', 'itemCode': '060100'}, {'statusCode': None, 'statusMessage': None, 'userId': 'PF_0020823', 'facilityId': 'PF_0020823_01', 'addressName': '충청북도 제천시', 'itemCode': '060100'}, {'statusCode': None, 'statusMessage': None, 'userId': 'PF_0020824', 'facilityId': 'PF_0020824_01', 'addressName': '충청북도 제천시', 'itemCode': '060100'}, {'statusCode': None, 'statusMessage': None, 'userId': 'PF_0020825', 'facilityId': 'PF_0020825_01', 'addressName': '충청북도 제천시', 'itemCode': '060100'}, {'statusCode': None, 'statusMessage': None, 'userId': 'PF_0020826', 'facilityId': 'PF_0020826_01', 'addressName': '충청북도 청원군', 'itemCode': '060100'}, {'statusCode': None, 'statusMessage': None, 'userId': 'PF_0020827', 'facilityId': 'PF_0020827_01', 'addressName': '충청북도 청원군', 'itemCode': '060100'}, {'statusCode': None, 'statusMessage': None, 'userId': 'PF_0020828', 'facilityId': 'PF_0020828_01', 'addressName': '충청북도 청원군', 'itemCode': '060100'}, {'statusCode': None, 'statusMessage': None, 'userId': 'PF_0020829', 'facilityId': 'PF_0020829_01', 'addressName': '충청북도 청원군', 'itemCode': '060100'}, {'statusCode': None, 'statusMessage': None, 'userId': 'PF_0020830', 'facilityId': 'PF_0020830_01', 'addressName': '충청북도 청원군', 'itemCode': '060100'}, {'statusCode': None, 'statusMessage': None, 'userId': 'PF_0020831', 'facilityId': 'PF_0020831_01', 'addressName': '충청북도 청원군', 'itemCode': '060100'}, {'statusCode': None, 'statusMessage': None, 'userId': 'PF_0020832', 'facilityId': 'PF_0020832_01', 'addressName': '충청북도 청원군', 'itemCode': '060100'}, {'statusCode': None, 'statusMessage': None, 'userId': 'PF_0020833', 'facilityId': 'PF_0020833_01', 'addressName': '충청북도 청원군', 'itemCode': '060100'}, {'statusCode': None, 'statusMessage': None, 'userId': 'PF_0020834', 'facilityId': 'PF_0020834_01', 'addressName': '충청북도 청원군', 'itemCode': '060100'}, {'statusCode': None, 'statusMessage': None, 'userId': 'PF_0020835', 'facilityId': 'PF_0020835_01', 'addressName': '충청북도 청원군', 'itemCode': '060100'}, {'statusCode': None, 'statusMessage': None, 'userId': 'PF_0020836', 'facilityId': 'PF_0020836_01', 'addressName': '충청북도 청원군', 'itemCode': '060100'}, {'statusCode': None, 'statusMessage': None, 'userId': 'PF_0020837', 'facilityId': 'PF_0020837_01', 'addressName': '충청북도 청원군', 'itemCode': '060100'}, {'statusCode': None, 'statusMessage': None, 'userId': 'PF_0020838', 'facilityId': 'PF_0020838_01', 'addressName': '충청북도 청원군', 'itemCode': '060100'}, {'statusCode': None, 'statusMessage': None, 'userId': 'PF_0020839', 'facilityId': 'PF_0020839_01', 'addressName': '충청북도 청원군', 'itemCode': '060100'}, {'statusCode': None, 'statusMessage': None, 'userId': 'PF_0020840', 'facilityId': 'PF_0020840_01', 'addressName': '충청북도 청원군', 'itemCode': '060100'}, {'statusCode': None, 'statusMessage': None, 'userId': 'PF_0020841', 'facilityId': 'PF_0020841_01', 'addressName': '전라남도 장흥군', 'itemCode': '065900'}, {'statusCode': None, 'statusMessage': None, 'userId': 'PF_0020842', 'facilityId': 'PF_0020842_01', 'addressName': '전라남도 장흥군', 'itemCode': '065900'}, {'statusCode': None, 'statusMessage': None, 'userId': 'PF_0020843', 'facilityId': 'PF_0020843_01', 'addressName': '전라남도 장흥군', 'itemCode': '065900'}, {'statusCode': None, 'statusMessage': None, 'userId': 'PF_0020844', 'facilityId': 'PF_0020844_01', 'addressName': '전라남도 장흥군', 'itemCode': '065900'}, {'statusCode': None, 'statusMessage': None, 'userId': 'PF_0020845', 'facilityId': 'PF_0020845_01', 'addressName': '전라남도 장흥군', 'itemCode': '065900'}, {'statusCode': None, 'statusMessage': None, 'userId': 'PF_0020846', 'facilityId': 'PF_0020846_01', 'addressName': '전라남도 장흥군', 'itemCode': '065900'}, {'statusCode': None, 'statusMessage': None, 'userId': 'PF_0020847', 'facilityId': 'PF_0020847_01', 'addressName': '전라남도 장흥군', 'itemCode': '065900'}, {'statusCode': None, 'statusMessage': None, 'userId': 'PF_0020848', 'facilityId': 'PF_0020848_01', 'addressName': '전라남도 장흥군', 'itemCode': '065900'}, {'statusCode': None, 'statusMessage': None, 'userId': 'PF_0020849', 'facilityId': 'PF_0020849_01', 'addressName': '전라남도 장흥군', 'itemCode': '065900'}, {'statusCode': None, 'statusMessage': None, 'userId': 'PF_0020850', 'facilityId': 'PF_0020850_01', 'addressName': '전라남도 장흥군', 'itemCode': '065900'}, {'statusCode': None, 'statusMessage': None, 'userId': 'PF_0020851', 'facilityId': 'PF_0020851_01', 'addressName': '전라남도 장흥군', 'itemCode': '065900'}, {'statusCode': None, 'statusMessage': None, 'userId': 'PF_0020852', 'facilityId': 'PF_0020852_01', 'addressName': '전라남도 장흥군', 'itemCode': '065900'}, {'statusCode': None, 'statusMessage': None, 'userId': 'PF_0020853', 'facilityId': 'PF_0020853_01', 'addressName': '전라남도 장흥군', 'itemCode': '065900'}, {'statusCode': None, 'statusMessage': None, 'userId': 'PF_0020854', 'facilityId': 'PF_0020854_01', 'addressName': '전라남도 장흥군', 'itemCode': '065900'}, {'statusCode': None, 'statusMessage': None, 'userId': 'PF_0020855', 'facilityId': 'PF_0020855_01', 'addressName': '전라남도 장흥군', 'itemCode': '065900'}, {'statusCode': None, 'statusMessage': None, 'userId': 'PF_0020856', 'facilityId': 'PF_0020856_01', 'addressName': '전라남도 장흥군', 'itemCode': '065900'}, {'statusCode': None, 'statusMessage': None, 'userId': 'PF_0020857', 'facilityId': 'PF_0020857_01', 'addressName': '전라남도 무안군', 'itemCode': '120100'}, {'statusCode': None, 'statusMessage': None, 'userId': 'PF_0020858', 'facilityId': 'PF_0020858_01', 'addressName': '전라남도 무안군', 'itemCode': '120100'}, {'statusCode': None, 'statusMessage': None, 'userId': 'PF_0020859', 'facilityId': 'PF_0020859_01', 'addressName': '전라남도 무안군', 'itemCode': '120100'}, {'statusCode': None, 'statusMessage': None, 'userId': 'PF_0020860', 'facilityId': 'PF_0020860_01', 'addressName': '전라남도 무안군', 'itemCode': '120100'}, {'statusCode': None, 'statusMessage': None, 'userId': 'PF_0020861', 'facilityId': 'PF_0020861_01', 'addressName': '전라남도 무안군', 'itemCode': '120100'}, {'statusCode': None, 'statusMessage': None, 'userId': 'PF_0020862', 'facilityId': 'PF_0020862_01', 'addressName': '전라남도 무안군', 'itemCode': '120100'}, {'statusCode': None, 'statusMessage': None, 'userId': 'PF_0020863', 'facilityId': 'PF_0020863_01', 'addressName': '전라남도 무안군', 'itemCode': '120100'}, {'statusCode': None, 'statusMessage': None, 'userId': 'PF_0020864', 'facilityId': 'PF_0020864_01', 'addressName': '전라남도 무안군', 'itemCode': '120100'}, {'statusCode': None, 'statusMessage': None, 'userId': 'PF_0020865', 'facilityId': 'PF_0020865_01', 'addressName': '전라남도 무안군', 'itemCode': '120100'}, {'statusCode': None, 'statusMessage': None, 'userId': 'PF_0020866', 'facilityId': 'PF_0020866_01', 'addressName': '전라남도 무안군', 'itemCode': '120100'}, {'statusCode': None, 'statusMessage': None, 'userId': 'PF_0020867', 'facilityId': 'PF_0020867_01', 'addressName': '전라남도 무안군', 'itemCode': '120100'}, {'statusCode': None, 'statusMessage': None, 'userId': 'PF_0020868', 'facilityId': 'PF_0020868_01', 'addressName': '전라남도 무안군', 'itemCode': '120100'}, {'statusCode': None, 'statusMessage': None, 'userId': 'PF_0020869', 'facilityId': 'PF_0020869_01', 'addressName': '전라남도 무안군', 'itemCode': '120100'}, {'statusCode': None, 'statusMessage': None, 'userId': 'PF_0020870', 'facilityId': 'PF_0020870_01', 'addressName': '전라남도 무안군', 'itemCode': '120100'}, {'statusCode': None, 'statusMessage': None, 'userId': 'PF_0020871', 'facilityId': 'PF_0020871_01', 'addressName': '전라남도 무안군', 'itemCode': '120100'}, {'statusCode': None, 'statusMessage': None, 'userId': 'PF_0020872', 'facilityId': 'PF_0020872_01', 'addressName': '전라남도 무안군', 'itemCode': '120100'}, {'statusCode': None, 'statusMessage': None, 'userId': 'PF_0020873', 'facilityId': 'PF_0020873_01', 'addressName': '전라남도 무안군', 'itemCode': '120100'}, {'statusCode': None, 'statusMessage': None, 'userId': 'PF_0020874', 'facilityId': 'PF_0020874_01', 'addressName': '전라남도 무안군', 'itemCode': '120100'}, {'statusCode': None, 'statusMessage': None, 'userId': 'PF_0020875', 'facilityId': 'PF_0020875_01', 'addressName': '전라남도 무안군', 'itemCode': '120100'}, {'statusCode': None, 'statusMessage': None, 'userId': 'PF_0020876', 'facilityId': 'PF_0020876_01', 'addressName': '전라남도 무안군', 'itemCode': '120100'}, {'statusCode': None, 'statusMessage': None, 'userId': 'PF_0020877', 'facilityId': 'PF_0020877_01', 'addressName': '전라남도 무안군', 'itemCode': '120100'}, {'statusCode': None, 'statusMessage': None, 'userId': 'PF_0020878', 'facilityId': 'PF_0020878_01', 'addressName': '전라남도 영광군', 'itemCode': '120200'}, {'statusCode': None, 'statusMessage': None, 'userId': 'PF_0020879', 'facilityId': 'PF_0020879_01', 'addressName': '전라남도 영광군', 'itemCode': '120200'}, {'statusCode': None, 'statusMessage': None, 'userId': 'PF_0020880', 'facilityId': 'PF_0020880_01', 'addressName': '전라남도 영광군', 'itemCode': '120200'}, {'statusCode': None, 'statusMessage': None, 'userId': 'PF_0020881', 'facilityId': 'PF_0020881_01', 'addressName': '전라남도 영광군', 'itemCode': '120200'}, {'statusCode': None, 'statusMessage': None, 'userId': 'PF_0020882', 'facilityId': 'PF_0020882_01', 'addressName': '전라남도 영광군', 'itemCode': '120200'}, {'statusCode': None, 'statusMessage': None, 'userId': 'PF_0020883', 'facilityId': 'PF_0020883_01', 'addressName': '전라남도 영광군', 'itemCode': '120200'}, {'statusCode': None, 'statusMessage': None, 'userId': 'PF_0020884', 'facilityId': 'PF_0020884_01', 'addressName': '전라남도 영광군', 'itemCode': '120200'}, {'statusCode': None, 'statusMessage': None, 'userId': 'PF_0020885', 'facilityId': 'PF_0020885_01', 'addressName': '전라남도 영광군', 'itemCode': '120200'}, {'statusCode': None, 'statusMessage': None, 'userId': 'PF_0020886', 'facilityId': 'PF_0020886_01', 'addressName': '전라남도 영광군', 'itemCode': '120200'}, {'statusCode': None, 'statusMessage': None, 'userId': 'PF_0020887', 'facilityId': 'PF_0020887_01', 'addressName': '전라남도 영광군', 'itemCode': '120200'}, {'statusCode': None, 'statusMessage': None, 'userId': 'PF_0020888', 'facilityId': 'PF_0020888_01', 'addressName': '전라남도 영광군', 'itemCode': '120200'}, {'statusCode': None, 'statusMessage': None, 'userId': 'PF_0020889', 'facilityId': 'PF_0020889_01', 'addressName': '전라남도 영광군', 'itemCode': '120200'}, {'statusCode': None, 'statusMessage': None, 'userId': 'PF_0020890', 'facilityId': 'PF_0020890_01', 'addressName': '전라남도 영광군', 'itemCode': '120200'}, {'statusCode': None, 'statusMessage': None, 'userId': 'PF_0020891', 'facilityId': 'PF_0020891_01', 'addressName': '전라남도 영광군', 'itemCode': '120200'}, {'statusCode': None, 'statusMessage': None, 'userId': 'PF_0020892', 'facilityId': 'PF_0020892_01', 'addressName': '전라남도 영광군', 'itemCode': '120200'}, {'statusCode': None, 'statusMessage': None, 'userId': 'PF_0020893', 'facilityId': 'PF_0020893_01', 'addressName': '전라남도 영광군', 'itemCode': '120200'}, {'statusCode': None, 'statusMessage': None, 'userId': 'PF_0020894', 'facilityId': 'PF_0020894_01', 'addressName': '전라남도 영광군', 'itemCode': '120200'}, {'statusCode': None, 'statusMessage': None, 'userId': 'PF_0020895', 'facilityId': 'PF_0020895_01', 'addressName': '전라남도 영광군', 'itemCode': '120200'}, {'statusCode': None, 'statusMessage': None, 'userId': 'PF_0020896', 'facilityId': 'PF_0020896_01', 'addressName': '전라남도 영광군', 'itemCode': '120200'}, {'statusCode': None, 'statusMessage': None, 'userId': 'PF_0020897', 'facilityId': 'PF_0020897_01', 'addressName': '전라남도 신안군', 'itemCode': '120200'}, {'statusCode': None, 'statusMessage': None, 'userId': 'PF_0020898', 'facilityId': 'PF_0020898_01', 'addressName': '전라남도 신안군', 'itemCode': '120200'}, {'statusCode': None, 'statusMessage': None, 'userId': 'PF_0020899', 'facilityId': 'PF_0020899_01', 'addressName': '전라남도 신안군', 'itemCode': '120200'}, {'statusCode': None, 'statusMessage': None, 'userId': 'PF_0020900', 'facilityId': 'PF_0020900_01', 'addressName': '전라남도 신안군', 'itemCode': '120200'}, {'statusCode': None, 'statusMessage': None, 'userId': 'PF_0020901', 'facilityId': 'PF_0020901_01', 'addressName': '전라남도 신안군', 'itemCode': '120200'}, {'statusCode': None, 'statusMessage': None, 'userId': 'PF_0020902', 'facilityId': 'PF_0020902_01', 'addressName': '전라남도 신안군', 'itemCode': '120200'}, {'statusCode': None, 'statusMessage': None, 'userId': 'PF_0020903', 'facilityId': 'PF_0020903_01', 'addressName': '전라남도 신안군', 'itemCode': '120200'}, {'statusCode': None, 'statusMessage': None, 'userId': 'PF_0020904', 'facilityId': 'PF_0020904_01', 'addressName': '전라남도 신안군', 'itemCode': '120200'}, {'statusCode': None, 'statusMessage': None, 'userId': 'PF_0020905', 'facilityId': 'PF_0020905_01', 'addressName': '전라남도 신안군', 'itemCode': '120200'}, {'statusCode': None, 'statusMessage': None, 'userId': 'PF_0020906', 'facilityId': 'PF_0020906_01', 'addressName': '전라남도 신안군', 'itemCode': '120200'}, {'statusCode': None, 'statusMessage': None, 'userId': 'PF_0020907', 'facilityId': 'PF_0020907_01', 'addressName': '전라남도 신안군', 'itemCode': '120200'}, {'statusCode': None, 'statusMessage': None, 'userId': 'PF_0020908', 'facilityId': 'PF_0020908_01', 'addressName': '전라남도 신안군', 'itemCode': '120200'}, {'statusCode': None, 'statusMessage': None, 'userId': 'PF_0020909', 'facilityId': 'PF_0020909_01', 'addressName': '전라남도 신안군', 'itemCode': '120200'}, {'statusCode': None, 'statusMessage': None, 'userId': 'PF_0020910', 'facilityId': 'PF_0020910_01', 'addressName': '전라남도 신안군', 'itemCode': '120200'}, {'statusCode': None, 'statusMessage': None, 'userId': 'PF_0020911', 'facilityId': 'PF_0020911_01', 'addressName': '전라남도 신안군', 'itemCode': '120200'}, {'statusCode': None, 'statusMessage': None, 'userId': 'PF_0020912', 'facilityId': 'PF_0020912_01', 'addressName': '전라남도 신안군', 'itemCode': '120200'}, {'statusCode': None, 'statusMessage': None, 'userId': 'PF_0020913', 'facilityId': 'PF_0020913_01', 'addressName': '전라남도 신안군', 'itemCode': '120200'}, {'statusCode': None, 'statusMessage': None, 'userId': 'PF_0020914', 'facilityId': 'PF_0020914_01', 'addressName': '전라남도 신안군', 'itemCode': '120200'}, {'statusCode': None, 'statusMessage': None, 'userId': 'PF_0020915', 'facilityId': 'PF_0020915_01', 'addressName': '전라남도 신안군', 'itemCode': '120200'}, {'statusCode': None, 'statusMessage': None, 'userId': 'PF_0020916', 'facilityId': 'PF_0020916_01', 'addressName': '전라남도 신안군', 'itemCode': '120200'}, {'statusCode': None, 'statusMessage': None, 'userId': 'PF_0020917', 'facilityId': 'PF_0020917_01', 'addressName': '제주특별자치도 제주시', 'itemCode': '061400'}, {'statusCode': None, 'statusMessage': None, 'userId': 'PF_0020918', 'facilityId': 'PF_0020918_01', 'addressName': '제주특별자치도 서귀포시', 'itemCode': '061400'}, {'statusCode': None, 'statusMessage': None, 'userId': 'PF_0020919', 'facilityId': 'PF_0020919_01', 'addressName': '제주특별자치도 서귀포시', 'itemCode': '061400'}, {'statusCode': None, 'statusMessage': None, 'userId': 'PF_0020920', 'facilityId': 'PF_0020920_01', 'addressName': '제주특별자치도 서귀포시', 'itemCode': '061400'}, {'statusCode': None, 'statusMessage': None, 'userId': 'PF_0020921', 'facilityId': 'PF_0020921_01', 'addressName': '제주특별자치도 제주시', 'itemCode': '061400'}, {'statusCode': None, 'statusMessage': None, 'userId': 'PF_0020922', 'facilityId': 'PF_0020922_01', 'addressName': '제주특별자치도 서귀포시', 'itemCode': '061400'}, {'statusCode': None, 'statusMessage': None, 'userId': 'PF_0020923', 'facilityId': 'PF_0020923_01', 'addressName': '제주특별자치도 서귀포시', 'itemCode': '061400'}, {'statusCode': None, 'statusMessage': None, 'userId': 'PF_0020924', 'facilityId': 'PF_0020924_01', 'addressName': '제주특별자치도 제주시', 'itemCode': '061400'}, {'statusCode': None, 'statusMessage': None, 'userId': 'PF_0020925', 'facilityId': 'PF_0020925_01', 'addressName': '제주특별자치도 서귀포시', 'itemCode': '061400'}, {'statusCode': None, 'statusMessage': None, 'userId': 'PF_0020926', 'facilityId': 'PF_0020926_01', 'addressName': '제주특별자치도 서귀포시', 'itemCode': '061400'}, {'statusCode': None, 'statusMessage': None, 'userId': 'PF_0020927', 'facilityId': 'PF_0020927_01', 'addressName': '강원도 태백시', 'itemCode': '100100'}, {'statusCode': None, 'statusMessage': None, 'userId': 'PF_0020928', 'facilityId': 'PF_0020928_01', 'addressName': '강원도 태백시', 'itemCode': '100100'}, {'statusCode': None, 'statusMessage': None, 'userId': 'PF_0020929', 'facilityId': 'PF_0020929_01', 'addressName': '강원도 태백시', 'itemCode': '100100'}, {'statusCode': None, 'statusMessage': None, 'userId': 'PF_0020930', 'facilityId': 'PF_0020930_01', 'addressName': '강원도 태백시', 'itemCode': '100100'}, {'statusCode': None, 'statusMessage': None, 'userId': 'PF_0020931', 'facilityId': 'PF_0020931_01', 'addressName': '강원도 태백시', 'itemCode': '100100'}, {'statusCode': None, 'statusMessage': None, 'userId': 'PF_0020932', 'facilityId': 'PF_0020932_01', 'addressName': '강원도 평창군', 'itemCode': '100100'}, {'statusCode': None, 'statusMessage': None, 'userId': 'PF_0020933', 'facilityId': 'PF_0020933_01', 'addressName': '강원도 평창군', 'itemCode': '100100'}, {'statusCode': None, 'statusMessage': None, 'userId': 'PF_0020934', 'facilityId': 'PF_0020934_01', 'addressName': '강원도 평창군', 'itemCode': '100100'}, {'statusCode': None, 'statusMessage': None, 'userId': 'PF_0020935', 'facilityId': 'PF_0020935_01', 'addressName': '강원도 평창군', 'itemCode': '100100'}, {'statusCode': None, 'statusMessage': None, 'userId': 'PF_0020936', 'facilityId': 'PF_0020936_01', 'addressName': '강원도 평창군', 'itemCode': '100100'}, {'statusCode': None, 'statusMessage': None, 'userId': 'PF_0020937', 'facilityId': 'PF_0020937_01', 'addressName': '강원도 평창군', 'itemCode': '100100'}, {'statusCode': None, 'statusMessage': None, 'userId': 'PF_0020938', 'facilityId': 'PF_0020938_01', 'addressName': '강원도 평창군', 'itemCode': '100100'}, {'statusCode': None, 'statusMessage': None, 'userId': 'PF_0020939', 'facilityId': 'PF_0020939_01', 'addressName': '강원도 평창군', 'itemCode': '100100'}, {'statusCode': None, 'statusMessage': None, 'userId': 'PF_0020940', 'facilityId': 'PF_0020940_01', 'addressName': '강원도 평창군', 'itemCode': '100100'}, {'statusCode': None, 'statusMessage': None, 'userId': 'PF_0020941', 'facilityId': 'PF_0020941_01', 'addressName': '강원도 평창군', 'itemCode': '100100'}, {'statusCode': None, 'statusMessage': None, 'userId': 'PF_0020942', 'facilityId': 'PF_0020942_01', 'addressName': '충청북도 옥천군', 'itemCode': '060400'}, {'statusCode': None, 'statusMessage': None, 'userId': 'PF_0020943', 'facilityId': 'PF_0020943_01', 'addressName': '충청북도 옥천군', 'itemCode': '060400'}, {'statusCode': None, 'statusMessage': None, 'userId': 'PF_0020944', 'facilityId': 'PF_0020944_01', 'addressName': '충청북도 옥천군', 'itemCode': '060400'}, {'statusCode': None, 'statusMessage': None, 'userId': 'PF_0020945', 'facilityId': 'PF_0020945_01', 'addressName': '충청북도 옥천군', 'itemCode': '060400'}, {'statusCode': None, 'statusMessage': None, 'userId': 'PF_0020946', 'facilityId': 'PF_0020946_01', 'addressName': '충청북도 옥천군', 'itemCode': '060400'}, {'statusCode': None, 'statusMessage': None, 'userId': 'PF_0020947', 'facilityId': 'PF_0020947_01', 'addressName': '충청북도 옥천군', 'itemCode': '060400'}, {'statusCode': None, 'statusMessage': None, 'userId': 'PF_0020948', 'facilityId': 'PF_0020948_01', 'addressName': '충청북도 옥천군', 'itemCode': '060400'}, {'statusCode': None, 'statusMessage': None, 'userId': 'PF_0020949', 'facilityId': 'PF_0020949_01', 'addressName': '충청북도 옥천군', 'itemCode': '060400'}, {'statusCode': None, 'statusMessage': None, 'userId': 'PF_0020950', 'facilityId': 'PF_0020950_01', 'addressName': '충청북도 옥천군', 'itemCode': '060400'}, {'statusCode': None, 'statusMessage': None, 'userId': 'PF_0020951', 'facilityId': 'PF_0020951_01', 'addressName': '충청북도 옥천군', 'itemCode': '060400'}, {'statusCode': None, 'statusMessage': None, 'userId': 'PF_0020952', 'facilityId': 'PF_0020952_01', 'addressName': '충청북도 옥천군', 'itemCode': '060400'}, {'statusCode': None, 'statusMessage': None, 'userId': 'PF_0020953', 'facilityId': 'PF_0020953_01', 'addressName': '충청북도 옥천군', 'itemCode': '060400'}, {'statusCode': None, 'statusMessage': None, 'userId': 'PF_0020954', 'facilityId': 'PF_0020954_01', 'addressName': '충청북도 옥천군', 'itemCode': '060400'}, {'statusCode': None, 'statusMessage': None, 'userId': 'PF_0020955', 'facilityId': 'PF_0020955_01', 'addressName': '충청북도 옥천군', 'itemCode': '060400'}, {'statusCode': None, 'statusMessage': None, 'userId': 'PF_0020956', 'facilityId': 'PF_0020956_01', 'addressName': '충청북도 옥천군', 'itemCode': '060400'}, {'statusCode': None, 'statusMessage': None, 'userId': 'PF_0020957', 'facilityId': 'PF_0020957_01', 'addressName': '경기도 파주시', 'itemCode': '030100'}, {'statusCode': None, 'statusMessage': None, 'userId': 'PF_0020958', 'facilityId': 'PF_0020958_01', 'addressName': '경기도 파주시', 'itemCode': '030100'}, {'statusCode': None, 'statusMessage': None, 'userId': 'PF_0020959', 'facilityId': 'PF_0020959_01', 'addressName': '경기도 파주시', 'itemCode': '030100'}, {'statusCode': None, 'statusMessage': None, 'userId': 'PF_0020960', 'facilityId': 'PF_0020960_01', 'addressName': '경기도 파주시', 'itemCode': '030100'}, {'statusCode': None, 'statusMessage': None, 'userId': 'PF_0020961', 'facilityId': 'PF_0020961_01', 'addressName': '경기도 파주시', 'itemCode': '030100'}, {'statusCode': None, 'statusMessage': None, 'userId': 'PF_0020962', 'facilityId': 'PF_0020962_01', 'addressName': '경기도 파주시', 'itemCode': '030100'}, {'statusCode': None, 'statusMessage': None, 'userId': 'PF_0020963', 'facilityId': 'PF_0020963_01', 'addressName': '경기도 파주시', 'itemCode': '030100'}, {'statusCode': None, 'statusMessage': None, 'userId': 'PF_0020964', 'facilityId': 'PF_0020964_01', 'addressName': '경기도 파주시', 'itemCode': '030100'}, {'statusCode': None, 'statusMessage': None, 'userId': 'PF_0020965', 'facilityId': 'PF_0020965_01', 'addressName': '경기도 파주시', 'itemCode': '030100'}, {'statusCode': None, 'statusMessage': None, 'userId': 'PF_0020968', 'facilityId': 'PF_0020968_01', 'addressName': '전라북도 임실군', 'itemCode': '080300'}, {'statusCode': None, 'statusMessage': None, 'userId': 'PF_0020974', 'facilityId': 'PF_0020974_01', 'addressName': '경기도 여주시', 'itemCode': '080300'}, {'statusCode': None, 'statusMessage': None, 'userId': 'PF_0020975', 'facilityId': 'PF_0020975_01', 'addressName': '충청남도 부여군', 'itemCode': '080400'}, {'statusCode': None, 'statusMessage': None, 'userId': 'PF_0020977', 'facilityId': 'PF_0020977_01', 'addressName': '경상남도 하동군', 'itemCode': '080400'}, {'statusCode': None, 'statusMessage': None, 'userId': 'PF_0020994', 'facilityId': 'PF_0020994_01', 'addressName': '경기도 안성시', 'itemCode': '090100'}, {'statusCode': None, 'statusMessage': None, 'userId': 'PF_0021128', 'facilityId': 'PF_0021128_01', 'addressName': '경상북도 군위군', 'itemCode': '080400'}, {'statusCode': None, 'statusMessage': None, 'userId': 'sk0015', 'facilityId': 'sk0015_01', 'addressName': '세종특별자치시 연동면', 'itemCode': '080300'}, {'statusCode': None, 'statusMessage': None, 'userId': 'sk0019', 'facilityId': 'sk0019_01', 'addressName': '세종특별자치시 연동면', 'itemCode': '080300'}, {'statusCode': None, 'statusMessage': None, 'userId': 'sk0023', 'facilityId': 'sk0023_01', 'addressName': '세종특별자치시 연동면', 'itemCode': '080300'}, {'statusCode': None, 'statusMessage': None, 'userId': 'sk0026', 'facilityId': 'sk0026_01', 'addressName': '세종특별자치시 연동면', 'itemCode': '080300'}, {'statusCode': None, 'statusMessage': None, 'userId': 'sk0047', 'facilityId': 'sk0047_01', 'addressName': '세종특별자치시 연동면', 'itemCode': '080300'}, {'statusCode': None, 'statusMessage': None, 'userId': 'sk0057', 'facilityId': 'sk0057_01', 'addressName': '세종특별자치시 연동면', 'itemCode': '080300'}, {'statusCode': None, 'statusMessage': None, 'userId': 'sk0058', 'facilityId': 'sk0058_01', 'addressName': '세종특별자치시 연동면', 'itemCode': '080300'}, {'statusCode': None, 'statusMessage': None, 'userId': 'sk0063', 'facilityId': 'sk0063_01', 'addressName': '세종특별자치시 연동면', 'itemCode': '080300'}, {'statusCode': None, 'statusMessage': None, 'userId': 'sk0065', 'facilityId': 'sk0065_01', 'addressName': '세종특별자치시 연동면', 'itemCode': '080300'}, {'statusCode': None, 'statusMessage': None, 'userId': 'sk0073', 'facilityId': 'sk0073_01', 'addressName': '세종특별자치시 연동면', 'itemCode': '080300'}, {'statusCode': None, 'statusMessage': None, 'userId': 'sk0078', 'facilityId': 'sk0078_01', 'addressName': '세종특별자치시 연동면', 'itemCode': '080300'}, {'statusCode': None, 'statusMessage': None, 'userId': 'sk0081', 'facilityId': 'sk0081_01', 'addressName': '세종특별자치시 연동면', 'itemCode': '080300'}, {'statusCode': None, 'statusMessage': None, 'userId': 'sk0085', 'facilityId': 'sk0085_01', 'addressName': '세종특별자치시 연동면', 'itemCode': '080300'}, {'statusCode': None, 'statusMessage': None, 'userId': 'sk0091', 'facilityId': 'sk0091_01', 'addressName': '세종특별자치시 연동면', 'itemCode': '080300'}, {'statusCode': None, 'statusMessage': None, 'userId': 'sk0104', 'facilityId': 'sk0104_01', 'addressName': '세종특별자치시 연동면', 'itemCode': '080300'}, {'statusCode': None, 'statusMessage': None, 'userId': 'sk0118', 'facilityId': 'sk0118_01', 'addressName': '세종특별자치시 연동면', 'itemCode': '080300'}]\n"
     ]
    }
   ],
   "source": [
    "key = 'eb3dd82897204fb4abaf2588b1a79cf7'\n",
    "\n",
    "url = f\"http://www.smartfarmkorea.net/Agree_WS/webservices/ProvideRestService/getIdentityDataList/{key}\"\n",
    "\n",
    "data = request.urlopen(url).read()\n",
    "output = json.loads(data)\n",
    "\n",
    "print(output)"
   ]
  },
  {
   "cell_type": "code",
   "execution_count": 3,
   "id": "9a97325a",
   "metadata": {},
   "outputs": [],
   "source": [
    "users_Id = []\n",
    "for i in range(len(output)):\n",
    "    users_Id.append(output[i]['userId'])"
   ]
  },
  {
   "cell_type": "code",
   "execution_count": 4,
   "id": "8a02e440",
   "metadata": {},
   "outputs": [
    {
     "data": {
      "text/plain": [
       "842"
      ]
     },
     "execution_count": 4,
     "metadata": {},
     "output_type": "execute_result"
    }
   ],
   "source": [
    "len(users_Id)"
   ]
  },
  {
   "cell_type": "code",
   "execution_count": 5,
   "id": "b0779362",
   "metadata": {},
   "outputs": [],
   "source": [
    "outputs = []\n",
    "for user_Id in range(len(users_Id)):\n",
    "    url = f\"http://www.smartfarmkorea.net/Agree_WS/webservices/ProvideRestService/getCroppingSeasonDataList/{key}/{users_Id[user_Id]}\"\n",
    "\n",
    "    data = request.urlopen(url).read()\n",
    "    output = json.loads(data)\n",
    "\n",
    "    outputs.append(output)"
   ]
  },
  {
   "cell_type": "code",
   "execution_count": 6,
   "id": "b1d82cd9",
   "metadata": {},
   "outputs": [],
   "source": [
    "outputs[0][0]['croppingSerlNo']"
   ]
  },
  {
   "cell_type": "code",
   "execution_count": 7,
   "id": "85ae5b72",
   "metadata": {},
   "outputs": [],
   "source": [
    "croppingSerlNo_s = []\n",
    "\n",
    "for i in range(len(outputs)):\n",
    "    \n",
    "    croppingSerlNo = outputs[i][0]['croppingSerlNo']\n",
    "    if croppingSerlNo == None:\n",
    "        continue\n",
    "    \n",
    "    croppingSerlNo_s.append(croppingSerlNo)\n",
    "    "
   ]
  },
  {
   "cell_type": "code",
   "execution_count": 8,
   "id": "a69bdc4e",
   "metadata": {},
   "outputs": [],
   "source": [
    "temps = []\n",
    "\n",
    "for i in range(len(croppingSerlNo_s)):\n",
    "    \n",
    "    url = f\"http://www.smartfarmkorea.net/Agree_WS/webservices/CropseasonRestService/getCroppingSeasonEnvDataList/{key}/{i}/1\"\n",
    "\n",
    "    data = request.urlopen(url).read()\n",
    "    output = json.loads(data)  \n",
    "#     output = output[0]\n",
    "    \n",
    "    temps.append(output)"
   ]
  },
  {
   "cell_type": "code",
   "execution_count": 9,
   "id": "4d799123",
   "metadata": {},
   "outputs": [
    {
     "data": {
      "text/plain": [
       "[{'statusCode': '00',\n",
       "  'statusMessage': 'NORMAL_CODE',\n",
       "  'fatrCode': None,\n",
       "  'facilityId': None,\n",
       "  'measDate': None,\n",
       "  'fldCode': None,\n",
       "  'sectCode': None,\n",
       "  'itemCode': None,\n",
       "  'senVal': None,\n",
       "  'ymd': None,\n",
       "  'cntCollect': None,\n",
       "  'num': None,\n",
       "  'totalRows': None,\n",
       "  'totalPage': None,\n",
       "  'currentPage': None}]"
      ]
     },
     "execution_count": 9,
     "metadata": {},
     "output_type": "execute_result"
    }
   ],
   "source": [
    "temps[0]"
   ]
  },
  {
   "cell_type": "code",
   "execution_count": 10,
   "id": "b92705c4",
   "metadata": {},
   "outputs": [],
   "source": [
    "temps = sum(temps, [])"
   ]
  },
  {
   "cell_type": "code",
   "execution_count": 11,
   "id": "e922de94",
   "metadata": {},
   "outputs": [],
   "source": [
    "from pandas.io.json import json_normalize"
   ]
  },
  {
   "cell_type": "code",
   "execution_count": 12,
   "id": "773f0f6e",
   "metadata": {},
   "outputs": [
    {
     "name": "stderr",
     "output_type": "stream",
     "text": [
      "C:\\Users\\Jung\\AppData\\Local\\Temp/ipykernel_3212/2277461055.py:1: FutureWarning: pandas.io.json.json_normalize is deprecated, use pandas.json_normalize instead\n",
      "  df = json_normalize(temps)\n"
     ]
    }
   ],
   "source": [
    "df = json_normalize(temps)"
   ]
  },
  {
   "cell_type": "code",
   "execution_count": 13,
   "id": "9ba1fd4c",
   "metadata": {},
   "outputs": [
    {
     "data": {
      "text/html": [
       "<div>\n",
       "<style scoped>\n",
       "    .dataframe tbody tr th:only-of-type {\n",
       "        vertical-align: middle;\n",
       "    }\n",
       "\n",
       "    .dataframe tbody tr th {\n",
       "        vertical-align: top;\n",
       "    }\n",
       "\n",
       "    .dataframe thead th {\n",
       "        text-align: right;\n",
       "    }\n",
       "</style>\n",
       "<table border=\"1\" class=\"dataframe\">\n",
       "  <thead>\n",
       "    <tr style=\"text-align: right;\">\n",
       "      <th></th>\n",
       "      <th>statusCode</th>\n",
       "      <th>statusMessage</th>\n",
       "      <th>fatrCode</th>\n",
       "      <th>facilityId</th>\n",
       "      <th>measDate</th>\n",
       "      <th>fldCode</th>\n",
       "      <th>sectCode</th>\n",
       "      <th>itemCode</th>\n",
       "      <th>senVal</th>\n",
       "      <th>ymd</th>\n",
       "      <th>cntCollect</th>\n",
       "      <th>num</th>\n",
       "      <th>totalRows</th>\n",
       "      <th>totalPage</th>\n",
       "      <th>currentPage</th>\n",
       "    </tr>\n",
       "  </thead>\n",
       "  <tbody>\n",
       "    <tr>\n",
       "      <th>0</th>\n",
       "      <td>00</td>\n",
       "      <td>NORMAL_CODE</td>\n",
       "      <td>None</td>\n",
       "      <td>None</td>\n",
       "      <td>None</td>\n",
       "      <td>None</td>\n",
       "      <td>None</td>\n",
       "      <td>None</td>\n",
       "      <td>None</td>\n",
       "      <td>None</td>\n",
       "      <td>None</td>\n",
       "      <td>NaN</td>\n",
       "      <td>NaN</td>\n",
       "      <td>None</td>\n",
       "      <td>None</td>\n",
       "    </tr>\n",
       "    <tr>\n",
       "      <th>1</th>\n",
       "      <td>00</td>\n",
       "      <td>NORMAL_CODE</td>\n",
       "      <td>None</td>\n",
       "      <td>None</td>\n",
       "      <td>None</td>\n",
       "      <td>None</td>\n",
       "      <td>None</td>\n",
       "      <td>None</td>\n",
       "      <td>None</td>\n",
       "      <td>None</td>\n",
       "      <td>None</td>\n",
       "      <td>NaN</td>\n",
       "      <td>NaN</td>\n",
       "      <td>None</td>\n",
       "      <td>None</td>\n",
       "    </tr>\n",
       "    <tr>\n",
       "      <th>2</th>\n",
       "      <td>00</td>\n",
       "      <td>NORMAL_CODE</td>\n",
       "      <td>None</td>\n",
       "      <td>None</td>\n",
       "      <td>None</td>\n",
       "      <td>None</td>\n",
       "      <td>None</td>\n",
       "      <td>None</td>\n",
       "      <td>None</td>\n",
       "      <td>None</td>\n",
       "      <td>None</td>\n",
       "      <td>NaN</td>\n",
       "      <td>NaN</td>\n",
       "      <td>None</td>\n",
       "      <td>None</td>\n",
       "    </tr>\n",
       "    <tr>\n",
       "      <th>3</th>\n",
       "      <td>00</td>\n",
       "      <td>NORMAL_CODE</td>\n",
       "      <td>None</td>\n",
       "      <td>None</td>\n",
       "      <td>None</td>\n",
       "      <td>None</td>\n",
       "      <td>None</td>\n",
       "      <td>None</td>\n",
       "      <td>None</td>\n",
       "      <td>None</td>\n",
       "      <td>None</td>\n",
       "      <td>NaN</td>\n",
       "      <td>NaN</td>\n",
       "      <td>None</td>\n",
       "      <td>None</td>\n",
       "    </tr>\n",
       "    <tr>\n",
       "      <th>4</th>\n",
       "      <td>00</td>\n",
       "      <td>NORMAL_CODE</td>\n",
       "      <td>None</td>\n",
       "      <td>None</td>\n",
       "      <td>None</td>\n",
       "      <td>None</td>\n",
       "      <td>None</td>\n",
       "      <td>None</td>\n",
       "      <td>None</td>\n",
       "      <td>None</td>\n",
       "      <td>None</td>\n",
       "      <td>NaN</td>\n",
       "      <td>NaN</td>\n",
       "      <td>None</td>\n",
       "      <td>None</td>\n",
       "    </tr>\n",
       "  </tbody>\n",
       "</table>\n",
       "</div>"
      ],
      "text/plain": [
       "  statusCode statusMessage fatrCode facilityId measDate fldCode sectCode  \\\n",
       "0         00   NORMAL_CODE     None       None     None    None     None   \n",
       "1         00   NORMAL_CODE     None       None     None    None     None   \n",
       "2         00   NORMAL_CODE     None       None     None    None     None   \n",
       "3         00   NORMAL_CODE     None       None     None    None     None   \n",
       "4         00   NORMAL_CODE     None       None     None    None     None   \n",
       "\n",
       "  itemCode senVal   ymd cntCollect  num  totalRows totalPage currentPage  \n",
       "0     None   None  None       None  NaN        NaN      None        None  \n",
       "1     None   None  None       None  NaN        NaN      None        None  \n",
       "2     None   None  None       None  NaN        NaN      None        None  \n",
       "3     None   None  None       None  NaN        NaN      None        None  \n",
       "4     None   None  None       None  NaN        NaN      None        None  "
      ]
     },
     "execution_count": 13,
     "metadata": {},
     "output_type": "execute_result"
    }
   ],
   "source": [
    "df.head()"
   ]
  },
  {
   "cell_type": "code",
   "execution_count": 15,
   "id": "7b9c376a",
   "metadata": {},
   "outputs": [
    {
     "data": {
      "text/plain": [
       "(207186, 15)"
      ]
     },
     "execution_count": 15,
     "metadata": {},
     "output_type": "execute_result"
    }
   ],
   "source": [
    "df.shape"
   ]
  },
  {
   "cell_type": "code",
   "execution_count": 17,
   "id": "6be5bce1",
   "metadata": {},
   "outputs": [],
   "source": [
    "df.to_csv(\"api_smartfarm_korea.csv\", encoding='cp949')"
   ]
  },
  {
   "cell_type": "markdown",
   "id": "6fe580c1",
   "metadata": {},
   "source": [
    "# 저장한 파일 불러오기"
   ]
  },
  {
   "cell_type": "code",
   "execution_count": 4,
   "id": "12f5d755",
   "metadata": {},
   "outputs": [],
   "source": [
    "data = pd.read_csv(\"api_smartfarm_korea.csv\", index_col=0)"
   ]
  },
  {
   "cell_type": "code",
   "execution_count": 6,
   "id": "1fe403a2",
   "metadata": {},
   "outputs": [
    {
     "data": {
      "text/html": [
       "<div>\n",
       "<style scoped>\n",
       "    .dataframe tbody tr th:only-of-type {\n",
       "        vertical-align: middle;\n",
       "    }\n",
       "\n",
       "    .dataframe tbody tr th {\n",
       "        vertical-align: top;\n",
       "    }\n",
       "\n",
       "    .dataframe thead th {\n",
       "        text-align: right;\n",
       "    }\n",
       "</style>\n",
       "<table border=\"1\" class=\"dataframe\">\n",
       "  <thead>\n",
       "    <tr style=\"text-align: right;\">\n",
       "      <th></th>\n",
       "      <th>statusCode</th>\n",
       "      <th>statusMessage</th>\n",
       "      <th>fatrCode</th>\n",
       "      <th>facilityId</th>\n",
       "      <th>measDate</th>\n",
       "      <th>fldCode</th>\n",
       "      <th>sectCode</th>\n",
       "      <th>itemCode</th>\n",
       "      <th>senVal</th>\n",
       "      <th>ymd</th>\n",
       "      <th>cntCollect</th>\n",
       "      <th>num</th>\n",
       "      <th>totalRows</th>\n",
       "      <th>totalPage</th>\n",
       "      <th>currentPage</th>\n",
       "    </tr>\n",
       "  </thead>\n",
       "  <tbody>\n",
       "    <tr>\n",
       "      <th>0</th>\n",
       "      <td>0.0</td>\n",
       "      <td>NORMAL_CODE</td>\n",
       "      <td>NaN</td>\n",
       "      <td>NaN</td>\n",
       "      <td>NaN</td>\n",
       "      <td>NaN</td>\n",
       "      <td>NaN</td>\n",
       "      <td>NaN</td>\n",
       "      <td>NaN</td>\n",
       "      <td>NaN</td>\n",
       "      <td>NaN</td>\n",
       "      <td>NaN</td>\n",
       "      <td>NaN</td>\n",
       "      <td>NaN</td>\n",
       "      <td>NaN</td>\n",
       "    </tr>\n",
       "    <tr>\n",
       "      <th>1</th>\n",
       "      <td>0.0</td>\n",
       "      <td>NORMAL_CODE</td>\n",
       "      <td>NaN</td>\n",
       "      <td>NaN</td>\n",
       "      <td>NaN</td>\n",
       "      <td>NaN</td>\n",
       "      <td>NaN</td>\n",
       "      <td>NaN</td>\n",
       "      <td>NaN</td>\n",
       "      <td>NaN</td>\n",
       "      <td>NaN</td>\n",
       "      <td>NaN</td>\n",
       "      <td>NaN</td>\n",
       "      <td>NaN</td>\n",
       "      <td>NaN</td>\n",
       "    </tr>\n",
       "    <tr>\n",
       "      <th>2</th>\n",
       "      <td>0.0</td>\n",
       "      <td>NORMAL_CODE</td>\n",
       "      <td>NaN</td>\n",
       "      <td>NaN</td>\n",
       "      <td>NaN</td>\n",
       "      <td>NaN</td>\n",
       "      <td>NaN</td>\n",
       "      <td>NaN</td>\n",
       "      <td>NaN</td>\n",
       "      <td>NaN</td>\n",
       "      <td>NaN</td>\n",
       "      <td>NaN</td>\n",
       "      <td>NaN</td>\n",
       "      <td>NaN</td>\n",
       "      <td>NaN</td>\n",
       "    </tr>\n",
       "    <tr>\n",
       "      <th>3</th>\n",
       "      <td>0.0</td>\n",
       "      <td>NORMAL_CODE</td>\n",
       "      <td>NaN</td>\n",
       "      <td>NaN</td>\n",
       "      <td>NaN</td>\n",
       "      <td>NaN</td>\n",
       "      <td>NaN</td>\n",
       "      <td>NaN</td>\n",
       "      <td>NaN</td>\n",
       "      <td>NaN</td>\n",
       "      <td>NaN</td>\n",
       "      <td>NaN</td>\n",
       "      <td>NaN</td>\n",
       "      <td>NaN</td>\n",
       "      <td>NaN</td>\n",
       "    </tr>\n",
       "    <tr>\n",
       "      <th>4</th>\n",
       "      <td>0.0</td>\n",
       "      <td>NORMAL_CODE</td>\n",
       "      <td>NaN</td>\n",
       "      <td>NaN</td>\n",
       "      <td>NaN</td>\n",
       "      <td>NaN</td>\n",
       "      <td>NaN</td>\n",
       "      <td>NaN</td>\n",
       "      <td>NaN</td>\n",
       "      <td>NaN</td>\n",
       "      <td>NaN</td>\n",
       "      <td>NaN</td>\n",
       "      <td>NaN</td>\n",
       "      <td>NaN</td>\n",
       "      <td>NaN</td>\n",
       "    </tr>\n",
       "  </tbody>\n",
       "</table>\n",
       "</div>"
      ],
      "text/plain": [
       "   statusCode statusMessage fatrCode facilityId measDate fldCode sectCode  \\\n",
       "0         0.0   NORMAL_CODE      NaN        NaN      NaN     NaN      NaN   \n",
       "1         0.0   NORMAL_CODE      NaN        NaN      NaN     NaN      NaN   \n",
       "2         0.0   NORMAL_CODE      NaN        NaN      NaN     NaN      NaN   \n",
       "3         0.0   NORMAL_CODE      NaN        NaN      NaN     NaN      NaN   \n",
       "4         0.0   NORMAL_CODE      NaN        NaN      NaN     NaN      NaN   \n",
       "\n",
       "   itemCode  senVal  ymd  cntCollect  num  totalRows  totalPage  currentPage  \n",
       "0       NaN     NaN  NaN         NaN  NaN        NaN        NaN          NaN  \n",
       "1       NaN     NaN  NaN         NaN  NaN        NaN        NaN          NaN  \n",
       "2       NaN     NaN  NaN         NaN  NaN        NaN        NaN          NaN  \n",
       "3       NaN     NaN  NaN         NaN  NaN        NaN        NaN          NaN  \n",
       "4       NaN     NaN  NaN         NaN  NaN        NaN        NaN          NaN  "
      ]
     },
     "execution_count": 6,
     "metadata": {},
     "output_type": "execute_result"
    }
   ],
   "source": [
    "data.head()"
   ]
  },
  {
   "cell_type": "code",
   "execution_count": 7,
   "id": "b3f49459",
   "metadata": {},
   "outputs": [
    {
     "data": {
      "text/plain": [
       "array(['NORMAL_CODE', nan], dtype=object)"
      ]
     },
     "execution_count": 7,
     "metadata": {},
     "output_type": "execute_result"
    }
   ],
   "source": [
    "data['statusMessage'].unique()"
   ]
  },
  {
   "cell_type": "code",
   "execution_count": 10,
   "id": "49e37c17",
   "metadata": {},
   "outputs": [],
   "source": [
    "data = data[data['statusMessage'] != 'NORMAL_CODE'].reset_index(drop=True)"
   ]
  },
  {
   "cell_type": "code",
   "execution_count": 11,
   "id": "e0f495f7",
   "metadata": {},
   "outputs": [
    {
     "data": {
      "text/html": [
       "<div>\n",
       "<style scoped>\n",
       "    .dataframe tbody tr th:only-of-type {\n",
       "        vertical-align: middle;\n",
       "    }\n",
       "\n",
       "    .dataframe tbody tr th {\n",
       "        vertical-align: top;\n",
       "    }\n",
       "\n",
       "    .dataframe thead th {\n",
       "        text-align: right;\n",
       "    }\n",
       "</style>\n",
       "<table border=\"1\" class=\"dataframe\">\n",
       "  <thead>\n",
       "    <tr style=\"text-align: right;\">\n",
       "      <th></th>\n",
       "      <th>statusCode</th>\n",
       "      <th>statusMessage</th>\n",
       "      <th>fatrCode</th>\n",
       "      <th>facilityId</th>\n",
       "      <th>measDate</th>\n",
       "      <th>fldCode</th>\n",
       "      <th>sectCode</th>\n",
       "      <th>itemCode</th>\n",
       "      <th>senVal</th>\n",
       "      <th>ymd</th>\n",
       "      <th>cntCollect</th>\n",
       "      <th>num</th>\n",
       "      <th>totalRows</th>\n",
       "      <th>totalPage</th>\n",
       "      <th>currentPage</th>\n",
       "    </tr>\n",
       "  </thead>\n",
       "  <tbody>\n",
       "    <tr>\n",
       "      <th>0</th>\n",
       "      <td>NaN</td>\n",
       "      <td>NaN</td>\n",
       "      <td>TL</td>\n",
       "      <td>PF_0000022_01</td>\n",
       "      <td>2016-04-01 00:00:00</td>\n",
       "      <td>FG</td>\n",
       "      <td>EL</td>\n",
       "      <td>80300.0</td>\n",
       "      <td>18.35</td>\n",
       "      <td>20160401.0</td>\n",
       "      <td>15.0</td>\n",
       "      <td>2.0</td>\n",
       "      <td>NaN</td>\n",
       "      <td>NaN</td>\n",
       "      <td>NaN</td>\n",
       "    </tr>\n",
       "    <tr>\n",
       "      <th>1</th>\n",
       "      <td>NaN</td>\n",
       "      <td>NaN</td>\n",
       "      <td>SR</td>\n",
       "      <td>PF_0000022_01</td>\n",
       "      <td>2016-04-01 00:00:00</td>\n",
       "      <td>FG</td>\n",
       "      <td>EO</td>\n",
       "      <td>80300.0</td>\n",
       "      <td>NaN</td>\n",
       "      <td>20160401.0</td>\n",
       "      <td>15.0</td>\n",
       "      <td>3.0</td>\n",
       "      <td>NaN</td>\n",
       "      <td>NaN</td>\n",
       "      <td>NaN</td>\n",
       "    </tr>\n",
       "    <tr>\n",
       "      <th>2</th>\n",
       "      <td>NaN</td>\n",
       "      <td>NaN</td>\n",
       "      <td>TE</td>\n",
       "      <td>PF_0000022_01</td>\n",
       "      <td>2016-04-01 00:00:00</td>\n",
       "      <td>FG</td>\n",
       "      <td>EO</td>\n",
       "      <td>80300.0</td>\n",
       "      <td>6.99</td>\n",
       "      <td>20160401.0</td>\n",
       "      <td>15.0</td>\n",
       "      <td>4.0</td>\n",
       "      <td>NaN</td>\n",
       "      <td>NaN</td>\n",
       "      <td>NaN</td>\n",
       "    </tr>\n",
       "    <tr>\n",
       "      <th>3</th>\n",
       "      <td>NaN</td>\n",
       "      <td>NaN</td>\n",
       "      <td>EL</td>\n",
       "      <td>PF_0000022_01</td>\n",
       "      <td>2016-04-01 00:00:00</td>\n",
       "      <td>FG</td>\n",
       "      <td>EL</td>\n",
       "      <td>80300.0</td>\n",
       "      <td>NaN</td>\n",
       "      <td>20160401.0</td>\n",
       "      <td>22.0</td>\n",
       "      <td>5.0</td>\n",
       "      <td>NaN</td>\n",
       "      <td>NaN</td>\n",
       "      <td>NaN</td>\n",
       "    </tr>\n",
       "    <tr>\n",
       "      <th>4</th>\n",
       "      <td>NaN</td>\n",
       "      <td>NaN</td>\n",
       "      <td>TI</td>\n",
       "      <td>PF_0000022_01</td>\n",
       "      <td>2016-04-01 00:00:00</td>\n",
       "      <td>FG</td>\n",
       "      <td>EI</td>\n",
       "      <td>80300.0</td>\n",
       "      <td>17.80</td>\n",
       "      <td>20160401.0</td>\n",
       "      <td>22.0</td>\n",
       "      <td>6.0</td>\n",
       "      <td>NaN</td>\n",
       "      <td>NaN</td>\n",
       "      <td>NaN</td>\n",
       "    </tr>\n",
       "  </tbody>\n",
       "</table>\n",
       "</div>"
      ],
      "text/plain": [
       "   statusCode statusMessage fatrCode     facilityId             measDate  \\\n",
       "0         NaN           NaN       TL  PF_0000022_01  2016-04-01 00:00:00   \n",
       "1         NaN           NaN       SR  PF_0000022_01  2016-04-01 00:00:00   \n",
       "2         NaN           NaN       TE  PF_0000022_01  2016-04-01 00:00:00   \n",
       "3         NaN           NaN       EL  PF_0000022_01  2016-04-01 00:00:00   \n",
       "4         NaN           NaN       TI  PF_0000022_01  2016-04-01 00:00:00   \n",
       "\n",
       "  fldCode sectCode  itemCode  senVal         ymd  cntCollect  num  totalRows  \\\n",
       "0      FG       EL   80300.0   18.35  20160401.0        15.0  2.0        NaN   \n",
       "1      FG       EO   80300.0     NaN  20160401.0        15.0  3.0        NaN   \n",
       "2      FG       EO   80300.0    6.99  20160401.0        15.0  4.0        NaN   \n",
       "3      FG       EL   80300.0     NaN  20160401.0        22.0  5.0        NaN   \n",
       "4      FG       EI   80300.0   17.80  20160401.0        22.0  6.0        NaN   \n",
       "\n",
       "   totalPage  currentPage  \n",
       "0        NaN          NaN  \n",
       "1        NaN          NaN  \n",
       "2        NaN          NaN  \n",
       "3        NaN          NaN  \n",
       "4        NaN          NaN  "
      ]
     },
     "execution_count": 11,
     "metadata": {},
     "output_type": "execute_result"
    }
   ],
   "source": [
    "data.head()"
   ]
  },
  {
   "cell_type": "code",
   "execution_count": null,
   "id": "1ceae5ac",
   "metadata": {},
   "outputs": [],
   "source": []
  }
 ],
 "metadata": {
  "kernelspec": {
   "display_name": "project2",
   "language": "python",
   "name": "project2"
  },
  "language_info": {
   "codemirror_mode": {
    "name": "ipython",
    "version": 3
   },
   "file_extension": ".py",
   "mimetype": "text/x-python",
   "name": "python",
   "nbconvert_exporter": "python",
   "pygments_lexer": "ipython3",
   "version": "3.8.9"
  }
 },
 "nbformat": 4,
 "nbformat_minor": 5
}
