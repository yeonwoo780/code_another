{
 "cells": [
  {
   "cell_type": "markdown",
   "id": "46b55fe5",
   "metadata": {},
   "source": [
    "## train"
   ]
  },
  {
   "cell_type": "code",
   "execution_count": 1,
   "id": "67e35960",
   "metadata": {},
   "outputs": [],
   "source": [
    "import pandas as pd"
   ]
  },
  {
   "cell_type": "code",
   "execution_count": 2,
   "id": "e7475a12",
   "metadata": {},
   "outputs": [
    {
     "data": {
      "text/html": [
       "<div>\n",
       "<style scoped>\n",
       "    .dataframe tbody tr th:only-of-type {\n",
       "        vertical-align: middle;\n",
       "    }\n",
       "\n",
       "    .dataframe tbody tr th {\n",
       "        vertical-align: top;\n",
       "    }\n",
       "\n",
       "    .dataframe thead th {\n",
       "        text-align: right;\n",
       "    }\n",
       "</style>\n",
       "<table border=\"1\" class=\"dataframe\">\n",
       "  <thead>\n",
       "    <tr style=\"text-align: right;\">\n",
       "      <th></th>\n",
       "      <th>품목명</th>\n",
       "      <th>시설유형</th>\n",
       "      <th>재배형태</th>\n",
       "      <th>file_name</th>\n",
       "    </tr>\n",
       "  </thead>\n",
       "  <tbody>\n",
       "    <tr>\n",
       "      <th>3532</th>\n",
       "      <td>딸기</td>\n",
       "      <td>비닐</td>\n",
       "      <td>수경</td>\n",
       "      <td>경기도_문--농가데이터셋_딸기.xlsx</td>\n",
       "    </tr>\n",
       "    <tr>\n",
       "      <th>3321</th>\n",
       "      <td>딸기</td>\n",
       "      <td>비닐</td>\n",
       "      <td>수경</td>\n",
       "      <td>경기도_박--농가데이터셋_딸기.xlsx</td>\n",
       "    </tr>\n",
       "    <tr>\n",
       "      <th>3493</th>\n",
       "      <td>딸기</td>\n",
       "      <td>비닐</td>\n",
       "      <td>수경</td>\n",
       "      <td>경기도_안--농가데이터셋_딸기.xlsx</td>\n",
       "    </tr>\n",
       "    <tr>\n",
       "      <th>3531</th>\n",
       "      <td>딸기</td>\n",
       "      <td>비닐</td>\n",
       "      <td>수경</td>\n",
       "      <td>경기도_이--농가데이터셋_딸기.xlsx</td>\n",
       "    </tr>\n",
       "    <tr>\n",
       "      <th>3506</th>\n",
       "      <td>딸기</td>\n",
       "      <td>비닐</td>\n",
       "      <td>수경</td>\n",
       "      <td>경기도_장--농가데이터셋_딸기.xlsx</td>\n",
       "    </tr>\n",
       "    <tr>\n",
       "      <th>...</th>\n",
       "      <td>...</td>\n",
       "      <td>...</td>\n",
       "      <td>...</td>\n",
       "      <td>...</td>\n",
       "    </tr>\n",
       "    <tr>\n",
       "      <th>5214</th>\n",
       "      <td>토마토</td>\n",
       "      <td>비닐</td>\n",
       "      <td>토경</td>\n",
       "      <td>부산광역시_이--농가데이터셋_토마토.xlsx</td>\n",
       "    </tr>\n",
       "    <tr>\n",
       "      <th>3529</th>\n",
       "      <td>토마토</td>\n",
       "      <td>비닐</td>\n",
       "      <td>수경</td>\n",
       "      <td>전라남도_백--농가데이터셋_토마토.xlsx</td>\n",
       "    </tr>\n",
       "    <tr>\n",
       "      <th>3207</th>\n",
       "      <td>토마토</td>\n",
       "      <td>NaN</td>\n",
       "      <td>NaN</td>\n",
       "      <td>전라북도_오--농가데이터셋_토마토.xlsx</td>\n",
       "    </tr>\n",
       "    <tr>\n",
       "      <th>6544</th>\n",
       "      <td>파프리카</td>\n",
       "      <td>비닐</td>\n",
       "      <td>수경</td>\n",
       "      <td>경상남도_정--농가데이터셋_파프리카.xlsx</td>\n",
       "    </tr>\n",
       "    <tr>\n",
       "      <th>7264</th>\n",
       "      <td>파프리카</td>\n",
       "      <td>비닐</td>\n",
       "      <td>수경</td>\n",
       "      <td>전라북도_천--농가데이터셋_파프리카.xls</td>\n",
       "    </tr>\n",
       "  </tbody>\n",
       "</table>\n",
       "<p>95 rows × 4 columns</p>\n",
       "</div>"
      ],
      "text/plain": [
       "       품목명 시설유형 재배형태                 file_name\n",
       "3532    딸기   비닐   수경     경기도_문--농가데이터셋_딸기.xlsx\n",
       "3321    딸기   비닐   수경     경기도_박--농가데이터셋_딸기.xlsx\n",
       "3493    딸기   비닐   수경     경기도_안--농가데이터셋_딸기.xlsx\n",
       "3531    딸기   비닐   수경     경기도_이--농가데이터셋_딸기.xlsx\n",
       "3506    딸기   비닐   수경     경기도_장--농가데이터셋_딸기.xlsx\n",
       "...    ...  ...  ...                       ...\n",
       "5214   토마토   비닐   토경  부산광역시_이--농가데이터셋_토마토.xlsx\n",
       "3529   토마토   비닐   수경   전라남도_백--농가데이터셋_토마토.xlsx\n",
       "3207   토마토  NaN  NaN   전라북도_오--농가데이터셋_토마토.xlsx\n",
       "6544  파프리카   비닐   수경  경상남도_정--농가데이터셋_파프리카.xlsx\n",
       "7264  파프리카   비닐   수경   전라북도_천--농가데이터셋_파프리카.xls\n",
       "\n",
       "[95 rows x 4 columns]"
      ]
     },
     "execution_count": 2,
     "metadata": {},
     "output_type": "execute_result"
    }
   ],
   "source": [
    "import os\n",
    "\n",
    "path = 'dataset/'\n",
    "forder_list = os.listdir(path)\n",
    "forder_list_py = [file for file in forder_list]\n",
    "\n",
    "data = pd.DataFrame()\n",
    "for i in forder_list_py:\n",
    "    path = f'dataset/{i}/'\n",
    "    file_list = os.listdir(path)\n",
    "    file_list_py = [file for file in file_list if file.endswith('.xlsx')]\n",
    "    file_list_py += [file for file in file_list if file.endswith('.xls')]\n",
    "    \n",
    "    \n",
    "    for j in file_list_py:\n",
    "        df = pd.read_excel(path + j)\n",
    "        df['file_name'] =  j\n",
    "        df = df[['품목명','시설유형','재배형태','file_name']].tail(1)\n",
    "        data = pd.concat([data, df])\n",
    "    \n",
    "data"
   ]
  },
  {
   "cell_type": "code",
   "execution_count": 3,
   "id": "af9479b5",
   "metadata": {},
   "outputs": [
    {
     "name": "stdout",
     "output_type": "stream",
     "text": [
      "딸기\n",
      "비닐    70\n",
      "Name: 시설유형, dtype: int64\n",
      "수경    65\n",
      "토경     3\n",
      "Name: 재배형태, dtype: int64\n",
      "\n",
      "방울토마토\n",
      "비닐    5\n",
      "Name: 시설유형, dtype: int64\n",
      "수경    4\n",
      "토경    1\n",
      "Name: 재배형태, dtype: int64\n",
      "\n",
      "오이\n",
      "비닐    4\n",
      "Name: 시설유형, dtype: int64\n",
      "토경    3\n",
      "수경    1\n",
      "Name: 재배형태, dtype: int64\n",
      "\n",
      "토마토\n",
      "비닐    7\n",
      "Name: 시설유형, dtype: int64\n",
      "수경    5\n",
      "토경    2\n",
      "Name: 재배형태, dtype: int64\n",
      "\n",
      "파프리카\n",
      "비닐    2\n",
      "Name: 시설유형, dtype: int64\n",
      "수경    2\n",
      "Name: 재배형태, dtype: int64\n",
      "\n"
     ]
    }
   ],
   "source": [
    "for i in data[\"품목명\"].unique():\n",
    "    print(i)\n",
    "    print(data[data['품목명'] == i]['시설유형'].value_counts())\n",
    "    print(data[data['품목명'] == i]['재배형태'].value_counts())\n",
    "    print()"
   ]
  },
  {
   "cell_type": "code",
   "execution_count": 4,
   "id": "8ad0ec24",
   "metadata": {},
   "outputs": [],
   "source": [
    "data_straw = data[data['품목명']=='딸기']\n",
    "data_babytomato = data[data['품목명']=='방울토마토']\n",
    "data_oi = data[data['품목명']=='오이']\n",
    "data_tomato = data[data['품목명']=='토마토']\n",
    "data_pap = data[data['품목명']=='파프리카']\n",
    "        "
   ]
  },
  {
   "cell_type": "markdown",
   "id": "61bcda9f",
   "metadata": {},
   "source": [
    "#### 수경"
   ]
  },
  {
   "cell_type": "code",
   "execution_count": 26,
   "id": "82b57b70",
   "metadata": {},
   "outputs": [],
   "source": [
    "path1 = 'dataset/수경/'\n",
    "os.makedirs(path1, exist_ok = True)"
   ]
  },
  {
   "cell_type": "code",
   "execution_count": 13,
   "id": "a47df029",
   "metadata": {},
   "outputs": [],
   "source": [
    "def water_choice(df):\n",
    "    a = random.choice(df[df['재배형태']=='수경']['file_name'].unique())\n",
    "    b = df['품목명'].unique()[0]\n",
    "    path = f'dataset/{b}/'\n",
    "\n",
    "    shutil.copyfile(os.path.join(path, a),\n",
    "                    os.path.join(path1, a))"
   ]
  },
  {
   "cell_type": "code",
   "execution_count": 14,
   "id": "83ed1b18",
   "metadata": {},
   "outputs": [],
   "source": [
    "water_choice(data_straw)"
   ]
  },
  {
   "cell_type": "code",
   "execution_count": 15,
   "id": "36b6bef7",
   "metadata": {},
   "outputs": [],
   "source": [
    "water_choice(data_babytomato)"
   ]
  },
  {
   "cell_type": "code",
   "execution_count": 16,
   "id": "ccf86358",
   "metadata": {},
   "outputs": [],
   "source": [
    "water_choice(data_oi)"
   ]
  },
  {
   "cell_type": "code",
   "execution_count": 17,
   "id": "a2bb23c4",
   "metadata": {},
   "outputs": [],
   "source": [
    "water_choice(data_tomato)"
   ]
  },
  {
   "cell_type": "code",
   "execution_count": 18,
   "id": "a2298401",
   "metadata": {},
   "outputs": [],
   "source": [
    "water_choice(data_pap)"
   ]
  },
  {
   "cell_type": "markdown",
   "id": "7a1f1c3a",
   "metadata": {},
   "source": [
    "#### 토경"
   ]
  },
  {
   "cell_type": "code",
   "execution_count": 27,
   "id": "69fccc2d",
   "metadata": {},
   "outputs": [],
   "source": [
    "path1 = 'dataset/토경/'\n",
    "os.makedirs(path1, exist_ok = True)"
   ]
  },
  {
   "cell_type": "code",
   "execution_count": 20,
   "id": "ed71ceb7",
   "metadata": {},
   "outputs": [],
   "source": [
    "def land_choice(df):\n",
    "    a = random.choice(df[df['재배형태']=='토경']['file_name'].unique())\n",
    "    b = df['품목명'].unique()[0]\n",
    "    path = f'dataset/{b}/'\n",
    "\n",
    "    shutil.copyfile(os.path.join(path, a),\n",
    "                    os.path.join(path1, a))"
   ]
  },
  {
   "cell_type": "code",
   "execution_count": 21,
   "id": "4201466e",
   "metadata": {},
   "outputs": [],
   "source": [
    "land_choice(data_straw)"
   ]
  },
  {
   "cell_type": "code",
   "execution_count": 22,
   "id": "4e8401d6",
   "metadata": {},
   "outputs": [],
   "source": [
    "land_choice(data_babytomato)"
   ]
  },
  {
   "cell_type": "code",
   "execution_count": 23,
   "id": "a6012f09",
   "metadata": {},
   "outputs": [],
   "source": [
    "land_choice(data_oi)"
   ]
  },
  {
   "cell_type": "code",
   "execution_count": 24,
   "id": "20cddb55",
   "metadata": {},
   "outputs": [],
   "source": [
    "land_choice(data_tomato)"
   ]
  },
  {
   "cell_type": "code",
   "execution_count": null,
   "id": "ef24fc4e",
   "metadata": {},
   "outputs": [],
   "source": []
  }
 ],
 "metadata": {
  "kernelspec": {
   "display_name": "project2",
   "language": "python",
   "name": "project2"
  },
  "language_info": {
   "codemirror_mode": {
    "name": "ipython",
    "version": 3
   },
   "file_extension": ".py",
   "mimetype": "text/x-python",
   "name": "python",
   "nbconvert_exporter": "python",
   "pygments_lexer": "ipython3",
   "version": "3.8.9"
  }
 },
 "nbformat": 4,
 "nbformat_minor": 5
}
