{
 "cells": [
  {
   "cell_type": "code",
   "execution_count": 14,
   "id": "f16d25ab",
   "metadata": {},
   "outputs": [
    {
     "data": {
      "text/plain": [
       "['딸기', '방울토마토', '오이', '토마토', '파프리카']"
      ]
     },
     "execution_count": 14,
     "metadata": {},
     "output_type": "execute_result"
    }
   ],
   "source": [
    "import pandas as pd\n",
    "\n",
    "import os\n",
    "\n",
    "path = 'dataset/'\n",
    "forder_list = os.listdir(path)\n",
    "forder_list_py = [file for file in forder_list]\n",
    "\n",
    "forder_list_py"
   ]
  },
  {
   "cell_type": "markdown",
   "id": "221b9fd0",
   "metadata": {},
   "source": [
    "# 딸기 save"
   ]
  },
  {
   "cell_type": "code",
   "execution_count": 15,
   "id": "d0296414",
   "metadata": {},
   "outputs": [],
   "source": [
    "def straw_dataset():\n",
    "    path = f'dataset/딸기/'\n",
    "    file_list = os.listdir(path)\n",
    "    file_list_py = [file for file in file_list if file.endswith('.xlsx')]\n",
    "    file_list_py += [file for file in file_list if file.endswith('.xls')]\n",
    "    \n",
    "    cnt = 0\n",
    "    for j in file_list_py:\n",
    "        path = f'dataset/딸기/'\n",
    "        df = pd.read_excel(path + j)\n",
    "            \n",
    "        df_enc = df[['시설ID', '농가명', '시도', '시군구', '품목명', '품종', '재배면적', '시설유형', '재배형태',\n",
    "                     '수집일', '외부온도', '외부습도', '내부온도', '내부습도', '내부CO2', '내부 일사량', '토양EC', \n",
    "                     '토양PH', '지온', '지습', '조사일', '주차', '착과수']]\n",
    "        \n",
    "        path = \"dataset_resave/딸기/\"\n",
    "        if not os.path.isdir(path):                                                           \n",
    "            os.mkdir(path)\n",
    "            \n",
    "        cnt += 1\n",
    "        df_enc.to_csv(path + f\"strawberry_{cnt}.csv\", encoding='cp949')"
   ]
  },
  {
   "cell_type": "code",
   "execution_count": 16,
   "id": "74f3784c",
   "metadata": {},
   "outputs": [],
   "source": [
    "straw_dataset()"
   ]
  },
  {
   "cell_type": "markdown",
   "id": "29c825a1",
   "metadata": {},
   "source": [
    "# 방울토마토 save"
   ]
  },
  {
   "cell_type": "code",
   "execution_count": 4,
   "id": "da3a66fe",
   "metadata": {},
   "outputs": [],
   "source": [
    "def Cherry_tomato_dataset():\n",
    "    path = f'dataset/방울토마토/'\n",
    "    file_list = os.listdir(path)\n",
    "    file_list_py = [file for file in file_list if file.endswith('.xlsx')]\n",
    "    file_list_py += [file for file in file_list if file.endswith('.xls')]\n",
    "    \n",
    "    cnt = 0\n",
    "    for j in file_list_py:\n",
    "        path = f'dataset/방울토마토/'\n",
    "        df = pd.read_excel(path + j)\n",
    "            \n",
    "        df_enc = df[['시설ID', '농가명', '시도', '시군구', '품목명', '품종', '재배면적', '시설유형', '재배형태',\n",
    "                     '수집일', '외부온도', '외부습도', '내부온도', '내부습도', '내부CO2', '내부 일사량', '토양EC', \n",
    "                     '토양PH', '지온', '지습', '조사일', '주차', '열매수']]\n",
    "        \n",
    "        path = \"dataset_resave/방울토마토/\"\n",
    "        if not os.path.isdir(path):                                                           \n",
    "            os.mkdir(path)\n",
    "            \n",
    "        cnt += 1\n",
    "        df_enc.to_csv(path + f\"Cherry_tomato_{cnt}.csv\", encoding='cp949')"
   ]
  },
  {
   "cell_type": "code",
   "execution_count": 5,
   "id": "025e695e",
   "metadata": {},
   "outputs": [],
   "source": [
    "Cherry_tomato_dataset()"
   ]
  },
  {
   "cell_type": "markdown",
   "id": "b80e330d",
   "metadata": {},
   "source": [
    "# 오이 save"
   ]
  },
  {
   "cell_type": "code",
   "execution_count": 6,
   "id": "7668e68d",
   "metadata": {},
   "outputs": [],
   "source": [
    "def cucumber_dataset():\n",
    "    path = f'dataset/오이/'\n",
    "    file_list = os.listdir(path)\n",
    "    file_list_py = [file for file in file_list if file.endswith('.xlsx')]\n",
    "    file_list_py += [file for file in file_list if file.endswith('.xls')]\n",
    "    \n",
    "    cnt = 0\n",
    "    for j in file_list_py:\n",
    "        path = f'dataset/오이/'\n",
    "        df = pd.read_excel(path + j)\n",
    "            \n",
    "        df_enc = df[['시설ID', '농가명', '시도', '시군구', '품목명', '품종', '재배면적', '시설유형', '재배형태',\n",
    "                     '수집일', '외부온도', '외부습도', '내부온도', '내부습도', '내부CO2', '내부 일사량', '토양EC', \n",
    "                     '토양PH', '지온', '지습', '조사일', '주차', '열매수']]\n",
    "        \n",
    "        path = \"dataset_resave/오이/\"\n",
    "        if not os.path.isdir(path):                                                           \n",
    "            os.mkdir(path)\n",
    "            \n",
    "        cnt += 1\n",
    "        df_enc.to_csv(path + f\"cucumber_{cnt}.csv\", encoding='cp949')"
   ]
  },
  {
   "cell_type": "code",
   "execution_count": 7,
   "id": "0ece5ff5",
   "metadata": {},
   "outputs": [],
   "source": [
    "cucumber_dataset()"
   ]
  },
  {
   "cell_type": "markdown",
   "id": "73862308",
   "metadata": {},
   "source": [
    "# 토마토 save"
   ]
  },
  {
   "cell_type": "code",
   "execution_count": 8,
   "id": "e8a7df69",
   "metadata": {},
   "outputs": [],
   "source": [
    "def tomato_dataset():\n",
    "    path = f'dataset/토마토/'\n",
    "    file_list = os.listdir(path)\n",
    "    file_list_py = [file for file in file_list if file.endswith('.xlsx')]\n",
    "    file_list_py += [file for file in file_list if file.endswith('.xls')]\n",
    "    \n",
    "    cnt = 0\n",
    "    for j in file_list_py:\n",
    "        path = f'dataset/토마토/'\n",
    "        df = pd.read_excel(path + j)\n",
    "            \n",
    "        df_enc = df[['시설ID', '농가명', '시도', '시군구', '품목명', '품종', '재배면적', '시설유형', '재배형태',\n",
    "                     '수집일', '외부온도', '외부습도', '내부온도', '내부습도', '내부CO2', '내부 일사량', '토양EC', \n",
    "                     '토양PH', '지온', '지습', '조사일', '주차', '열매수']]\n",
    "        \n",
    "        path = \"dataset_resave/토마토/\"\n",
    "        if not os.path.isdir(path):                                                           \n",
    "            os.mkdir(path)\n",
    "            \n",
    "        cnt += 1\n",
    "        df_enc.to_csv(path + f\"tomato_{cnt}.csv\", encoding='cp949')"
   ]
  },
  {
   "cell_type": "code",
   "execution_count": 9,
   "id": "f0c83b31",
   "metadata": {},
   "outputs": [],
   "source": [
    "tomato_dataset()"
   ]
  },
  {
   "cell_type": "markdown",
   "id": "c66a95d0",
   "metadata": {},
   "source": [
    "# 파프리카 save"
   ]
  },
  {
   "cell_type": "code",
   "execution_count": 12,
   "id": "340a7e7d",
   "metadata": {},
   "outputs": [],
   "source": [
    "def paprika_dataset():\n",
    "    path = f'dataset/파프리카/'\n",
    "    file_list = os.listdir(path)\n",
    "    file_list_py = [file for file in file_list if file.endswith('.xlsx')]\n",
    "    file_list_py += [file for file in file_list if file.endswith('.xls')]\n",
    "    \n",
    "    cnt = 0\n",
    "    for j in file_list_py:\n",
    "        path = f'dataset/파프리카/'\n",
    "        df = pd.read_excel(path + j)\n",
    "            \n",
    "        df_enc = df[['시설ID', '농가명', '시도', '시군구', '품목명', '품종', '재배면적', '시설유형', '재배형태',\n",
    "                     '수집일', '외부온도', '외부습도', '내부온도', '내부습도', '내부CO2', '내부 일사량', '토양EC', \n",
    "                     '토양PH', '지온', '지습', '조사일', '주차', '열매수']]\n",
    "        \n",
    "        path = \"dataset_resave/파프리카/\"\n",
    "        if not os.path.isdir(path):                                                           \n",
    "            os.mkdir(path)\n",
    "            \n",
    "        cnt += 1\n",
    "        df_enc.to_csv(path + f\"paprika_{cnt}.csv\", encoding='cp949')"
   ]
  },
  {
   "cell_type": "code",
   "execution_count": 13,
   "id": "84c96cd5",
   "metadata": {},
   "outputs": [],
   "source": [
    "paprika_dataset()"
   ]
  },
  {
   "cell_type": "code",
   "execution_count": null,
   "id": "89f28865",
   "metadata": {},
   "outputs": [],
   "source": []
  }
 ],
 "metadata": {
  "kernelspec": {
   "display_name": "bio_project3",
   "language": "python",
   "name": "bio_project3"
  },
  "language_info": {
   "codemirror_mode": {
    "name": "ipython",
    "version": 3
   },
   "file_extension": ".py",
   "mimetype": "text/x-python",
   "name": "python",
   "nbconvert_exporter": "python",
   "pygments_lexer": "ipython3",
   "version": "3.8.9"
  }
 },
 "nbformat": 4,
 "nbformat_minor": 5
}
